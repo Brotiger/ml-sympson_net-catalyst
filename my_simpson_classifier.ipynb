{
 "cells": [
  {
   "cell_type": "code",
   "execution_count": 1,
   "id": "ff396579-9f30-4c71-bc58-80a728f780a5",
   "metadata": {},
   "outputs": [
    {
     "name": "stdout",
     "output_type": "stream",
     "text": [
      "True\n"
     ]
    }
   ],
   "source": [
    "import torch\n",
    "import numpy as np\n",
    "import PIL\n",
    "\n",
    "print(torch.cuda.is_available())"
   ]
  },
  {
   "cell_type": "code",
   "execution_count": 2,
   "id": "ecf37d47-da7f-44d7-a5b0-2e715a58de85",
   "metadata": {},
   "outputs": [
    {
     "name": "stdout",
     "output_type": "stream",
     "text": [
      "Sun Aug 18 15:38:47 2024       \n",
      "+---------------------------------------------------------------------------------------+\n",
      "| NVIDIA-SMI 535.183.01             Driver Version: 535.183.01   CUDA Version: 12.2     |\n",
      "|-----------------------------------------+----------------------+----------------------+\n",
      "| GPU  Name                 Persistence-M | Bus-Id        Disp.A | Volatile Uncorr. ECC |\n",
      "| Fan  Temp   Perf          Pwr:Usage/Cap |         Memory-Usage | GPU-Util  Compute M. |\n",
      "|                                         |                      |               MIG M. |\n",
      "|=========================================+======================+======================|\n",
      "|   0  NVIDIA GeForce RTX 3060        Off | 00000000:03:00.0 Off |                  N/A |\n",
      "|  0%   55C    P8               9W / 170W |     11MiB / 12288MiB |      0%      Default |\n",
      "|                                         |                      |                  N/A |\n",
      "+-----------------------------------------+----------------------+----------------------+\n",
      "|   1  NVIDIA GeForce RTX 3060        Off | 00000000:04:00.0  On |                  N/A |\n",
      "|  0%   61C    P5              12W / 170W |    690MiB / 12288MiB |      0%      Default |\n",
      "|                                         |                      |                  N/A |\n",
      "+-----------------------------------------+----------------------+----------------------+\n",
      "                                                                                         \n",
      "+---------------------------------------------------------------------------------------+\n",
      "| Processes:                                                                            |\n",
      "|  GPU   GI   CI        PID   Type   Process name                            GPU Memory |\n",
      "|        ID   ID                                                             Usage      |\n",
      "|=======================================================================================|\n",
      "|    0   N/A  N/A      3151      G   /usr/lib/xorg/Xorg                            4MiB |\n",
      "|    1   N/A  N/A      3151      G   /usr/lib/xorg/Xorg                          292MiB |\n",
      "|    1   N/A  N/A      3448      G   /usr/bin/gnome-shell                        135MiB |\n",
      "|    1   N/A  N/A      4627      G   ...seed-version=20240816-130134.023000      252MiB |\n",
      "+---------------------------------------------------------------------------------------+\n"
     ]
    }
   ],
   "source": [
    "!nvidia-smi"
   ]
  },
  {
   "cell_type": "code",
   "execution_count": 3,
   "id": "fe5791e8-62ef-4fc1-ba96-9419881abc6b",
   "metadata": {},
   "outputs": [],
   "source": [
    "import pickle\n",
    "import numpy as np\n",
    "from skimage import io\n",
    "\n",
    "from tqdm import tqdm, tqdm_notebook\n",
    "from PIL import Image\n",
    "from pathlib import Path\n",
    "\n",
    "from torchvision import transforms, models, datasets\n",
    "from multiprocessing.pool import ThreadPool\n",
    "from sklearn.preprocessing import LabelEncoder\n",
    "from torch.utils.data import Dataset, DataLoader\n",
    "import torch.nn as nn\n",
    "\n",
    "from matplotlib import colors, pyplot as plt\n",
    "%matplotlib inline"
   ]
  },
  {
   "cell_type": "code",
   "execution_count": 4,
   "id": "57023b1a-6af4-4762-8dcf-4dee9189ed72",
   "metadata": {},
   "outputs": [],
   "source": [
    "RESCALE_SIZE = 224"
   ]
  },
  {
   "cell_type": "code",
   "execution_count": 5,
   "id": "d038d212-7466-4f9b-90c3-6f105649121e",
   "metadata": {},
   "outputs": [],
   "source": [
    "train_transforms = transforms.Compose([\n",
    "    transforms.Resize((RESCALE_SIZE, RESCALE_SIZE)),\n",
    "    #transforms.AutoAugment(),\n",
    "    transforms.ToTensor(),\n",
    "    transforms.Lambda(lambda x: x / 255),\n",
    "    transforms.Normalize([0.485, 0.456, 0.406], [0.229, 0.224, 0.225]),\n",
    "])"
   ]
  },
  {
   "cell_type": "code",
   "execution_count": 6,
   "id": "14325089-6997-4ed2-9ce1-a7c127200e6c",
   "metadata": {},
   "outputs": [],
   "source": [
    "train_dir = \"./journey-springfield/train/simpsons_dataset\""
   ]
  },
  {
   "cell_type": "code",
   "execution_count": 7,
   "id": "dbdc19f3-de9e-4022-aa4d-bd7f5023ef8d",
   "metadata": {},
   "outputs": [],
   "source": [
    "import math\n",
    "\n",
    "image_datasets = datasets.ImageFolder(train_dir, train_transforms)"
   ]
  },
  {
   "cell_type": "code",
   "execution_count": 8,
   "id": "3a5c683e-589c-4102-8cf7-4f919e202d8a",
   "metadata": {},
   "outputs": [],
   "source": [
    "dataset_len = len(image_datasets)\n",
    "p1 = (dataset_len / 100)\n",
    "train_size = math.floor(p1 * 70)\n",
    "test_size = dataset_len - train_size"
   ]
  },
  {
   "cell_type": "code",
   "execution_count": 9,
   "id": "95e1ee19-f526-43cc-91ed-8a44e8a81280",
   "metadata": {},
   "outputs": [],
   "source": [
    "train_dataset, val_dataset = torch.utils.data.random_split(image_datasets, [train_size, test_size])"
   ]
  },
  {
   "cell_type": "code",
   "execution_count": 10,
   "id": "6263b8aa-9058-4255-b21a-20fc994bea3e",
   "metadata": {},
   "outputs": [
    {
     "data": {
      "text/plain": [
       "(14653, 6280)"
      ]
     },
     "execution_count": 10,
     "metadata": {},
     "output_type": "execute_result"
    }
   ],
   "source": [
    "len(train_dataset), len(val_dataset)"
   ]
  },
  {
   "cell_type": "code",
   "execution_count": 11,
   "id": "a3c32887-f933-4411-88b9-dabaff295c03",
   "metadata": {},
   "outputs": [],
   "source": [
    "train_dataloader = torch.utils.data.DataLoader(\n",
    "    train_dataset, batch_size=128, num_workers=torch.cpu.device_count(),\n",
    "    shuffle=True\n",
    ")\n",
    "val_dataloader = torch.utils.data.DataLoader(\n",
    "    val_dataset, batch_size=128, num_workers=torch.cpu.device_count(),\n",
    ")\n",
    "\n",
    "loaders = {\n",
    "    \"train\": train_dataloader,\n",
    "    \"valid\": val_dataloader\n",
    "}"
   ]
  },
  {
   "cell_type": "code",
   "execution_count": 12,
   "id": "bafe9fb0-60e2-4877-af54-63a3b7d8b67e",
   "metadata": {},
   "outputs": [
    {
     "name": "stderr",
     "output_type": "stream",
     "text": [
      "/home/dmitry/Documents/programming/study/ml/venv/lib/python3.12/site-packages/torchvision/models/_utils.py:208: UserWarning: The parameter 'pretrained' is deprecated since 0.13 and may be removed in the future, please use 'weights' instead.\n",
      "  warnings.warn(\n",
      "/home/dmitry/Documents/programming/study/ml/venv/lib/python3.12/site-packages/torchvision/models/_utils.py:223: UserWarning: Arguments other than a weight enum or `None` for 'weights' are deprecated since 0.13 and may be removed in the future. The current behavior is equivalent to passing `weights=ResNet18_Weights.IMAGENET1K_V1`. You can also use `weights=ResNet18_Weights.DEFAULT` to get the most up-to-date weights.\n",
      "  warnings.warn(msg)\n"
     ]
    },
    {
     "data": {
      "text/plain": [
       "ResNet(\n",
       "  (conv1): Conv2d(3, 64, kernel_size=(7, 7), stride=(2, 2), padding=(3, 3), bias=False)\n",
       "  (bn1): BatchNorm2d(64, eps=1e-05, momentum=0.1, affine=True, track_running_stats=True)\n",
       "  (relu): ReLU(inplace=True)\n",
       "  (maxpool): MaxPool2d(kernel_size=3, stride=2, padding=1, dilation=1, ceil_mode=False)\n",
       "  (layer1): Sequential(\n",
       "    (0): BasicBlock(\n",
       "      (conv1): Conv2d(64, 64, kernel_size=(3, 3), stride=(1, 1), padding=(1, 1), bias=False)\n",
       "      (bn1): BatchNorm2d(64, eps=1e-05, momentum=0.1, affine=True, track_running_stats=True)\n",
       "      (relu): ReLU(inplace=True)\n",
       "      (conv2): Conv2d(64, 64, kernel_size=(3, 3), stride=(1, 1), padding=(1, 1), bias=False)\n",
       "      (bn2): BatchNorm2d(64, eps=1e-05, momentum=0.1, affine=True, track_running_stats=True)\n",
       "    )\n",
       "    (1): BasicBlock(\n",
       "      (conv1): Conv2d(64, 64, kernel_size=(3, 3), stride=(1, 1), padding=(1, 1), bias=False)\n",
       "      (bn1): BatchNorm2d(64, eps=1e-05, momentum=0.1, affine=True, track_running_stats=True)\n",
       "      (relu): ReLU(inplace=True)\n",
       "      (conv2): Conv2d(64, 64, kernel_size=(3, 3), stride=(1, 1), padding=(1, 1), bias=False)\n",
       "      (bn2): BatchNorm2d(64, eps=1e-05, momentum=0.1, affine=True, track_running_stats=True)\n",
       "    )\n",
       "  )\n",
       "  (layer2): Sequential(\n",
       "    (0): BasicBlock(\n",
       "      (conv1): Conv2d(64, 128, kernel_size=(3, 3), stride=(2, 2), padding=(1, 1), bias=False)\n",
       "      (bn1): BatchNorm2d(128, eps=1e-05, momentum=0.1, affine=True, track_running_stats=True)\n",
       "      (relu): ReLU(inplace=True)\n",
       "      (conv2): Conv2d(128, 128, kernel_size=(3, 3), stride=(1, 1), padding=(1, 1), bias=False)\n",
       "      (bn2): BatchNorm2d(128, eps=1e-05, momentum=0.1, affine=True, track_running_stats=True)\n",
       "      (downsample): Sequential(\n",
       "        (0): Conv2d(64, 128, kernel_size=(1, 1), stride=(2, 2), bias=False)\n",
       "        (1): BatchNorm2d(128, eps=1e-05, momentum=0.1, affine=True, track_running_stats=True)\n",
       "      )\n",
       "    )\n",
       "    (1): BasicBlock(\n",
       "      (conv1): Conv2d(128, 128, kernel_size=(3, 3), stride=(1, 1), padding=(1, 1), bias=False)\n",
       "      (bn1): BatchNorm2d(128, eps=1e-05, momentum=0.1, affine=True, track_running_stats=True)\n",
       "      (relu): ReLU(inplace=True)\n",
       "      (conv2): Conv2d(128, 128, kernel_size=(3, 3), stride=(1, 1), padding=(1, 1), bias=False)\n",
       "      (bn2): BatchNorm2d(128, eps=1e-05, momentum=0.1, affine=True, track_running_stats=True)\n",
       "    )\n",
       "  )\n",
       "  (layer3): Sequential(\n",
       "    (0): BasicBlock(\n",
       "      (conv1): Conv2d(128, 256, kernel_size=(3, 3), stride=(2, 2), padding=(1, 1), bias=False)\n",
       "      (bn1): BatchNorm2d(256, eps=1e-05, momentum=0.1, affine=True, track_running_stats=True)\n",
       "      (relu): ReLU(inplace=True)\n",
       "      (conv2): Conv2d(256, 256, kernel_size=(3, 3), stride=(1, 1), padding=(1, 1), bias=False)\n",
       "      (bn2): BatchNorm2d(256, eps=1e-05, momentum=0.1, affine=True, track_running_stats=True)\n",
       "      (downsample): Sequential(\n",
       "        (0): Conv2d(128, 256, kernel_size=(1, 1), stride=(2, 2), bias=False)\n",
       "        (1): BatchNorm2d(256, eps=1e-05, momentum=0.1, affine=True, track_running_stats=True)\n",
       "      )\n",
       "    )\n",
       "    (1): BasicBlock(\n",
       "      (conv1): Conv2d(256, 256, kernel_size=(3, 3), stride=(1, 1), padding=(1, 1), bias=False)\n",
       "      (bn1): BatchNorm2d(256, eps=1e-05, momentum=0.1, affine=True, track_running_stats=True)\n",
       "      (relu): ReLU(inplace=True)\n",
       "      (conv2): Conv2d(256, 256, kernel_size=(3, 3), stride=(1, 1), padding=(1, 1), bias=False)\n",
       "      (bn2): BatchNorm2d(256, eps=1e-05, momentum=0.1, affine=True, track_running_stats=True)\n",
       "    )\n",
       "  )\n",
       "  (layer4): Sequential(\n",
       "    (0): BasicBlock(\n",
       "      (conv1): Conv2d(256, 512, kernel_size=(3, 3), stride=(2, 2), padding=(1, 1), bias=False)\n",
       "      (bn1): BatchNorm2d(512, eps=1e-05, momentum=0.1, affine=True, track_running_stats=True)\n",
       "      (relu): ReLU(inplace=True)\n",
       "      (conv2): Conv2d(512, 512, kernel_size=(3, 3), stride=(1, 1), padding=(1, 1), bias=False)\n",
       "      (bn2): BatchNorm2d(512, eps=1e-05, momentum=0.1, affine=True, track_running_stats=True)\n",
       "      (downsample): Sequential(\n",
       "        (0): Conv2d(256, 512, kernel_size=(1, 1), stride=(2, 2), bias=False)\n",
       "        (1): BatchNorm2d(512, eps=1e-05, momentum=0.1, affine=True, track_running_stats=True)\n",
       "      )\n",
       "    )\n",
       "    (1): BasicBlock(\n",
       "      (conv1): Conv2d(512, 512, kernel_size=(3, 3), stride=(1, 1), padding=(1, 1), bias=False)\n",
       "      (bn1): BatchNorm2d(512, eps=1e-05, momentum=0.1, affine=True, track_running_stats=True)\n",
       "      (relu): ReLU(inplace=True)\n",
       "      (conv2): Conv2d(512, 512, kernel_size=(3, 3), stride=(1, 1), padding=(1, 1), bias=False)\n",
       "      (bn2): BatchNorm2d(512, eps=1e-05, momentum=0.1, affine=True, track_running_stats=True)\n",
       "    )\n",
       "  )\n",
       "  (avgpool): AdaptiveAvgPool2d(output_size=(1, 1))\n",
       "  (fc): Linear(in_features=512, out_features=1000, bias=True)\n",
       ")"
      ]
     },
     "execution_count": 12,
     "metadata": {},
     "output_type": "execute_result"
    }
   ],
   "source": [
    "model_resnet18 = models.resnet18(pretrained=True)\n",
    "model_resnet18"
   ]
  },
  {
   "cell_type": "code",
   "execution_count": 13,
   "id": "b6aea76a-637b-4881-b73d-513c04e3fdc6",
   "metadata": {},
   "outputs": [],
   "source": [
    "for param in model_resnet18.parameters():\n",
    "    param.requires_grad = False"
   ]
  },
  {
   "cell_type": "code",
   "execution_count": 14,
   "id": "a3061edf-26aa-40ae-81d2-0bd15307b0a4",
   "metadata": {},
   "outputs": [],
   "source": [
    "for param in model_resnet18.avgpool.parameters():\n",
    "    param.requires_grad = True\n",
    "    \n",
    "for param in model_resnet18.layer4.parameters():\n",
    "    param.requires_grad = True\n",
    "\n",
    "for param in model_resnet18.layer3.parameters():\n",
    "    param.requires_grad = True\n",
    "\n",
    "for param in model_resnet18.layer2.parameters():\n",
    "    param.requires_grad = True"
   ]
  },
  {
   "cell_type": "code",
   "execution_count": 15,
   "id": "d4b42076-38fe-453e-9c01-f92f9ded107f",
   "metadata": {},
   "outputs": [],
   "source": [
    "num_classes = 42\n",
    "model_resnet18.fc = nn.Sequential(\n",
    "    nn.Sequential(\n",
    "        nn.Linear(512, 512),\n",
    "        nn.BatchNorm1d(512),\n",
    "        nn.Dropout(0.5),\n",
    "        nn.ReLU()\n",
    "    ),\n",
    "    nn.Sequential(\n",
    "        nn.Linear(512, 512),\n",
    "        nn.Linear(512, num_classes)\n",
    "    )\n",
    ") "
   ]
  },
  {
   "cell_type": "code",
   "execution_count": 16,
   "id": "d3b602f1-e72d-484a-82d3-905e12789f13",
   "metadata": {},
   "outputs": [],
   "source": [
    "import torch.optim as optim\n",
    "\n",
    "optimizer = optim.Adam(\n",
    "    (\n",
    "        {\n",
    "            \"params\": model_resnet18.layer2.parameters(),\n",
    "            \"lr\": 1e-5\n",
    "        },\n",
    "        {\n",
    "            \"params\": model_resnet18.layer3.parameters(),\n",
    "            \"lr\": 1e-4\n",
    "        },\n",
    "        {\n",
    "            \"params\": model_resnet18.layer4.parameters(),\n",
    "            \"lr\": 1e-3\n",
    "        },\n",
    "        {\n",
    "            \"params\": model_resnet18.avgpool.parameters()\n",
    "        },\n",
    "        {\n",
    "            \"params\": model_resnet18.fc.parameters()\n",
    "        }\n",
    "    ), lr=1e-2)\n",
    "scheduler = optim.lr_scheduler.StepLR(optimizer, 5, gamma=0.5)"
   ]
  },
  {
   "cell_type": "code",
   "execution_count": 17,
   "id": "79a13a41-64a1-4b5b-a3b9-1579a54706f6",
   "metadata": {},
   "outputs": [],
   "source": [
    "!rm -rf logs"
   ]
  },
  {
   "cell_type": "code",
   "execution_count": 18,
   "id": "122f9d9a-13a6-4af3-8524-c0a0bb46af82",
   "metadata": {},
   "outputs": [],
   "source": [
    "from catalyst import dl\n",
    "        \n",
    "runner = dl.SupervisedRunner()"
   ]
  },
  {
   "cell_type": "code",
   "execution_count": 27,
   "id": "4b54d929-4898-437f-86b5-0ec5a9c76e9e",
   "metadata": {},
   "outputs": [
    {
     "name": "stderr",
     "output_type": "stream",
     "text": [
      "1/1 * Epoch (train): 100%|█| 115/115 [00:38<00:00,  4.21it/s, accuracy01=0.689, /home/dmitry/Documents/programming/study/ml/venv/lib/python3.12/site-packages/accelerate/utils/dataclasses.py:480: FutureWarning: The `TPU` of `<enum 'DistributedType'>` is deprecated and will be removed in v1.0.0. Please use the `XLA` instead.\n",
      "  warnings.warn(\n",
      "1/1 * Epoch (train): 100%|█| 115/115 [00:38<00:00,  2.97it/s, accuracy01=0.689, \n"
     ]
    },
    {
     "name": "stdout",
     "output_type": "stream",
     "text": [
      "train (1/1) accuracy01: 0.6130485222956786 | accuracy01/std: 0.1744946522347089 | f1/_macro: 0.29911824800408965 | f1/_micro: 0.613043522527642 | f1/_weighted: 0.5981767682085427 | loss: 1.8176660946365224 | loss/mean: 1.8176660946365224 | loss/std: 1.3987019730974475 | lr: 1e-05 | momentum: 0.9 | precision/_macro: 0.32270164806819585 | precision/_micro: 0.6130485224868627 | precision/_weighted: 0.5907551653414108 | recall/_macro: 0.2963525272342956 | recall/_micro: 0.6130485224868627 | recall/_weighted: 0.6130485224868626\n"
     ]
    },
    {
     "name": "stderr",
     "output_type": "stream",
     "text": [
      "1/1 * Epoch (valid): 100%|█| 50/50 [00:12<00:00,  4.01it/s, accuracy01=0.875, lo\n"
     ]
    },
    {
     "name": "stdout",
     "output_type": "stream",
     "text": [
      "valid (1/1) accuracy01: 0.7780254777070064 | accuracy01/std: 0.03613852157255981 | f1/_macro: 0.39458729293905226 | f1/_micro: 0.7780204777391387 | f1/_weighted: 0.7518811656080608 | loss: 0.9281402362380056 | loss/mean: 0.9281402362380056 | loss/std: 0.22820435465271505 | lr: 1e-05 | momentum: 0.9 | precision/_macro: 0.4914469224682573 | precision/_micro: 0.7780254777070064 | precision/_weighted: 0.7653520602391035 | recall/_macro: 0.38802097413766923 | recall/_micro: 0.7780254777070064 | recall/_weighted: 0.7780254777070064\n",
      "* Epoch (1/1) lr: 1e-05 | momentum: 0.9\n",
      "Top models:\n",
      "logs/resnet18/checkpoints/model.0001.pth\t1.0000\n",
      "CPU times: user 25.8 s, sys: 4.81 s, total: 30.6 s\n",
      "Wall time: 52 s\n"
     ]
    },
    {
     "name": "stderr",
     "output_type": "stream",
     "text": [
      "/home/dmitry/Documents/programming/study/ml/venv/lib/python3.12/site-packages/catalyst/utils/torch.py:369: FutureWarning: You are using `torch.load` with `weights_only=False` (the current default value), which uses the default pickle module implicitly. It is possible to construct malicious pickle data which will execute arbitrary code during unpickling (See https://github.com/pytorch/pytorch/blob/main/SECURITY.md#untrusted-models for more details). In a future release, the default value for `weights_only` will be flipped to `True`. This limits the functions that could be executed during unpickling. Arbitrary objects will no longer be allowed to be loaded via this mode unless they are explicitly allowlisted by the user via `torch.serialization.add_safe_globals`. We recommend you start setting `weights_only=True` for any use case where you don't have full control of the loaded file. Please open an issue on GitHub for any issues related to this experimental feature.\n",
      "  checkpoint = torch.load(path, map_location=lambda storage, loc: storage)\n"
     ]
    }
   ],
   "source": [
    "%%time\n",
    "\n",
    "runner.train(\n",
    "    model=model_resnet18,\n",
    "    engine=dl.GPUEngine(),\n",
    "    optimizer=optimizer,\n",
    "    criterion=nn.CrossEntropyLoss(),\n",
    "    scheduler=scheduler,\n",
    "    callbacks=[\n",
    "        dl.CriterionCallback(input_key=\"logits\", target_key=\"targets\", metric_key=\"loss\"),\n",
    "        dl.BackwardCallback(metric_key=\"loss\"),\n",
    "        dl.OptimizerCallback(metric_key=\"loss\"), \n",
    "        dl.AccuracyCallback(input_key=\"logits\", target_key=\"targets\"),\n",
    "        dl.SchedulerCallback(),\n",
    "        dl.PrecisionRecallF1SupportCallback(\n",
    "            input_key=\"logits\", target_key=\"targets\", num_classes=num_classes, log_on_batch=False\n",
    "        )\n",
    "    ],\n",
    "    loaders=loaders,\n",
    "    num_epochs=35,\n",
    "    verbose=True,\n",
    "    logdir=\"logs/resnet18\",\n",
    "    load_best_on_end=True\n",
    ")"
   ]
  },
  {
   "cell_type": "code",
   "execution_count": 28,
   "id": "5837be40-a746-4a58-b401-f87d85491d79",
   "metadata": {},
   "outputs": [
    {
     "name": "stdout",
     "output_type": "stream",
     "text": [
      "The tensorboard extension is already loaded. To reload it, use:\n",
      "  %reload_ext tensorboard\n"
     ]
    },
    {
     "data": {
      "text/plain": [
       "Reusing TensorBoard on port 6006 (pid 6511), started 0:02:14 ago. (Use '!kill 6511' to kill it.)"
      ]
     },
     "metadata": {},
     "output_type": "display_data"
    },
    {
     "data": {
      "text/html": [
       "\n",
       "      <iframe id=\"tensorboard-frame-493cd01609de8895\" width=\"100%\" height=\"800\" frameborder=\"0\">\n",
       "      </iframe>\n",
       "      <script>\n",
       "        (function() {\n",
       "          const frame = document.getElementById(\"tensorboard-frame-493cd01609de8895\");\n",
       "          const url = new URL(\"/\", window.location);\n",
       "          const port = 6006;\n",
       "          if (port) {\n",
       "            url.port = port;\n",
       "          }\n",
       "          frame.src = url;\n",
       "        })();\n",
       "      </script>\n",
       "    "
      ],
      "text/plain": [
       "<IPython.core.display.HTML object>"
      ]
     },
     "metadata": {},
     "output_type": "display_data"
    }
   ],
   "source": [
    "%load_ext tensorboard\n",
    "%tensorboard --logdir logs"
   ]
  },
  {
   "cell_type": "code",
   "execution_count": 21,
   "id": "3be3fc95-5df6-414c-aed2-ca3bcb800c33",
   "metadata": {},
   "outputs": [],
   "source": [
    "import os\n",
    "\n",
    "class TestDataset(Dataset):\n",
    "    def __init__(self, root, transforms):\n",
    "        super().__init__()\n",
    "        self.files = sorted(list(Path(root).rglob('*.jpg')), key=self.extract_image_number)\n",
    "        self.transforms = transforms\n",
    "\n",
    "    def __len__(self):\n",
    "        return len(self.files)\n",
    "\n",
    "    def __getitem__(self, index):\n",
    "        x = self.load_sample(self.files[index])\n",
    "        return self.transforms(x), 0\n",
    "\n",
    "    def load_sample(self, file):\n",
    "        image = Image.open(file)\n",
    "        image.load()\n",
    "        return image\n",
    "\n",
    "    def extract_image_number(self, path):\n",
    "        filename = os.path.basename(path)\n",
    "        return int(filename[3:-4])"
   ]
  },
  {
   "cell_type": "code",
   "execution_count": 22,
   "id": "6bae9151-f4e8-4290-a0c8-e3117f27286b",
   "metadata": {},
   "outputs": [],
   "source": [
    "test_transforms = transforms.Compose([\n",
    "    transforms.Resize((RESCALE_SIZE, RESCALE_SIZE)),\n",
    "    transforms.ToTensor(),\n",
    "    transforms.Lambda(lambda x: x / 255),\n",
    "    transforms.Normalize([0.485, 0.456, 0.406], [0.229, 0.224, 0.225]),\n",
    "])"
   ]
  },
  {
   "cell_type": "code",
   "execution_count": 23,
   "id": "f932a4e9-803d-4673-84ad-49f1ad5e3fed",
   "metadata": {},
   "outputs": [],
   "source": [
    "test_dir = \"./testset/testset\"\n",
    "test_dataset = TestDataset(test_dir, test_transforms)"
   ]
  },
  {
   "cell_type": "code",
   "execution_count": 24,
   "id": "9ec944c4-b89f-43de-a737-3dfb78352e65",
   "metadata": {},
   "outputs": [],
   "source": [
    "test_dataloader = torch.utils.data.DataLoader(\n",
    "    test_dataset, batch_size=128\n",
    ")"
   ]
  },
  {
   "cell_type": "code",
   "execution_count": 25,
   "id": "46a9b226-4fdd-4fb9-9fa9-c40aaf5e1b23",
   "metadata": {
    "scrolled": true
   },
   "outputs": [
    {
     "ename": "AssertionError",
     "evalue": "",
     "output_type": "error",
     "traceback": [
      "\u001b[0;31m---------------------------------------------------------------------------\u001b[0m",
      "\u001b[0;31mAssertionError\u001b[0m                            Traceback (most recent call last)",
      "Cell \u001b[0;32mIn[25], line 3\u001b[0m\n\u001b[1;32m      1\u001b[0m result \u001b[38;5;241m=\u001b[39m []\n\u001b[0;32m----> 3\u001b[0m \u001b[38;5;28;43;01mfor\u001b[39;49;00m\u001b[43m \u001b[49m\u001b[43mprediction\u001b[49m\u001b[43m \u001b[49m\u001b[38;5;129;43;01min\u001b[39;49;00m\u001b[43m \u001b[49m\u001b[43mrunner\u001b[49m\u001b[38;5;241;43m.\u001b[39;49m\u001b[43mpredict_loader\u001b[49m\u001b[43m(\u001b[49m\u001b[43mengine\u001b[49m\u001b[38;5;241;43m=\u001b[39;49m\u001b[43mdl\u001b[49m\u001b[38;5;241;43m.\u001b[39;49m\u001b[43mGPUEngine\u001b[49m\u001b[43m(\u001b[49m\u001b[38;5;124;43m\"\u001b[39;49m\u001b[38;5;124;43mcuda\u001b[39;49m\u001b[38;5;124;43m\"\u001b[39;49m\u001b[43m)\u001b[49m\u001b[43m,\u001b[49m\u001b[43m \u001b[49m\u001b[43mloader\u001b[49m\u001b[38;5;241;43m=\u001b[39;49m\u001b[43mtest_dataloader\u001b[49m\u001b[43m)\u001b[49m\u001b[43m:\u001b[49m\n\u001b[1;32m      4\u001b[0m \u001b[43m    \u001b[49m\u001b[43mresult\u001b[49m\u001b[43m \u001b[49m\u001b[38;5;241;43m+\u001b[39;49m\u001b[38;5;241;43m=\u001b[39;49m\u001b[43m \u001b[49m\u001b[43mprediction\u001b[49m\u001b[43m[\u001b[49m\u001b[38;5;124;43m'\u001b[39;49m\u001b[38;5;124;43mlogits\u001b[39;49m\u001b[38;5;124;43m'\u001b[39;49m\u001b[43m]\u001b[49m\u001b[38;5;241;43m.\u001b[39;49m\u001b[43mdetach\u001b[49m\u001b[43m(\u001b[49m\u001b[43m)\u001b[49m\u001b[38;5;241;43m.\u001b[39;49m\u001b[43mcpu\u001b[49m\u001b[43m(\u001b[49m\u001b[43m)\u001b[49m\u001b[38;5;241;43m.\u001b[39;49m\u001b[43mnumpy\u001b[49m\u001b[43m(\u001b[49m\u001b[43m)\u001b[49m\u001b[38;5;241;43m.\u001b[39;49m\u001b[43margmax\u001b[49m\u001b[43m(\u001b[49m\u001b[38;5;241;43m1\u001b[39;49m\u001b[43m)\u001b[49m\u001b[38;5;241;43m.\u001b[39;49m\u001b[43mtolist\u001b[49m\u001b[43m(\u001b[49m\u001b[43m)\u001b[49m\n",
      "File \u001b[0;32m~/Documents/programming/study/ml/venv/lib/python3.12/site-packages/torch/utils/_contextlib.py:36\u001b[0m, in \u001b[0;36m_wrap_generator.<locals>.generator_context\u001b[0;34m(*args, **kwargs)\u001b[0m\n\u001b[1;32m     33\u001b[0m \u001b[38;5;28;01mtry\u001b[39;00m:\n\u001b[1;32m     34\u001b[0m     \u001b[38;5;66;03m# Issuing `None` to a generator fires it up\u001b[39;00m\n\u001b[1;32m     35\u001b[0m     \u001b[38;5;28;01mwith\u001b[39;00m ctx_factory():\n\u001b[0;32m---> 36\u001b[0m         response \u001b[38;5;241m=\u001b[39m \u001b[43mgen\u001b[49m\u001b[38;5;241;43m.\u001b[39;49m\u001b[43msend\u001b[49m\u001b[43m(\u001b[49m\u001b[38;5;28;43;01mNone\u001b[39;49;00m\u001b[43m)\u001b[49m\n\u001b[1;32m     38\u001b[0m     \u001b[38;5;28;01mwhile\u001b[39;00m \u001b[38;5;28;01mTrue\u001b[39;00m:\n\u001b[1;32m     39\u001b[0m         \u001b[38;5;28;01mtry\u001b[39;00m:\n\u001b[1;32m     40\u001b[0m             \u001b[38;5;66;03m# Forward the response to our caller and get its next request\u001b[39;00m\n",
      "File \u001b[0;32m~/Documents/programming/study/ml/venv/lib/python3.12/site-packages/catalyst/runners/runner.py:435\u001b[0m, in \u001b[0;36mRunner.predict_loader\u001b[0;34m(self, loader, model, engine, seed, resume, cpu, fp16)\u001b[0m\n\u001b[1;32m    433\u001b[0m \u001b[38;5;28;01mif\u001b[39;00m model \u001b[38;5;129;01mis\u001b[39;00m \u001b[38;5;129;01mnot\u001b[39;00m \u001b[38;5;28;01mNone\u001b[39;00m:\n\u001b[1;32m    434\u001b[0m     \u001b[38;5;28mself\u001b[39m\u001b[38;5;241m.\u001b[39mmodel \u001b[38;5;241m=\u001b[39m model\n\u001b[0;32m--> 435\u001b[0m \u001b[38;5;28;01massert\u001b[39;00m \u001b[38;5;28mself\u001b[39m\u001b[38;5;241m.\u001b[39mmodel \u001b[38;5;129;01mis\u001b[39;00m \u001b[38;5;129;01mnot\u001b[39;00m \u001b[38;5;28;01mNone\u001b[39;00m\n\u001b[1;32m    437\u001b[0m \u001b[38;5;28;01mif\u001b[39;00m resume \u001b[38;5;129;01mis\u001b[39;00m \u001b[38;5;129;01mnot\u001b[39;00m \u001b[38;5;28;01mNone\u001b[39;00m:\n\u001b[1;32m    438\u001b[0m     \u001b[38;5;28mself\u001b[39m\u001b[38;5;241m.\u001b[39mengine\u001b[38;5;241m.\u001b[39mwait_for_everyone()\n",
      "\u001b[0;31mAssertionError\u001b[0m: "
     ]
    }
   ],
   "source": [
    "result = []\n",
    "\n",
    "for prediction in runner.predict_loader(engine=dl.GPUEngine(\"cuda\"), loader=test_dataloader):\n",
    "    result += prediction['logits'].detach().cpu().numpy().argmax(1).tolist()"
   ]
  },
  {
   "cell_type": "code",
   "execution_count": null,
   "id": "fa566d97-06bf-46c0-b747-2d0b99985e96",
   "metadata": {},
   "outputs": [],
   "source": [
    "from sklearn.preprocessing import LabelEncoder\n",
    "\n",
    "label_encoder = LabelEncoder()\n",
    "label_encoder.fit(image_datasets.classes)"
   ]
  },
  {
   "cell_type": "code",
   "execution_count": null,
   "id": "877d9596-6055-4298-9146-02f5c59fba4c",
   "metadata": {},
   "outputs": [],
   "source": [
    "import pandas as pd\n",
    "\n",
    "sample_submission_path = 'sample_submission.csv'\n",
    "submission = pd.read_csv(sample_submission_path)\n",
    "submission.head()"
   ]
  },
  {
   "cell_type": "code",
   "execution_count": null,
   "id": "7694b976-7403-41a8-9d30-ff09f3067421",
   "metadata": {},
   "outputs": [],
   "source": [
    "submission['Expected'] = label_encoder.inverse_transform(result)\n",
    "submission"
   ]
  },
  {
   "cell_type": "code",
   "execution_count": null,
   "id": "ba918f3e-2b49-42b0-9cb2-e5ed710cadda",
   "metadata": {},
   "outputs": [],
   "source": [
    "submission_path = 'submission.csv'\n",
    "submission.to_csv(submission_path, index=None)"
   ]
  },
  {
   "cell_type": "code",
   "execution_count": null,
   "id": "b0f2cb13-0ef5-4fff-a91a-fcb45bc0733c",
   "metadata": {},
   "outputs": [],
   "source": []
  }
 ],
 "metadata": {
  "kernelspec": {
   "display_name": "Python 3 (ipykernel)",
   "language": "python",
   "name": "python3"
  },
  "language_info": {
   "codemirror_mode": {
    "name": "ipython",
    "version": 3
   },
   "file_extension": ".py",
   "mimetype": "text/x-python",
   "name": "python",
   "nbconvert_exporter": "python",
   "pygments_lexer": "ipython3",
   "version": "3.12.3"
  }
 },
 "nbformat": 4,
 "nbformat_minor": 5
}
