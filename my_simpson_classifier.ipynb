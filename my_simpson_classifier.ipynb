{
 "cells": [
  {
   "cell_type": "code",
   "execution_count": 1,
   "id": "ff396579-9f30-4c71-bc58-80a728f780a5",
   "metadata": {},
   "outputs": [
    {
     "name": "stdout",
     "output_type": "stream",
     "text": [
      "True\n"
     ]
    }
   ],
   "source": [
    "import torch\n",
    "import numpy as np\n",
    "import PIL\n",
    "\n",
    "print(torch.cuda.is_available())"
   ]
  },
  {
   "cell_type": "code",
   "execution_count": 2,
   "id": "ecf37d47-da7f-44d7-a5b0-2e715a58de85",
   "metadata": {},
   "outputs": [
    {
     "name": "stdout",
     "output_type": "stream",
     "text": [
      "Tue Aug 20 20:51:47 2024       \n",
      "+---------------------------------------------------------------------------------------+\n",
      "| NVIDIA-SMI 535.183.01             Driver Version: 535.183.01   CUDA Version: 12.2     |\n",
      "|-----------------------------------------+----------------------+----------------------+\n",
      "| GPU  Name                 Persistence-M | Bus-Id        Disp.A | Volatile Uncorr. ECC |\n",
      "| Fan  Temp   Perf          Pwr:Usage/Cap |         Memory-Usage | GPU-Util  Compute M. |\n",
      "|                                         |                      |               MIG M. |\n",
      "|=========================================+======================+======================|\n",
      "|   0  NVIDIA GeForce RTX 3060        Off | 00000000:03:00.0 Off |                  N/A |\n",
      "| 30%   49C    P8              13W / 170W |     11MiB / 12288MiB |      0%      Default |\n",
      "|                                         |                      |                  N/A |\n",
      "+-----------------------------------------+----------------------+----------------------+\n",
      "|   1  NVIDIA GeForce RTX 3060        Off | 00000000:04:00.0  On |                  N/A |\n",
      "|  0%   47C    P5              16W / 170W |   1274MiB / 12288MiB |     29%      Default |\n",
      "|                                         |                      |                  N/A |\n",
      "+-----------------------------------------+----------------------+----------------------+\n",
      "                                                                                         \n",
      "+---------------------------------------------------------------------------------------+\n",
      "| Processes:                                                                            |\n",
      "|  GPU   GI   CI        PID   Type   Process name                            GPU Memory |\n",
      "|        ID   ID                                                             Usage      |\n",
      "|=======================================================================================|\n",
      "|    0   N/A  N/A      3191      G   /usr/lib/xorg/Xorg                            4MiB |\n",
      "|    1   N/A  N/A      3191      G   /usr/lib/xorg/Xorg                          622MiB |\n",
      "|    1   N/A  N/A      3538      G   /usr/bin/gnome-shell                         70MiB |\n",
      "|    1   N/A  N/A      4241      G   ...seed-version=20240819-180131.973000      277MiB |\n",
      "|    1   N/A  N/A      6973      G   ...sktop/6088/usr/bin/telegram-desktop      221MiB |\n",
      "|    1   N/A  N/A      7349      G   /usr/bin/nautilus                            19MiB |\n",
      "|    1   N/A  N/A      7684      G   /usr/bin/gnome-text-editor                   15MiB |\n",
      "+---------------------------------------------------------------------------------------+\n"
     ]
    }
   ],
   "source": [
    "!nvidia-smi"
   ]
  },
  {
   "cell_type": "code",
   "execution_count": 3,
   "id": "fe5791e8-62ef-4fc1-ba96-9419881abc6b",
   "metadata": {},
   "outputs": [],
   "source": [
    "import pickle\n",
    "import numpy as np\n",
    "from skimage import io\n",
    "\n",
    "from tqdm import tqdm, tqdm_notebook\n",
    "from PIL import Image\n",
    "from pathlib import Path\n",
    "\n",
    "from torchvision import transforms, models, datasets\n",
    "from multiprocessing.pool import ThreadPool\n",
    "from sklearn.preprocessing import LabelEncoder\n",
    "from torch.utils.data import Dataset, DataLoader\n",
    "import torch.nn as nn\n",
    "\n",
    "from matplotlib import colors, pyplot as plt\n",
    "%matplotlib inline"
   ]
  },
  {
   "cell_type": "code",
   "execution_count": 4,
   "id": "57023b1a-6af4-4762-8dcf-4dee9189ed72",
   "metadata": {},
   "outputs": [],
   "source": [
    "RESCALE_SIZE = 224"
   ]
  },
  {
   "cell_type": "code",
   "execution_count": 5,
   "id": "d038d212-7466-4f9b-90c3-6f105649121e",
   "metadata": {},
   "outputs": [],
   "source": [
    "train_transforms = transforms.Compose([\n",
    "    transforms.Resize((RESCALE_SIZE, RESCALE_SIZE)),\n",
    "    #transforms.AutoAugment(),\n",
    "    transforms.ToTensor(),\n",
    "    transforms.Lambda(lambda x: x / 255),\n",
    "    transforms.Normalize([0.485, 0.456, 0.406], [0.229, 0.224, 0.225]),\n",
    "])"
   ]
  },
  {
   "cell_type": "code",
   "execution_count": 6,
   "id": "14325089-6997-4ed2-9ce1-a7c127200e6c",
   "metadata": {},
   "outputs": [],
   "source": [
    "train_dir = \"./journey-springfield/train/simpsons_dataset\""
   ]
  },
  {
   "cell_type": "code",
   "execution_count": 7,
   "id": "dbdc19f3-de9e-4022-aa4d-bd7f5023ef8d",
   "metadata": {},
   "outputs": [],
   "source": [
    "import math\n",
    "\n",
    "image_datasets = datasets.ImageFolder(train_dir, train_transforms)"
   ]
  },
  {
   "cell_type": "code",
   "execution_count": 8,
   "id": "3a5c683e-589c-4102-8cf7-4f919e202d8a",
   "metadata": {},
   "outputs": [],
   "source": [
    "dataset_len = len(image_datasets)\n",
    "p1 = (dataset_len / 100)\n",
    "train_size = math.floor(p1 * 70)\n",
    "test_size = dataset_len - train_size"
   ]
  },
  {
   "cell_type": "code",
   "execution_count": 9,
   "id": "95e1ee19-f526-43cc-91ed-8a44e8a81280",
   "metadata": {},
   "outputs": [],
   "source": [
    "train_dataset, val_dataset = torch.utils.data.random_split(image_datasets, [train_size, test_size])"
   ]
  },
  {
   "cell_type": "code",
   "execution_count": 10,
   "id": "6263b8aa-9058-4255-b21a-20fc994bea3e",
   "metadata": {},
   "outputs": [
    {
     "data": {
      "text/plain": [
       "(14653, 6280)"
      ]
     },
     "execution_count": 10,
     "metadata": {},
     "output_type": "execute_result"
    }
   ],
   "source": [
    "len(train_dataset), len(val_dataset)"
   ]
  },
  {
   "cell_type": "code",
   "execution_count": 11,
   "id": "a3c32887-f933-4411-88b9-dabaff295c03",
   "metadata": {},
   "outputs": [],
   "source": [
    "train_dataloader = torch.utils.data.DataLoader(\n",
    "    train_dataset, batch_size=128, num_workers=torch.cpu.device_count(),\n",
    "    shuffle=True\n",
    ")\n",
    "val_dataloader = torch.utils.data.DataLoader(\n",
    "    val_dataset, batch_size=128, num_workers=torch.cpu.device_count(),\n",
    ")\n",
    "\n",
    "loaders = {\n",
    "    \"train\": train_dataloader,\n",
    "    \"valid\": val_dataloader\n",
    "}"
   ]
  },
  {
   "cell_type": "code",
   "execution_count": 12,
   "id": "bafe9fb0-60e2-4877-af54-63a3b7d8b67e",
   "metadata": {},
   "outputs": [
    {
     "name": "stderr",
     "output_type": "stream",
     "text": [
      "/home/dmitry/Documents/programming/study/ml/venv/lib/python3.12/site-packages/torchvision/models/_utils.py:208: UserWarning: The parameter 'pretrained' is deprecated since 0.13 and may be removed in the future, please use 'weights' instead.\n",
      "  warnings.warn(\n",
      "/home/dmitry/Documents/programming/study/ml/venv/lib/python3.12/site-packages/torchvision/models/_utils.py:223: UserWarning: Arguments other than a weight enum or `None` for 'weights' are deprecated since 0.13 and may be removed in the future. The current behavior is equivalent to passing `weights=ResNet18_Weights.IMAGENET1K_V1`. You can also use `weights=ResNet18_Weights.DEFAULT` to get the most up-to-date weights.\n",
      "  warnings.warn(msg)\n"
     ]
    },
    {
     "data": {
      "text/plain": [
       "ResNet(\n",
       "  (conv1): Conv2d(3, 64, kernel_size=(7, 7), stride=(2, 2), padding=(3, 3), bias=False)\n",
       "  (bn1): BatchNorm2d(64, eps=1e-05, momentum=0.1, affine=True, track_running_stats=True)\n",
       "  (relu): ReLU(inplace=True)\n",
       "  (maxpool): MaxPool2d(kernel_size=3, stride=2, padding=1, dilation=1, ceil_mode=False)\n",
       "  (layer1): Sequential(\n",
       "    (0): BasicBlock(\n",
       "      (conv1): Conv2d(64, 64, kernel_size=(3, 3), stride=(1, 1), padding=(1, 1), bias=False)\n",
       "      (bn1): BatchNorm2d(64, eps=1e-05, momentum=0.1, affine=True, track_running_stats=True)\n",
       "      (relu): ReLU(inplace=True)\n",
       "      (conv2): Conv2d(64, 64, kernel_size=(3, 3), stride=(1, 1), padding=(1, 1), bias=False)\n",
       "      (bn2): BatchNorm2d(64, eps=1e-05, momentum=0.1, affine=True, track_running_stats=True)\n",
       "    )\n",
       "    (1): BasicBlock(\n",
       "      (conv1): Conv2d(64, 64, kernel_size=(3, 3), stride=(1, 1), padding=(1, 1), bias=False)\n",
       "      (bn1): BatchNorm2d(64, eps=1e-05, momentum=0.1, affine=True, track_running_stats=True)\n",
       "      (relu): ReLU(inplace=True)\n",
       "      (conv2): Conv2d(64, 64, kernel_size=(3, 3), stride=(1, 1), padding=(1, 1), bias=False)\n",
       "      (bn2): BatchNorm2d(64, eps=1e-05, momentum=0.1, affine=True, track_running_stats=True)\n",
       "    )\n",
       "  )\n",
       "  (layer2): Sequential(\n",
       "    (0): BasicBlock(\n",
       "      (conv1): Conv2d(64, 128, kernel_size=(3, 3), stride=(2, 2), padding=(1, 1), bias=False)\n",
       "      (bn1): BatchNorm2d(128, eps=1e-05, momentum=0.1, affine=True, track_running_stats=True)\n",
       "      (relu): ReLU(inplace=True)\n",
       "      (conv2): Conv2d(128, 128, kernel_size=(3, 3), stride=(1, 1), padding=(1, 1), bias=False)\n",
       "      (bn2): BatchNorm2d(128, eps=1e-05, momentum=0.1, affine=True, track_running_stats=True)\n",
       "      (downsample): Sequential(\n",
       "        (0): Conv2d(64, 128, kernel_size=(1, 1), stride=(2, 2), bias=False)\n",
       "        (1): BatchNorm2d(128, eps=1e-05, momentum=0.1, affine=True, track_running_stats=True)\n",
       "      )\n",
       "    )\n",
       "    (1): BasicBlock(\n",
       "      (conv1): Conv2d(128, 128, kernel_size=(3, 3), stride=(1, 1), padding=(1, 1), bias=False)\n",
       "      (bn1): BatchNorm2d(128, eps=1e-05, momentum=0.1, affine=True, track_running_stats=True)\n",
       "      (relu): ReLU(inplace=True)\n",
       "      (conv2): Conv2d(128, 128, kernel_size=(3, 3), stride=(1, 1), padding=(1, 1), bias=False)\n",
       "      (bn2): BatchNorm2d(128, eps=1e-05, momentum=0.1, affine=True, track_running_stats=True)\n",
       "    )\n",
       "  )\n",
       "  (layer3): Sequential(\n",
       "    (0): BasicBlock(\n",
       "      (conv1): Conv2d(128, 256, kernel_size=(3, 3), stride=(2, 2), padding=(1, 1), bias=False)\n",
       "      (bn1): BatchNorm2d(256, eps=1e-05, momentum=0.1, affine=True, track_running_stats=True)\n",
       "      (relu): ReLU(inplace=True)\n",
       "      (conv2): Conv2d(256, 256, kernel_size=(3, 3), stride=(1, 1), padding=(1, 1), bias=False)\n",
       "      (bn2): BatchNorm2d(256, eps=1e-05, momentum=0.1, affine=True, track_running_stats=True)\n",
       "      (downsample): Sequential(\n",
       "        (0): Conv2d(128, 256, kernel_size=(1, 1), stride=(2, 2), bias=False)\n",
       "        (1): BatchNorm2d(256, eps=1e-05, momentum=0.1, affine=True, track_running_stats=True)\n",
       "      )\n",
       "    )\n",
       "    (1): BasicBlock(\n",
       "      (conv1): Conv2d(256, 256, kernel_size=(3, 3), stride=(1, 1), padding=(1, 1), bias=False)\n",
       "      (bn1): BatchNorm2d(256, eps=1e-05, momentum=0.1, affine=True, track_running_stats=True)\n",
       "      (relu): ReLU(inplace=True)\n",
       "      (conv2): Conv2d(256, 256, kernel_size=(3, 3), stride=(1, 1), padding=(1, 1), bias=False)\n",
       "      (bn2): BatchNorm2d(256, eps=1e-05, momentum=0.1, affine=True, track_running_stats=True)\n",
       "    )\n",
       "  )\n",
       "  (layer4): Sequential(\n",
       "    (0): BasicBlock(\n",
       "      (conv1): Conv2d(256, 512, kernel_size=(3, 3), stride=(2, 2), padding=(1, 1), bias=False)\n",
       "      (bn1): BatchNorm2d(512, eps=1e-05, momentum=0.1, affine=True, track_running_stats=True)\n",
       "      (relu): ReLU(inplace=True)\n",
       "      (conv2): Conv2d(512, 512, kernel_size=(3, 3), stride=(1, 1), padding=(1, 1), bias=False)\n",
       "      (bn2): BatchNorm2d(512, eps=1e-05, momentum=0.1, affine=True, track_running_stats=True)\n",
       "      (downsample): Sequential(\n",
       "        (0): Conv2d(256, 512, kernel_size=(1, 1), stride=(2, 2), bias=False)\n",
       "        (1): BatchNorm2d(512, eps=1e-05, momentum=0.1, affine=True, track_running_stats=True)\n",
       "      )\n",
       "    )\n",
       "    (1): BasicBlock(\n",
       "      (conv1): Conv2d(512, 512, kernel_size=(3, 3), stride=(1, 1), padding=(1, 1), bias=False)\n",
       "      (bn1): BatchNorm2d(512, eps=1e-05, momentum=0.1, affine=True, track_running_stats=True)\n",
       "      (relu): ReLU(inplace=True)\n",
       "      (conv2): Conv2d(512, 512, kernel_size=(3, 3), stride=(1, 1), padding=(1, 1), bias=False)\n",
       "      (bn2): BatchNorm2d(512, eps=1e-05, momentum=0.1, affine=True, track_running_stats=True)\n",
       "    )\n",
       "  )\n",
       "  (avgpool): AdaptiveAvgPool2d(output_size=(1, 1))\n",
       "  (fc): Linear(in_features=512, out_features=1000, bias=True)\n",
       ")"
      ]
     },
     "execution_count": 12,
     "metadata": {},
     "output_type": "execute_result"
    }
   ],
   "source": [
    "model_resnet18 = models.resnet18(pretrained=True)\n",
    "model_resnet18"
   ]
  },
  {
   "cell_type": "code",
   "execution_count": 13,
   "id": "b6aea76a-637b-4881-b73d-513c04e3fdc6",
   "metadata": {},
   "outputs": [],
   "source": [
    "for param in model_resnet18.parameters():\n",
    "    param.requires_grad = False"
   ]
  },
  {
   "cell_type": "code",
   "execution_count": 14,
   "id": "a3061edf-26aa-40ae-81d2-0bd15307b0a4",
   "metadata": {},
   "outputs": [],
   "source": [
    "for param in model_resnet18.avgpool.parameters():\n",
    "    param.requires_grad = True\n",
    "    \n",
    "for param in model_resnet18.layer4.parameters():\n",
    "    param.requires_grad = True\n",
    "\n",
    "for param in model_resnet18.layer3.parameters():\n",
    "    param.requires_grad = True\n",
    "\n",
    "for param in model_resnet18.layer2.parameters():\n",
    "    param.requires_grad = True"
   ]
  },
  {
   "cell_type": "code",
   "execution_count": 15,
   "id": "d4b42076-38fe-453e-9c01-f92f9ded107f",
   "metadata": {},
   "outputs": [],
   "source": [
    "num_classes = 42\n",
    "model_resnet18.fc = nn.Sequential(\n",
    "    nn.Sequential(\n",
    "        nn.Linear(512, 512),\n",
    "        nn.BatchNorm1d(512),\n",
    "        nn.Dropout(0.5),\n",
    "        nn.ReLU()\n",
    "    ),\n",
    "    nn.Sequential(\n",
    "        nn.Linear(512, 512),\n",
    "        nn.Linear(512, num_classes)\n",
    "    )\n",
    ") "
   ]
  },
  {
   "cell_type": "code",
   "execution_count": 16,
   "id": "d3b602f1-e72d-484a-82d3-905e12789f13",
   "metadata": {},
   "outputs": [],
   "source": [
    "import torch.optim as optim\n",
    "\n",
    "optimizer = optim.Adam(\n",
    "    (\n",
    "        {\n",
    "            \"params\": model_resnet18.layer2.parameters(),\n",
    "            \"lr\": 1e-5\n",
    "        },\n",
    "        {\n",
    "            \"params\": model_resnet18.layer3.parameters(),\n",
    "            \"lr\": 1e-4\n",
    "        },\n",
    "        {\n",
    "            \"params\": model_resnet18.layer4.parameters(),\n",
    "            \"lr\": 1e-3\n",
    "        },\n",
    "        {\n",
    "            \"params\": model_resnet18.avgpool.parameters()\n",
    "        },\n",
    "        {\n",
    "            \"params\": model_resnet18.fc.parameters()\n",
    "        }\n",
    "    ), lr=1e-2)\n",
    "scheduler = optim.lr_scheduler.StepLR(optimizer, 5, gamma=0.5)"
   ]
  },
  {
   "cell_type": "code",
   "execution_count": 17,
   "id": "79a13a41-64a1-4b5b-a3b9-1579a54706f6",
   "metadata": {},
   "outputs": [],
   "source": [
    "!rm -rf logs"
   ]
  },
  {
   "cell_type": "code",
   "execution_count": 18,
   "id": "122f9d9a-13a6-4af3-8524-c0a0bb46af82",
   "metadata": {},
   "outputs": [],
   "source": [
    "from catalyst import dl\n",
    "        \n",
    "runner = dl.SupervisedRunner()"
   ]
  },
  {
   "cell_type": "code",
   "execution_count": 19,
   "id": "4b54d929-4898-437f-86b5-0ec5a9c76e9e",
   "metadata": {},
   "outputs": [
    {
     "name": "stderr",
     "output_type": "stream",
     "text": [
      "1/35 * Epoch (train): 100%|███████████████████████████████████████████████████████████████| 115/115 [01:03<00:00,  2.71it/s, accuracy01=0.770, loss=1.158, lr=1.000e-05, momentum=0.900]/home/dmitry/Documents/programming/study/ml/venv/lib/python3.12/site-packages/accelerate/utils/dataclasses.py:480: FutureWarning: The `TPU` of `<enum 'DistributedType'>` is deprecated and will be removed in v1.0.0. Please use the `XLA` instead.\n",
      "  warnings.warn(\n",
      "1/35 * Epoch (train): 100%|███████████████████████████████████████████████████████████████| 115/115 [01:03<00:00,  1.81it/s, accuracy01=0.770, loss=1.158, lr=1.000e-05, momentum=0.900]\n"
     ]
    },
    {
     "name": "stdout",
     "output_type": "stream",
     "text": [
      "train (1/35) accuracy01: 0.5258308877710969 | accuracy01/std: 0.15454523830532205 | f1/_macro: 0.22291182125774606 | f1/_micro: 0.5258258879203338 | f1/_weighted: 0.5020046331343184 | loss: 2.5746156643220104 | loss/mean: 2.5746156643220104 | loss/std: 1.9057039754934 | lr: 1e-05 | momentum: 0.9 | precision/_macro: 0.22874558140463663 | precision/_micro: 0.5258308878727905 | precision/_weighted: 0.488232297672495 | recall/_macro: 0.22766767022939854 | recall/_micro: 0.5258308878727905 | recall/_weighted: 0.5258308878727906\n"
     ]
    },
    {
     "name": "stderr",
     "output_type": "stream",
     "text": [
      "1/35 * Epoch (valid): 100%|█████████████████████████████████████████████████████████████████| 50/50 [00:27<00:00,  1.83it/s, accuracy01=0.875, loss=0.728, lr=1.000e-05, momentum=0.900]\n"
     ]
    },
    {
     "name": "stdout",
     "output_type": "stream",
     "text": [
      "valid (1/35) accuracy01: 0.7103503184713377 | accuracy01/std: 0.03854817537873809 | f1/_macro: 0.3175745286215886 | f1/_micro: 0.7103453185065312 | f1/_weighted: 0.679332536233417 | loss: 1.2572756020126827 | loss/mean: 1.2572756020126827 | loss/std: 0.3985698012732361 | lr: 1e-05 | momentum: 0.9 | precision/_macro: 0.327234468087587 | precision/_micro: 0.7103503184713376 | precision/_weighted: 0.6705582770043308 | recall/_macro: 0.3303545560434812 | recall/_micro: 0.7103503184713376 | recall/_weighted: 0.7103503184713376\n",
      "* Epoch (1/35) lr: 1e-05 | momentum: 0.9\n"
     ]
    },
    {
     "name": "stderr",
     "output_type": "stream",
     "text": [
      "2/35 * Epoch (train): 100%|███████████████████████████████████████████████████████████████| 115/115 [00:54<00:00,  2.09it/s, accuracy01=0.787, loss=0.907, lr=1.000e-05, momentum=0.900]\n"
     ]
    },
    {
     "name": "stdout",
     "output_type": "stream",
     "text": [
      "train (2/35) accuracy01: 0.758274755839609 | accuracy01/std: 0.04917503987756051 | f1/_macro: 0.37394344156112186 | f1/_micro: 0.7582697560556269 | f1/_weighted: 0.7389446633861275 | loss: 1.0225865519153357 | loss/mean: 1.0225865519153357 | loss/std: 0.38025309729318496 | lr: 1e-05 | momentum: 0.9 | precision/_macro: 0.40186669824473076 | precision/_micro: 0.7582747560226575 | precision/_weighted: 0.7270688332851113 | recall/_macro: 0.372206953586024 | recall/_micro: 0.7582747560226575 | recall/_weighted: 0.7582747560226575\n"
     ]
    },
    {
     "name": "stderr",
     "output_type": "stream",
     "text": [
      "2/35 * Epoch (valid): 100%|█████████████████████████████████████████████████████████████████| 50/50 [00:24<00:00,  2.07it/s, accuracy01=0.875, loss=0.809, lr=1.000e-05, momentum=0.900]\n"
     ]
    },
    {
     "name": "stdout",
     "output_type": "stream",
     "text": [
      "valid (2/35) accuracy01: 0.7692675159235672 | accuracy01/std: 0.036853479366696175 | f1/_macro: 0.4040268807138598 | f1/_micro: 0.7692625159560651 | f1/_weighted: 0.7523339977649489 | loss: 0.8546264010629837 | loss/mean: 0.8546264010629837 | loss/std: 0.15614539227512048 | lr: 1e-05 | momentum: 0.9 | precision/_macro: 0.5368365454342315 | precision/_micro: 0.7692675159235669 | precision/_weighted: 0.7757973853374676 | recall/_macro: 0.40737661226059046 | recall/_micro: 0.7692675159235669 | recall/_weighted: 0.7692675159235669\n",
      "* Epoch (2/35) lr: 1e-05 | momentum: 0.9\n"
     ]
    },
    {
     "name": "stderr",
     "output_type": "stream",
     "text": [
      "3/35 * Epoch (train): 100%|███████████████████████████████████████████████████████████████| 115/115 [00:55<00:00,  2.08it/s, accuracy01=0.918, loss=0.294, lr=1.000e-05, momentum=0.900]\n"
     ]
    },
    {
     "name": "stdout",
     "output_type": "stream",
     "text": [
      "train (3/35) accuracy01: 0.8360062784882752 | accuracy01/std: 0.032513645335569566 | f1/_macro: 0.4836440970910297 | f1/_micro: 0.8360012786076696 | f1/_weighted: 0.8265956479829978 | loss: 0.6052995922235486 | loss/mean: 0.6052995922235486 | loss/std: 0.12871411717537912 | lr: 1e-05 | momentum: 0.9 | precision/_macro: 0.5271474759196139 | precision/_micro: 0.8360062785777657 | precision/_weighted: 0.8221270552069619 | recall/_macro: 0.4728250841525923 | recall/_micro: 0.8360062785777657 | recall/_weighted: 0.8360062785777657\n"
     ]
    },
    {
     "name": "stderr",
     "output_type": "stream",
     "text": [
      "3/35 * Epoch (valid): 100%|█████████████████████████████████████████████████████████████████| 50/50 [00:24<00:00,  2.04it/s, accuracy01=0.875, loss=0.437, lr=1.000e-05, momentum=0.900]\n"
     ]
    },
    {
     "name": "stdout",
     "output_type": "stream",
     "text": [
      "valid (3/35) accuracy01: 0.7883757961783439 | accuracy01/std: 0.033615266822741706 | f1/_macro: 0.486496863255615 | f1/_micro: 0.7883707962100546 | f1/_weighted: 0.7802000026191315 | loss: 0.9107731188938116 | loss/mean: 0.9107731188938116 | loss/std: 0.18952945859642462 | lr: 1e-05 | momentum: 0.9 | precision/_macro: 0.5424445788899146 | precision/_micro: 0.788375796178344 | precision/_weighted: 0.7975114781008342 | recall/_macro: 0.4783329544499603 | recall/_micro: 0.788375796178344 | recall/_weighted: 0.788375796178344\n",
      "* Epoch (3/35) lr: 1e-05 | momentum: 0.9\n"
     ]
    },
    {
     "name": "stderr",
     "output_type": "stream",
     "text": [
      "4/35 * Epoch (train): 100%|███████████████████████████████████████████████████████████████| 115/115 [00:55<00:00,  2.06it/s, accuracy01=0.902, loss=0.327, lr=1.000e-05, momentum=0.900]\n"
     ]
    },
    {
     "name": "stdout",
     "output_type": "stream",
     "text": [
      "train (4/35) accuracy01: 0.8841875381317758 | accuracy01/std: 0.026370733230376572 | f1/_macro: 0.5657028258130579 | f1/_micro: 0.8841825384163177 | f1/_weighted: 0.879345217540387 | loss: 0.4208986021642887 | loss/mean: 0.4208986021642887 | loss/std: 0.09396179967814872 | lr: 1e-05 | momentum: 0.9 | precision/_macro: 0.598611232852525 | precision/_micro: 0.8841875383880434 | precision/_weighted: 0.8767730427412871 | recall/_macro: 0.5533419135863173 | recall/_micro: 0.8841875383880434 | recall/_weighted: 0.8841875383880434\n"
     ]
    },
    {
     "name": "stderr",
     "output_type": "stream",
     "text": [
      "4/35 * Epoch (valid): 100%|█████████████████████████████████████████████████████████████████| 50/50 [00:23<00:00,  2.10it/s, accuracy01=0.875, loss=0.613, lr=1.000e-05, momentum=0.900]\n"
     ]
    },
    {
     "name": "stdout",
     "output_type": "stream",
     "text": [
      "valid (4/35) accuracy01: 0.8337579617834394 | accuracy01/std: 0.03509224892152475 | f1/_macro: 0.5148777172863971 | f1/_micro: 0.8337529618134241 | f1/_weighted: 0.8242047636669079 | loss: 0.7345059874710763 | loss/mean: 0.7345059874710763 | loss/std: 0.1931552690129044 | lr: 1e-05 | momentum: 0.9 | precision/_macro: 0.575272021698478 | precision/_micro: 0.8337579617834395 | precision/_weighted: 0.8276262913441932 | recall/_macro: 0.5091964729941525 | recall/_micro: 0.8337579617834395 | recall/_weighted: 0.8337579617834395\n",
      "* Epoch (4/35) lr: 1e-05 | momentum: 0.9\n"
     ]
    },
    {
     "name": "stderr",
     "output_type": "stream",
     "text": [
      "5/35 * Epoch (train): 100%|███████████████████████████████████████████████████████████████| 115/115 [00:54<00:00,  2.10it/s, accuracy01=0.934, loss=0.214, lr=1.000e-05, momentum=0.900]\n"
     ]
    },
    {
     "name": "stdout",
     "output_type": "stream",
     "text": [
      "train (5/35) accuracy01: 0.9004981913257768 | accuracy01/std: 0.02933717344448753 | f1/_macro: 0.6215470806504289 | f1/_micro: 0.9004931915243841 | f1/_weighted: 0.8979281482713865 | loss: 0.350430950678014 | loss/mean: 0.350430950678014 | loss/std: 0.10616469385912364 | lr: 1e-05 | momentum: 0.9 | precision/_macro: 0.6406187087821592 | precision/_micro: 0.9004981914966219 | precision/_weighted: 0.8965566801351107 | recall/_macro: 0.6142123733630164 | recall/_micro: 0.9004981914966219 | recall/_weighted: 0.9004981914966218\n"
     ]
    },
    {
     "name": "stderr",
     "output_type": "stream",
     "text": [
      "5/35 * Epoch (valid): 100%|█████████████████████████████████████████████████████████████████| 50/50 [00:23<00:00,  2.13it/s, accuracy01=1.000, loss=0.066, lr=1.000e-05, momentum=0.900]\n"
     ]
    },
    {
     "name": "stdout",
     "output_type": "stream",
     "text": [
      "valid (5/35) accuracy01: 0.8514331210191086 | accuracy01/std: 0.03031373459849272 | f1/_macro: 0.5624593189376859 | f1/_micro: 0.8514281210484703 | f1/_weighted: 0.8415481812982379 | loss: 0.7238249928708287 | loss/mean: 0.7238249928708287 | loss/std: 0.21726870396332917 | lr: 1e-05 | momentum: 0.9 | precision/_macro: 0.6940232278982391 | precision/_micro: 0.8514331210191083 | precision/_weighted: 0.8508275242361949 | recall/_macro: 0.5396426363416439 | recall/_micro: 0.8514331210191083 | recall/_weighted: 0.8514331210191083\n",
      "* Epoch (5/35) lr: 5e-06 | momentum: 0.9\n"
     ]
    },
    {
     "name": "stderr",
     "output_type": "stream",
     "text": [
      "6/35 * Epoch (train): 100%|███████████████████████████████████████████████████████████████| 115/115 [00:54<00:00,  2.12it/s, accuracy01=0.918, loss=0.183, lr=5.000e-06, momentum=0.900]\n"
     ]
    },
    {
     "name": "stdout",
     "output_type": "stream",
     "text": [
      "train (6/35) accuracy01: 0.9523647033842013 | accuracy01/std: 0.0212329996236353 | f1/_macro: 0.7446457874698913 | f1/_micro: 0.9523597034999417 | f1/_weighted: 0.9512231804843864 | loss: 0.1667115903680483 | loss/mean: 0.1667115903680483 | loss/std: 0.07356715809896287 | lr: 5e-06 | momentum: 0.9 | precision/_macro: 0.7665541136748326 | precision/_micro: 0.9523647034736914 | precision/_weighted: 0.9509022809248682 | recall/_macro: 0.7351953939521704 | recall/_micro: 0.9523647034736914 | recall/_weighted: 0.9523647034736915\n"
     ]
    },
    {
     "name": "stderr",
     "output_type": "stream",
     "text": [
      "6/35 * Epoch (valid): 100%|█████████████████████████████████████████████████████████████████| 50/50 [00:23<00:00,  2.14it/s, accuracy01=0.875, loss=0.440, lr=5.000e-06, momentum=0.900]\n"
     ]
    },
    {
     "name": "stdout",
     "output_type": "stream",
     "text": [
      "valid (6/35) accuracy01: 0.8816878980891719 | accuracy01/std: 0.028916733242532383 | f1/_macro: 0.6629952513424835 | f1/_micro: 0.8816828981175265 | f1/_weighted: 0.8815514314844615 | loss: 0.5541742890883407 | loss/mean: 0.5541742890883407 | loss/std: 0.19359509154442864 | lr: 5e-06 | momentum: 0.9 | precision/_macro: 0.6801680743472309 | precision/_micro: 0.881687898089172 | precision/_weighted: 0.8855670004471708 | recall/_macro: 0.6719736027511308 | recall/_micro: 0.881687898089172 | recall/_weighted: 0.881687898089172\n",
      "* Epoch (6/35) lr: 5e-06 | momentum: 0.9\n"
     ]
    },
    {
     "name": "stderr",
     "output_type": "stream",
     "text": [
      "7/35 * Epoch (train): 100%|███████████████████████████████████████████████████████████████| 115/115 [00:54<00:00,  2.12it/s, accuracy01=0.934, loss=0.252, lr=5.000e-06, momentum=0.900]\n"
     ]
    },
    {
     "name": "stdout",
     "output_type": "stream",
     "text": [
      "train (7/35) accuracy01: 0.9722923631677205 | accuracy01/std: 0.014077366537668336 | f1/_macro: 0.8188813471089754 | f1/_micro: 0.9722873633642778 | f1/_weighted: 0.9720570769759855 | loss: 0.08942437584811995 | loss/mean: 0.08942437584811995 | loss/std: 0.0438083660686086 | lr: 5e-06 | momentum: 0.9 | precision/_macro: 0.8221953050859376 | precision/_micro: 0.9722923633385655 | precision/_weighted: 0.9719312217995522 | recall/_macro: 0.8185017262918479 | recall/_micro: 0.9722923633385655 | recall/_weighted: 0.9722923633385656\n"
     ]
    },
    {
     "name": "stderr",
     "output_type": "stream",
     "text": [
      "7/35 * Epoch (valid): 100%|█████████████████████████████████████████████████████████████████| 50/50 [00:23<00:00,  2.17it/s, accuracy01=0.875, loss=0.313, lr=5.000e-06, momentum=0.900]\n"
     ]
    },
    {
     "name": "stdout",
     "output_type": "stream",
     "text": [
      "valid (7/35) accuracy01: 0.8746815286624203 | accuracy01/std: 0.030870313883022256 | f1/_macro: 0.6384068281201458 | f1/_micro: 0.874676528691002 | f1/_weighted: 0.8739061304009236 | loss: 0.657472083295227 | loss/mean: 0.657472083295227 | loss/std: 0.23214782570937514 | lr: 5e-06 | momentum: 0.9 | precision/_macro: 0.652436009506255 | precision/_micro: 0.8746815286624203 | precision/_weighted: 0.8790470558995489 | recall/_macro: 0.6495552445130033 | recall/_micro: 0.8746815286624203 | recall/_weighted: 0.8746815286624203\n",
      "* Epoch (7/35) lr: 5e-06 | momentum: 0.9\n"
     ]
    },
    {
     "name": "stderr",
     "output_type": "stream",
     "text": [
      "8/35 * Epoch (train): 100%|███████████████████████████████████████████████████████████████| 115/115 [00:54<00:00,  2.11it/s, accuracy01=0.967, loss=0.168, lr=5.000e-06, momentum=0.900]\n"
     ]
    },
    {
     "name": "stdout",
     "output_type": "stream",
     "text": [
      "train (8/35) accuracy01: 0.9757728789403144 | accuracy01/std: 0.014902560248656358 | f1/_macro: 0.8278085406601644 | f1/_micro: 0.9757678792994894 | f1/_weighted: 0.9755223800377484 | loss: 0.0845531747207815 | loss/mean: 0.0845531747207815 | loss/std: 0.048937367534552155 | lr: 5e-06 | momentum: 0.9 | precision/_macro: 0.8266081872978465 | precision/_micro: 0.9757728792738688 | precision/_weighted: 0.9754508507311892 | recall/_macro: 0.8305048400201125 | recall/_micro: 0.9757728792738688 | recall/_weighted: 0.9757728792738688\n"
     ]
    },
    {
     "name": "stderr",
     "output_type": "stream",
     "text": [
      "8/35 * Epoch (valid): 100%|█████████████████████████████████████████████████████████████████| 50/50 [00:23<00:00,  2.14it/s, accuracy01=0.875, loss=0.732, lr=5.000e-06, momentum=0.900]\n"
     ]
    },
    {
     "name": "stdout",
     "output_type": "stream",
     "text": [
      "valid (8/35) accuracy01: 0.8762738853503186 | accuracy01/std: 0.028409934348327757 | f1/_macro: 0.6683788801268209 | f1/_micro: 0.8762688853788482 | f1/_weighted: 0.87562041355456 | loss: 0.6830130271850875 | loss/mean: 0.6830130271850875 | loss/std: 0.22404699449118545 | lr: 5e-06 | momentum: 0.9 | precision/_macro: 0.7154151287445661 | precision/_micro: 0.8762738853503185 | precision/_weighted: 0.8835030344755853 | recall/_macro: 0.6635283642259443 | recall/_micro: 0.8762738853503185 | recall/_weighted: 0.8762738853503185\n",
      "* Epoch (8/35) lr: 5e-06 | momentum: 0.9\n"
     ]
    },
    {
     "name": "stderr",
     "output_type": "stream",
     "text": [
      "9/35 * Epoch (train): 100%|█████████████████████████████████████████████████████████████████████| 115/115 [00:53<00:00,  2.15it/s, accuracy01=1.000, loss=0.025, lr=5.000e-06, momentum=0.900]\n"
     ]
    },
    {
     "name": "stdout",
     "output_type": "stream",
     "text": [
      "train (9/35) accuracy01: 0.9795263766030244 | accuracy01/std: 0.012258207194776627 | f1/_macro: 0.8997797915584297 | f1/_micro: 0.9795213768766792 | f1/_weighted: 0.9794601262776176 | loss: 0.06875772993661562 | loss/mean: 0.06875772993661562 | loss/std: 0.037062423874476995 | lr: 5e-06 | momentum: 0.9 | precision/_macro: 0.9068149034526453 | precision/_micro: 0.9795263768511567 | precision/_weighted: 0.979529467843127 | recall/_macro: 0.8973391843636468 | recall/_micro: 0.9795263768511567 | recall/_weighted: 0.9795263768511567\n"
     ]
    },
    {
     "name": "stderr",
     "output_type": "stream",
     "text": [
      "9/35 * Epoch (valid): 100%|███████████████████████████████████████████████████████████████████████| 50/50 [00:23<00:00,  2.17it/s, accuracy01=0.875, loss=0.605, lr=5.000e-06, momentum=0.900]\n"
     ]
    },
    {
     "name": "stdout",
     "output_type": "stream",
     "text": [
      "valid (9/35) accuracy01: 0.8796178343949044 | accuracy01/std: 0.027636557535230706 | f1/_macro: 0.6734179078470895 | f1/_micro: 0.8796128344233257 | f1/_weighted: 0.8804887580430885 | loss: 0.6681580869255552 | loss/mean: 0.6681580869255552 | loss/std: 0.19904103472769902 | lr: 5e-06 | momentum: 0.9 | precision/_macro: 0.6814021193829396 | precision/_micro: 0.8796178343949045 | precision/_weighted: 0.8862913346526137 | recall/_macro: 0.6868929185475479 | recall/_micro: 0.8796178343949045 | recall/_weighted: 0.8796178343949045\n",
      "* Epoch (9/35) lr: 5e-06 | momentum: 0.9\n"
     ]
    },
    {
     "name": "stderr",
     "output_type": "stream",
     "text": [
      "10/35 * Epoch (train): 100%|████████████████████████████████████████████████████████████████████| 115/115 [00:52<00:00,  2.18it/s, accuracy01=1.000, loss=0.014, lr=5.000e-06, momentum=0.900]\n"
     ]
    },
    {
     "name": "stdout",
     "output_type": "stream",
     "text": [
      "train (10/35) accuracy01: 0.9822561930228704 | accuracy01/std: 0.012466814046066078 | f1/_macro: 0.8789391429911569 | f1/_micro: 0.982251193296454 | f1/_weighted: 0.9821791395461275 | loss: 0.059394322788828544 | loss/mean: 0.059394322788828544 | loss/std: 0.03442737676752011 | lr: 5e-06 | momentum: 0.9 | precision/_macro: 0.8799070806256802 | precision/_micro: 0.9822561932710026 | precision/_weighted: 0.982216577611111 | recall/_macro: 0.8818853686764375 | recall/_micro: 0.9822561932710026 | recall/_weighted: 0.9822561932710026\n"
     ]
    },
    {
     "name": "stderr",
     "output_type": "stream",
     "text": [
      "10/35 * Epoch (valid): 100%|██████████████████████████████████████████████████████████████████████| 50/50 [00:22<00:00,  2.18it/s, accuracy01=0.875, loss=0.663, lr=5.000e-06, momentum=0.900]\n"
     ]
    },
    {
     "name": "stdout",
     "output_type": "stream",
     "text": [
      "valid (10/35) accuracy01: 0.8778662420382167 | accuracy01/std: 0.028337593648332354 | f1/_macro: 0.6733038979337833 | f1/_micro: 0.8778612420666946 | f1/_weighted: 0.8790798061633057 | loss: 0.6753344749948781 | loss/mean: 0.6753344749948781 | loss/std: 0.19278501448023283 | lr: 5e-06 | momentum: 0.9 | precision/_macro: 0.7171597767149623 | precision/_micro: 0.8778662420382166 | precision/_weighted: 0.8873837414189402 | recall/_macro: 0.6741661461409013 | recall/_micro: 0.8778662420382166 | recall/_weighted: 0.8778662420382166\n",
      "* Epoch (10/35) lr: 2.5e-06 | momentum: 0.9\n"
     ]
    },
    {
     "name": "stderr",
     "output_type": "stream",
     "text": [
      "11/35 * Epoch (train): 100%|████████████████████████████████████████████████████████████████| 115/115 [00:53<00:00,  2.14it/s, accuracy01=1.000, loss=4.566e-04, lr=2.500e-06, momentum=0.900]\n"
     ]
    },
    {
     "name": "stdout",
     "output_type": "stream",
     "text": [
      "train (11/35) accuracy01: 0.9900361698194308 | accuracy01/std: 0.00875628457827496 | f1/_macro: 0.9185862401137225 | f1/_micro: 0.9900311700928144 | f1/_weighted: 0.9900619851208794 | loss: 0.03494342706936542 | loss/mean: 0.03494342706936542 | loss/std: 0.028824116502270195 | lr: 2.5e-06 | momentum: 0.9 | precision/_macro: 0.9166423243351416 | precision/_micro: 0.990036170067563 | precision/_weighted: 0.9901321532744285 | recall/_macro: 0.9212866472831474 | recall/_micro: 0.990036170067563 | recall/_weighted: 0.9900361700675631\n"
     ]
    },
    {
     "name": "stderr",
     "output_type": "stream",
     "text": [
      "11/35 * Epoch (valid): 100%|██████████████████████████████████████████████████████████████████████| 50/50 [00:22<00:00,  2.19it/s, accuracy01=0.875, loss=0.719, lr=2.500e-06, momentum=0.900]\n"
     ]
    },
    {
     "name": "stdout",
     "output_type": "stream",
     "text": [
      "valid (11/35) accuracy01: 0.8945859872611462 | accuracy01/std: 0.026458449327789037 | f1/_macro: 0.7134830993939509 | f1/_micro: 0.8945809872890922 | f1/_weighted: 0.8949727532809879 | loss: 0.6651563163775547 | loss/mean: 0.6651563163775547 | loss/std: 0.22286958548550173 | lr: 2.5e-06 | momentum: 0.9 | precision/_macro: 0.7573011099701368 | precision/_micro: 0.8945859872611465 | precision/_weighted: 0.9000194846511247 | recall/_macro: 0.7111336566612404 | recall/_micro: 0.8945859872611465 | recall/_weighted: 0.8945859872611466\n",
      "* Epoch (11/35) lr: 2.5e-06 | momentum: 0.9\n"
     ]
    },
    {
     "name": "stderr",
     "output_type": "stream",
     "text": [
      "12/35 * Epoch (train): 100%|████████████████████████████████████████████████████████████████████| 115/115 [00:53<00:00,  2.16it/s, accuracy01=0.967, loss=0.069, lr=2.500e-06, momentum=0.900]\n"
     ]
    },
    {
     "name": "stdout",
     "output_type": "stream",
     "text": [
      "train (12/35) accuracy01: 0.9954275571632035 | accuracy01/std: 0.006538530555879995 | f1/_macro: 0.9601998430008025 | f1/_micro: 0.995422557521873 | f1/_weighted: 0.9953951117750541 | loss: 0.015378248699796017 | loss/mean: 0.015378248699796017 | loss/std: 0.01695109162790134 | lr: 2.5e-06 | momentum: 0.9 | precision/_macro: 0.9695168391689625 | precision/_micro: 0.9954275574967584 | precision/_weighted: 0.9954926628903108 | recall/_macro: 0.9574563331187784 | recall/_micro: 0.9954275574967584 | recall/_weighted: 0.9954275574967583\n"
     ]
    },
    {
     "name": "stderr",
     "output_type": "stream",
     "text": [
      "12/35 * Epoch (valid): 100%|██████████████████████████████████████████████████████████████████████| 50/50 [00:22<00:00,  2.18it/s, accuracy01=0.875, loss=0.581, lr=2.500e-06, momentum=0.900]\n"
     ]
    },
    {
     "name": "stdout",
     "output_type": "stream",
     "text": [
      "valid (12/35) accuracy01: 0.8893312101910826 | accuracy01/std: 0.025894388647006564 | f1/_macro: 0.7347234002625485 | f1/_micro: 0.8893262102191937 | f1/_weighted: 0.8893014574010725 | loss: 0.7069043425997352 | loss/mean: 0.7069043425997352 | loss/std: 0.22008709853197303 | lr: 2.5e-06 | momentum: 0.9 | precision/_macro: 0.7682722810428624 | precision/_micro: 0.8893312101910829 | precision/_weighted: 0.8938043270452427 | recall/_macro: 0.7353457411914824 | recall/_micro: 0.8893312101910829 | recall/_weighted: 0.8893312101910829\n",
      "* Epoch (12/35) lr: 2.5e-06 | momentum: 0.9\n"
     ]
    },
    {
     "name": "stderr",
     "output_type": "stream",
     "text": [
      "13/35 * Epoch (train): 100%|████████████████████████████████████████████████████████████████████| 115/115 [00:52<00:00,  2.19it/s, accuracy01=0.967, loss=0.027, lr=2.500e-06, momentum=0.900]\n"
     ]
    },
    {
     "name": "stdout",
     "output_type": "stream",
     "text": [
      "train (13/35) accuracy01: 0.9936531764903036 | accuracy01/std: 0.007652944907910185 | f1/_macro: 0.977013643477885 | f1/_micro: 0.9936481768490181 | f1/_weighted: 0.9936581631390322 | loss: 0.021170351588953022 | loss/mean: 0.021170351588953022 | loss/std: 0.02886894036377265 | lr: 2.5e-06 | momentum: 0.9 | precision/_macro: 0.9740833497476629 | precision/_micro: 0.9936531768238586 | precision/_weighted: 0.9937008249211182 | recall/_macro: 0.9805157100439699 | recall/_micro: 0.9936531768238586 | recall/_weighted: 0.9936531768238586\n"
     ]
    },
    {
     "name": "stderr",
     "output_type": "stream",
     "text": [
      "13/35 * Epoch (valid): 100%|██████████████████████████████████████████████████████████████████████| 50/50 [00:23<00:00,  2.17it/s, accuracy01=0.875, loss=0.981, lr=2.500e-06, momentum=0.900]\n"
     ]
    },
    {
     "name": "stdout",
     "output_type": "stream",
     "text": [
      "valid (13/35) accuracy01: 0.8883757961783438 | accuracy01/std: 0.025440640124308207 | f1/_macro: 0.7226722902885498 | f1/_micro: 0.888370796206485 | f1/_weighted: 0.8872883215634073 | loss: 0.7303805926802812 | loss/mean: 0.7303805926802812 | loss/std: 0.2229474053287508 | lr: 2.5e-06 | momentum: 0.9 | precision/_macro: 0.768329038531537 | precision/_micro: 0.888375796178344 | precision/_weighted: 0.891292306918059 | recall/_macro: 0.7119082087471011 | recall/_micro: 0.888375796178344 | recall/_weighted: 0.888375796178344\n",
      "* Epoch (13/35) lr: 2.5e-06 | momentum: 0.9\n"
     ]
    },
    {
     "name": "stderr",
     "output_type": "stream",
     "text": [
      "14/35 * Epoch (train): 100%|████████████████████████████████████████████████████████████████████| 115/115 [00:58<00:00,  1.98it/s, accuracy01=1.000, loss=0.003, lr=2.500e-06, momentum=0.900]\n"
     ]
    },
    {
     "name": "stdout",
     "output_type": "stream",
     "text": [
      "train (14/35) accuracy01: 0.9964512384060683 | accuracy01/std: 0.005384729980959668 | f1/_macro: 0.9602765969429858 | f1/_micro: 0.9964462386792893 | f1/_weighted: 0.9964523492888064 | loss: 0.0138628578240079 | loss/mean: 0.0138628578240079 | loss/std: 0.022676012586680016 | lr: 2.5e-06 | momentum: 0.9 | precision/_macro: 0.9583272105477721 | precision/_micro: 0.9964512386542005 | precision/_weighted: 0.9964894725836081 | recall/_macro: 0.9631520115292663 | recall/_micro: 0.9964512386542005 | recall/_weighted: 0.9964512386542006\n"
     ]
    },
    {
     "name": "stderr",
     "output_type": "stream",
     "text": [
      "14/35 * Epoch (valid): 100%|████████████████████████████████████████████████████████████████| 50/50 [00:25<00:00,  1.97it/s, accuracy01=0.875, loss=0.538, lr=2.500e-06, momentum=0.900]\n"
     ]
    },
    {
     "name": "stdout",
     "output_type": "stream",
     "text": [
      "valid (14/35) accuracy01: 0.8923566878980892 | accuracy01/std: 0.023841391144273916 | f1/_macro: 0.7354614082818931 | f1/_micro: 0.8923516879261048 | f1/_weighted: 0.8917794660797227 | loss: 0.692446505112253 | loss/mean: 0.692446505112253 | loss/std: 0.23604797568178645 | lr: 2.5e-06 | momentum: 0.9 | precision/_macro: 0.7595859215674263 | precision/_micro: 0.8923566878980892 | precision/_weighted: 0.8948387829607057 | recall/_macro: 0.7377317026491309 | recall/_micro: 0.8923566878980892 | recall/_weighted: 0.8923566878980892\n",
      "* Epoch (14/35) lr: 2.5e-06 | momentum: 0.9\n"
     ]
    },
    {
     "name": "stderr",
     "output_type": "stream",
     "text": [
      "15/35 * Epoch (train): 100%|██████████████████████████████████████████████████████████████| 115/115 [00:58<00:00,  1.97it/s, accuracy01=1.000, loss=0.005, lr=2.500e-06, momentum=0.900]\n"
     ]
    },
    {
     "name": "stdout",
     "output_type": "stream",
     "text": [
      "train (15/35) accuracy01: 0.9957687843011065 | accuracy01/std: 0.0049751265784963 | f1/_macro: 0.9553914297044868 | f1/_micro: 0.9957637845743451 | f1/_weighted: 0.9957710321610835 | loss: 0.014081352693205122 | loss/mean: 0.014081352693205122 | loss/std: 0.0158939023270494 | lr: 2.5e-06 | momentum: 0.9 | precision/_macro: 0.9563032079801959 | precision/_micro: 0.9957687845492391 | precision/_weighted: 0.9958081716041859 | recall/_macro: 0.9556501211650401 | recall/_micro: 0.9957687845492391 | recall/_weighted: 0.995768784549239\n"
     ]
    },
    {
     "name": "stderr",
     "output_type": "stream",
     "text": [
      "15/35 * Epoch (valid): 100%|████████████████████████████████████████████████████████████████| 50/50 [00:24<00:00,  2.04it/s, accuracy01=0.875, loss=1.742, lr=2.500e-06, momentum=0.900]\n"
     ]
    },
    {
     "name": "stdout",
     "output_type": "stream",
     "text": [
      "valid (15/35) accuracy01: 0.8952229299363057 | accuracy01/std: 0.02484864326597024 | f1/_macro: 0.7297595816366513 | f1/_micro: 0.8952179299642316 | f1/_weighted: 0.8950183450252116 | loss: 0.7421007765326529 | loss/mean: 0.7421007765326529 | loss/std: 0.263591191853878 | lr: 2.5e-06 | momentum: 0.9 | precision/_macro: 0.7497671222972642 | precision/_micro: 0.8952229299363057 | precision/_weighted: 0.8980421074602837 | recall/_macro: 0.7218218983956309 | recall/_micro: 0.8952229299363057 | recall/_weighted: 0.8952229299363056\n",
      "* Epoch (15/35) lr: 1.25e-06 | momentum: 0.9\n"
     ]
    },
    {
     "name": "stderr",
     "output_type": "stream",
     "text": [
      "16/35 * Epoch (train): 100%|██████████████████████████████████████████████████████████████| 115/115 [00:54<00:00,  2.09it/s, accuracy01=0.984, loss=0.028, lr=1.250e-06, momentum=0.900]\n"
     ]
    },
    {
     "name": "stdout",
     "output_type": "stream",
     "text": [
      "train (16/35) accuracy01: 0.9978161466973461 | accuracy01/std: 0.004009719897090083 | f1/_macro: 0.9684574966357822 | f1/_micro: 0.9978111468891779 | f1/_weighted: 0.9977772997022462 | loss: 0.006960581981740386 | loss/mean: 0.006960581981740386 | loss/std: 0.010160730886773254 | lr: 1.25e-06 | momentum: 0.9 | precision/_macro: 0.9691351746925321 | precision/_micro: 0.9978161468641233 | precision/_weighted: 0.9977672623143828 | recall/_macro: 0.9682665287107495 | recall/_micro: 0.9978161468641233 | recall/_weighted: 0.9978161468641235\n"
     ]
    },
    {
     "name": "stderr",
     "output_type": "stream",
     "text": [
      "16/35 * Epoch (valid): 100%|████████████████████████████████████████████████████████████████| 50/50 [00:23<00:00,  2.12it/s, accuracy01=0.875, loss=1.357, lr=1.250e-06, momentum=0.900]\n"
     ]
    },
    {
     "name": "stdout",
     "output_type": "stream",
     "text": [
      "valid (16/35) accuracy01: 0.8993630573248408 | accuracy01/std: 0.024435055614280228 | f1/_macro: 0.7401548083854986 | f1/_micro: 0.8993580573526381 | f1/_weighted: 0.8996067738189413 | loss: 0.6829104781910112 | loss/mean: 0.6829104781910112 | loss/std: 0.2495335900703432 | lr: 1.25e-06 | momentum: 0.9 | precision/_macro: 0.7497101228010841 | precision/_micro: 0.8993630573248408 | precision/_weighted: 0.9020969669007671 | recall/_macro: 0.7425528694451364 | recall/_micro: 0.8993630573248408 | recall/_weighted: 0.8993630573248408\n",
      "* Epoch (16/35) lr: 1.25e-06 | momentum: 0.9\n"
     ]
    },
    {
     "name": "stderr",
     "output_type": "stream",
     "text": [
      "17/35 * Epoch (train): 100%|██████████████████████████████████████████████████████████| 115/115 [00:55<00:00,  2.07it/s, accuracy01=1.000, loss=3.517e-04, lr=1.250e-06, momentum=0.900]\n"
     ]
    },
    {
     "name": "stdout",
     "output_type": "stream",
     "text": [
      "train (17/35) accuracy01: 0.9991810548259136 | accuracy01/std: 0.002606556011934557 | f1/_macro: 0.9932594837728649 | f1/_micro: 0.9991760550990667 | f1/_weighted: 0.9991764020152705 | loss: 0.003487509893132955 | loss/mean: 0.003487509893132955 | loss/std: 0.005830929629816295 | lr: 1.25e-06 | momentum: 0.9 | precision/_macro: 0.9929898554649813 | precision/_micro: 0.9991810550740463 | precision/_weighted: 0.9991875567913817 | recall/_macro: 0.993594404150493 | recall/_micro: 0.9991810550740463 | recall/_weighted: 0.9991810550740463\n"
     ]
    },
    {
     "name": "stderr",
     "output_type": "stream",
     "text": [
      "17/35 * Epoch (valid): 100%|████████████████████████████████████████████████████████████████| 50/50 [00:24<00:00,  2.05it/s, accuracy01=0.875, loss=1.458, lr=1.250e-06, momentum=0.900]\n"
     ]
    },
    {
     "name": "stdout",
     "output_type": "stream",
     "text": [
      "valid (17/35) accuracy01: 0.90015923566879 | accuracy01/std: 0.024569767547904287 | f1/_macro: 0.7310974233473728 | f1/_micro: 0.9001542356965624 | f1/_weighted: 0.8996128611256192 | loss: 0.6795969422455808 | loss/mean: 0.6795969422455808 | loss/std: 0.2566097192494064 | lr: 1.25e-06 | momentum: 0.9 | precision/_macro: 0.7434415579051583 | precision/_micro: 0.9001592356687897 | precision/_weighted: 0.9008825247228575 | recall/_macro: 0.7305442650406403 | recall/_micro: 0.9001592356687897 | recall/_weighted: 0.9001592356687897\n",
      "* Epoch (17/35) lr: 1.25e-06 | momentum: 0.9\n"
     ]
    },
    {
     "name": "stderr",
     "output_type": "stream",
     "text": [
      "18/35 * Epoch (train): 100%|██████████████████████████████████████████████████████████████| 115/115 [00:57<00:00,  2.01it/s, accuracy01=0.984, loss=0.032, lr=1.250e-06, momentum=0.900]\n"
     ]
    },
    {
     "name": "stdout",
     "output_type": "stream",
     "text": [
      "train (18/35) accuracy01: 0.9991128094967725 | accuracy01/std: 0.002792230211156059 | f1/_macro: 0.9969025185719702 | f1/_micro: 0.999107809688572 | f1/_weighted: 0.9991080055677184 | loss: 0.0031897145174601344 | loss/mean: 0.0031897145174601344 | loss/std: 0.0063022440176904405 | lr: 1.25e-06 | momentum: 0.9 | precision/_macro: 0.9969029421918014 | precision/_micro: 0.9991128096635501 | precision/_weighted: 0.9991210565709925 | recall/_macro: 0.996987538714244 | recall/_micro: 0.9991128096635501 | recall/_weighted: 0.99911280966355\n"
     ]
    },
    {
     "name": "stderr",
     "output_type": "stream",
     "text": [
      "18/35 * Epoch (valid): 100%|████████████████████████████████████████████████████████████████| 50/50 [00:23<00:00,  2.10it/s, accuracy01=0.875, loss=1.173, lr=1.250e-06, momentum=0.900]\n"
     ]
    },
    {
     "name": "stdout",
     "output_type": "stream",
     "text": [
      "valid (18/35) accuracy01: 0.8982484076433125 | accuracy01/std: 0.022351712637378045 | f1/_macro: 0.7323555369188761 | f1/_micro: 0.898243407671144 | f1/_weighted: 0.8976829288721858 | loss: 0.7231066398559862 | loss/mean: 0.7231066398559862 | loss/std: 0.26125283448539577 | lr: 1.25e-06 | momentum: 0.9 | precision/_macro: 0.7573547898951866 | precision/_micro: 0.8982484076433122 | precision/_weighted: 0.9008939731990092 | recall/_macro: 0.7266974135808085 | recall/_micro: 0.8982484076433122 | recall/_weighted: 0.8982484076433122\n",
      "* Epoch (18/35) lr: 1.25e-06 | momentum: 0.9\n"
     ]
    },
    {
     "name": "stderr",
     "output_type": "stream",
     "text": [
      "19/35 * Epoch (train): 100%|██████████████████████████████████████████████████████████| 115/115 [00:56<00:00,  2.03it/s, accuracy01=1.000, loss=4.189e-04, lr=1.250e-06, momentum=0.900]\n"
     ]
    },
    {
     "name": "stdout",
     "output_type": "stream",
     "text": [
      "train (19/35) accuracy01: 0.9992493002364098 | accuracy01/std: 0.00230253157260999 | f1/_macro: 0.99359807353119 | f1/_micro: 0.999244300509561 | f1/_weighted: 0.9992453871212248 | loss: 0.003109942316443189 | loss/mean: 0.003109942316443189 | loss/std: 0.006724504288584402 | lr: 1.25e-06 | momentum: 0.9 | precision/_macro: 0.9929064424215189 | precision/_micro: 0.9992493004845424 | precision/_weighted: 0.9992557206965724 | recall/_macro: 0.9943413910888559 | recall/_micro: 0.9992493004845424 | recall/_weighted: 0.9992493004845424\n"
     ]
    },
    {
     "name": "stderr",
     "output_type": "stream",
     "text": [
      "19/35 * Epoch (valid): 100%|████████████████████████████████████████████████████████████████| 50/50 [00:24<00:00,  2.02it/s, accuracy01=0.875, loss=1.066, lr=1.250e-06, momentum=0.900]\n"
     ]
    },
    {
     "name": "stdout",
     "output_type": "stream",
     "text": [
      "valid (19/35) accuracy01: 0.900796178343949 | accuracy01/std: 0.023320369666641156 | f1/_macro: 0.747341896403182 | f1/_micro: 0.9007911783717022 | f1/_weighted: 0.9010844323148094 | loss: 0.7085635274838488 | loss/mean: 0.7085635274838488 | loss/std: 0.2653962716886923 | lr: 1.25e-06 | momentum: 0.9 | precision/_macro: 0.7619393221666878 | precision/_micro: 0.9007961783439491 | precision/_weighted: 0.9047064902608646 | recall/_macro: 0.7559378284665726 | recall/_micro: 0.9007961783439491 | recall/_weighted: 0.9007961783439491\n",
      "* Epoch (19/35) lr: 1.25e-06 | momentum: 0.9\n"
     ]
    },
    {
     "name": "stderr",
     "output_type": "stream",
     "text": [
      "20/35 * Epoch (train): 100%|██████████████████████████████████████████████████████████████| 115/115 [00:59<00:00,  1.94it/s, accuracy01=1.000, loss=0.009, lr=1.250e-06, momentum=0.900]\n"
     ]
    },
    {
     "name": "stdout",
     "output_type": "stream",
     "text": [
      "train (20/35) accuracy01: 0.9989763185944254 | accuracy01/std: 0.0028313366187190437 | f1/_macro: 0.9968524770331229 | f1/_micro: 0.9989713188675833 | f1/_weighted: 0.9989723020572153 | loss: 0.0035174797184011272 | loss/mean: 0.0035174797184011272 | loss/std: 0.008571138780301066 | lr: 1.25e-06 | momentum: 0.9 | precision/_macro: 0.997125758484153 | precision/_micro: 0.9989763188425579 | precision/_weighted: 0.9989852794584445 | recall/_macro: 0.9966351954547444 | recall/_micro: 0.9989763188425579 | recall/_weighted: 0.9989763188425577\n"
     ]
    },
    {
     "name": "stderr",
     "output_type": "stream",
     "text": [
      "20/35 * Epoch (valid): 100%|████████████████████████████████████████████████████████████████| 50/50 [00:26<00:00,  1.92it/s, accuracy01=0.875, loss=0.939, lr=1.250e-06, momentum=0.900]\n"
     ]
    },
    {
     "name": "stdout",
     "output_type": "stream",
     "text": [
      "valid (20/35) accuracy01: 0.9022292993630574 | accuracy01/std: 0.025362799318147417 | f1/_macro: 0.7416974344675126 | f1/_micro: 0.9022242993907662 | f1/_weighted: 0.9019479488039781 | loss: 0.7022368174449654 | loss/mean: 0.7022368174449654 | loss/std: 0.27674119348733367 | lr: 1.25e-06 | momentum: 0.9 | precision/_macro: 0.7568262473737565 | precision/_micro: 0.9022292993630573 | precision/_weighted: 0.9041615694160817 | recall/_macro: 0.74252143072463 | recall/_micro: 0.9022292993630573 | recall/_weighted: 0.9022292993630574\n",
      "* Epoch (20/35) lr: 6.25e-07 | momentum: 0.9\n"
     ]
    },
    {
     "name": "stderr",
     "output_type": "stream",
     "text": [
      "21/35 * Epoch (train): 100%|██████████████████████████████████████████████████████████| 115/115 [00:58<00:00,  1.96it/s, accuracy01=1.000, loss=1.928e-04, lr=6.250e-07, momentum=0.900]\n"
     ]
    },
    {
     "name": "stdout",
     "output_type": "stream",
     "text": [
      "train (21/35) accuracy01: 0.9996587726993869 | accuracy01/std: 0.0015967386365901026 | f1/_macro: 0.9982680377210071 | f1/_micro: 0.9996537729725277 | f1/_weighted: 0.9996553855650687 | loss: 0.001932638999285624 | loss/mean: 0.001932638999285624 | loss/std: 0.006493576114828067 | lr: 6.25e-07 | momentum: 0.9 | precision/_macro: 0.9972019253962873 | precision/_micro: 0.9996587729475193 | precision/_weighted: 0.9996667930890164 | recall/_macro: 0.9994011038551075 | recall/_micro: 0.9996587729475193 | recall/_weighted: 0.9996587729475193\n"
     ]
    },
    {
     "name": "stderr",
     "output_type": "stream",
     "text": [
      "21/35 * Epoch (valid): 100%|████████████████████████████████████████████████████████████████| 50/50 [00:25<00:00,  1.96it/s, accuracy01=0.875, loss=1.121, lr=6.250e-07, momentum=0.900]\n"
     ]
    },
    {
     "name": "stdout",
     "output_type": "stream",
     "text": [
      "valid (21/35) accuracy01: 0.9020700636942676 | accuracy01/std: 0.02501580698550283 | f1/_macro: 0.7406649768359795 | f1/_micro: 0.9020650637219814 | f1/_weighted: 0.9017678111225719 | loss: 0.7159669250439685 | loss/mean: 0.7159669250439685 | loss/std: 0.28468826055632757 | lr: 6.25e-07 | momentum: 0.9 | precision/_macro: 0.7611733031926422 | precision/_micro: 0.9020700636942676 | precision/_weighted: 0.9044199430592407 | recall/_macro: 0.7406882188835521 | recall/_micro: 0.9020700636942676 | recall/_weighted: 0.9020700636942676\n",
      "* Epoch (21/35) lr: 6.25e-07 | momentum: 0.9\n"
     ]
    },
    {
     "name": "stderr",
     "output_type": "stream",
     "text": [
      "22/35 * Epoch (train): 100%|██████████████████████████████████████████████████████████| 115/115 [00:57<00:00,  1.99it/s, accuracy01=1.000, loss=8.680e-06, lr=6.250e-07, momentum=0.900]\n"
     ]
    },
    {
     "name": "stdout",
     "output_type": "stream",
     "text": [
      "train (22/35) accuracy01: 0.999795263520379 | accuracy01/std: 0.0012480749527566226 | f1/_macro: 0.9998868935770979 | f1/_micro: 0.9997902637935165 | f1/_weighted: 0.9997902611152446 | loss: 0.00103098749244988 | loss/mean: 0.00103098749244988 | loss/std: 0.0018530649839315655 | lr: 6.25e-07 | momentum: 0.9 | precision/_macro: 0.9999214277026264 | precision/_micro: 0.9997952637685116 | precision/_weighted: 0.9997956469563437 | recall/_macro: 0.9998626018238314 | recall/_micro: 0.9997952637685116 | recall/_weighted: 0.9997952637685115\n"
     ]
    },
    {
     "name": "stderr",
     "output_type": "stream",
     "text": [
      "22/35 * Epoch (valid): 100%|████████████████████████████████████████████████████████████████| 50/50 [00:26<00:00,  1.88it/s, accuracy01=0.875, loss=0.804, lr=6.250e-07, momentum=0.900]\n"
     ]
    },
    {
     "name": "stdout",
     "output_type": "stream",
     "text": [
      "valid (22/35) accuracy01: 0.9039808917197452 | accuracy01/std: 0.023579580336722035 | f1/_macro: 0.7508949389130709 | f1/_micro: 0.9039758917474005 | f1/_weighted: 0.904069242307582 | loss: 0.703561861803577 | loss/mean: 0.703561861803577 | loss/std: 0.2661491758804234 | lr: 6.25e-07 | momentum: 0.9 | precision/_macro: 0.7625118114469783 | precision/_micro: 0.9039808917197452 | precision/_weighted: 0.9060269908329227 | recall/_macro: 0.7528650510338472 | recall/_micro: 0.9039808917197452 | recall/_weighted: 0.9039808917197453\n",
      "* Epoch (22/35) lr: 6.25e-07 | momentum: 0.9\n"
     ]
    },
    {
     "name": "stderr",
     "output_type": "stream",
     "text": [
      "23/35 * Epoch (train): 100%|██████████████████████████████████████████████████████████| 115/115 [00:59<00:00,  1.93it/s, accuracy01=1.000, loss=3.983e-05, lr=6.250e-07, momentum=0.900]\n"
     ]
    },
    {
     "name": "stdout",
     "output_type": "stream",
     "text": [
      "train (23/35) accuracy01: 0.9994540364678985 | accuracy01/std: 0.001991866648031389 | f1/_macro: 0.9993414919628838 | f1/_micro: 0.9994490367410442 | f1/_weighted: 0.9994487173954697 | loss: 0.001843055649270964 | loss/mean: 0.001843055649270964 | loss/std: 0.004756425041965479 | lr: 6.25e-07 | momentum: 0.9 | precision/_macro: 0.9995031102267229 | precision/_micro: 0.9994540367160308 | precision/_weighted: 0.999455150824553 | recall/_macro: 0.999196000000903 | recall/_micro: 0.9994540367160308 | recall/_weighted: 0.999454036716031\n"
     ]
    },
    {
     "name": "stderr",
     "output_type": "stream",
     "text": [
      "23/35 * Epoch (valid): 100%|████████████████████████████████████████████████████████████████| 50/50 [00:24<00:00,  2.00it/s, accuracy01=0.875, loss=1.009, lr=6.250e-07, momentum=0.900]\n"
     ]
    },
    {
     "name": "stdout",
     "output_type": "stream",
     "text": [
      "valid (23/35) accuracy01: 0.9036624203821655 | accuracy01/std: 0.02312016474919614 | f1/_macro: 0.741105565269853 | f1/_micro: 0.9036574204098307 | f1/_weighted: 0.9040404129706395 | loss: 0.7083089656890577 | loss/mean: 0.7083089656890577 | loss/std: 0.2808943253759668 | lr: 6.25e-07 | momentum: 0.9 | precision/_macro: 0.751523286647935 | precision/_micro: 0.9036624203821656 | precision/_weighted: 0.906206518355006 | recall/_macro: 0.7454776593994994 | recall/_micro: 0.9036624203821656 | recall/_weighted: 0.9036624203821656\n",
      "* Epoch (23/35) lr: 6.25e-07 | momentum: 0.9\n"
     ]
    },
    {
     "name": "stderr",
     "output_type": "stream",
     "text": [
      "24/35 * Epoch (train): 100%|██████████████████████████████████████████████████████████| 115/115 [00:58<00:00,  1.98it/s, accuracy01=1.000, loss=3.881e-04, lr=6.250e-07, momentum=0.900]\n"
     ]
    },
    {
     "name": "stdout",
     "output_type": "stream",
     "text": [
      "train (24/35) accuracy01: 0.9997952635203791 | accuracy01/std: 0.001248074952756623 | f1/_macro: 0.975607689160521 | f1/_micro: 0.9997902637935165 | f1/_weighted: 0.9997563840901147 | loss: 0.0009642169088278762 | loss/mean: 0.0009642169088278762 | loss/std: 0.0031944963873446705 | lr: 6.25e-07 | momentum: 0.9 | precision/_macro: 0.9754487188407411 | precision/_micro: 0.9997952637685116 | precision/_weighted: 0.999729144462478 | recall/_macro: 0.9757849259837992 | recall/_micro: 0.9997952637685116 | recall/_weighted: 0.9997952637685116\n"
     ]
    },
    {
     "name": "stderr",
     "output_type": "stream",
     "text": [
      "24/35 * Epoch (valid): 100%|████████████████████████████████████████████████████████████████| 50/50 [00:25<00:00,  1.99it/s, accuracy01=0.875, loss=1.057, lr=6.250e-07, momentum=0.900]\n"
     ]
    },
    {
     "name": "stdout",
     "output_type": "stream",
     "text": [
      "valid (24/35) accuracy01: 0.9044585987261148 | accuracy01/std: 0.023222257638477045 | f1/_macro: 0.7429693715697525 | f1/_micro: 0.9044535987537553 | f1/_weighted: 0.9043257972096342 | loss: 0.7114825379316975 | loss/mean: 0.7114825379316975 | loss/std: 0.2840712254362597 | lr: 6.25e-07 | momentum: 0.9 | precision/_macro: 0.7587967930495125 | precision/_micro: 0.9044585987261147 | precision/_weighted: 0.9063709517417711 | recall/_macro: 0.7443098809652451 | recall/_micro: 0.9044585987261147 | recall/_weighted: 0.9044585987261147\n",
      "* Epoch (24/35) lr: 6.25e-07 | momentum: 0.9\n"
     ]
    },
    {
     "name": "stderr",
     "output_type": "stream",
     "text": [
      "25/35 * Epoch (train): 100%|██████████████████████████████████████████████████████████| 115/115 [00:57<00:00,  2.00it/s, accuracy01=1.000, loss=4.901e-04, lr=6.250e-07, momentum=0.900]\n"
     ]
    },
    {
     "name": "stdout",
     "output_type": "stream",
     "text": [
      "train (25/35) accuracy01: 0.9998635089308754 | accuracy01/std: 0.001023609414271572 | f1/_macro: 0.9995707347333397 | f1/_micro: 0.9998585092040109 | f1/_weighted: 0.9998584601934623 | loss: 0.0008790465634806431 | loss/mean: 0.0008790465634806431 | loss/std: 0.002415825126968098 | lr: 6.25e-07 | momentum: 0.9 | precision/_macro: 0.9996128686246072 | precision/_micro: 0.9998635091790077 | precision/_weighted: 0.9998646188164722 | recall/_macro: 0.9995452602475603 | recall/_micro: 0.9998635091790077 | recall/_weighted: 0.9998635091790076\n"
     ]
    },
    {
     "name": "stderr",
     "output_type": "stream",
     "text": [
      "25/35 * Epoch (valid): 100%|████████████████████████████████████████████████████████████████| 50/50 [00:25<00:00,  1.97it/s, accuracy01=0.875, loss=0.990, lr=6.250e-07, momentum=0.900]\n"
     ]
    },
    {
     "name": "stdout",
     "output_type": "stream",
     "text": [
      "valid (25/35) accuracy01: 0.9044585987261149 | accuracy01/std: 0.022789594582276425 | f1/_macro: 0.7463531746434944 | f1/_micro: 0.9044535987537553 | f1/_weighted: 0.9048575598148164 | loss: 0.7166400685431851 | loss/mean: 0.7166400685431851 | loss/std: 0.2850491121825324 | lr: 6.25e-07 | momentum: 0.9 | precision/_macro: 0.7547652686859726 | precision/_micro: 0.9044585987261147 | precision/_weighted: 0.9068936316695946 | recall/_macro: 0.7490274183698609 | recall/_micro: 0.9044585987261147 | recall/_weighted: 0.9044585987261147\n",
      "* Epoch (25/35) lr: 3.125e-07 | momentum: 0.9\n"
     ]
    },
    {
     "name": "stderr",
     "output_type": "stream",
     "text": [
      "26/35 * Epoch (train): 100%|██████████████████████████████████████████████████████████████| 115/115 [00:59<00:00,  1.94it/s, accuracy01=1.000, loss=0.002, lr=3.125e-07, momentum=0.900]\n"
     ]
    },
    {
     "name": "stdout",
     "output_type": "stream",
     "text": [
      "train (26/35) accuracy01: 0.9995222818783946 | accuracy01/std: 0.002137896803981741 | f1/_macro: 0.9991278728369336 | f1/_micro: 0.9995172821515387 | f1/_weighted: 0.9995172789933612 | loss: 0.0014355344165880263 | loss/mean: 0.0014355344165880263 | loss/std: 0.0050952835417807305 | lr: 3.125e-07 | momentum: 0.9 | precision/_macro: 0.9991405679915137 | precision/_micro: 0.9995222821265269 | precision/_weighted: 0.9995244977586967 | recall/_macro: 0.9991356929622162 | recall/_micro: 0.9995222821265269 | recall/_weighted: 0.9995222821265269\n"
     ]
    },
    {
     "name": "stderr",
     "output_type": "stream",
     "text": [
      "26/35 * Epoch (valid): 100%|████████████████████████████████████████████████████████████████| 50/50 [00:26<00:00,  1.90it/s, accuracy01=0.875, loss=1.100, lr=3.125e-07, momentum=0.900]\n"
     ]
    },
    {
     "name": "stdout",
     "output_type": "stream",
     "text": [
      "valid (26/35) accuracy01: 0.9047770700636941 | accuracy01/std: 0.022148226561364517 | f1/_macro: 0.7494511229156025 | f1/_micro: 0.9047720700913252 | f1/_weighted: 0.9046039663552708 | loss: 0.7265356077510081 | loss/mean: 0.7265356077510081 | loss/std: 0.28778918525160524 | lr: 3.125e-07 | momentum: 0.9 | precision/_macro: 0.7660566030833567 | precision/_micro: 0.9047770700636942 | precision/_weighted: 0.9066577993945067 | recall/_macro: 0.7461145170843942 | recall/_micro: 0.9047770700636942 | recall/_weighted: 0.9047770700636943\n",
      "* Epoch (26/35) lr: 3.125e-07 | momentum: 0.9\n"
     ]
    },
    {
     "name": "stderr",
     "output_type": "stream",
     "text": [
      "27/35 * Epoch (train): 100%|██████████████████████████████████████████████████████████| 115/115 [01:01<00:00,  1.86it/s, accuracy01=1.000, loss=7.441e-05, lr=3.125e-07, momentum=0.900]\n"
     ]
    },
    {
     "name": "stdout",
     "output_type": "stream",
     "text": [
      "train (27/35) accuracy01: 0.999658772699387 | accuracy01/std: 0.0015967386365901047 | f1/_macro: 0.9997871894127803 | f1/_micro: 0.9996537729725277 | f1/_weighted: 0.9996538654956181 | loss: 0.001141162467361687 | loss/mean: 0.001141162467361687 | loss/std: 0.00291775843646165 | lr: 3.125e-07 | momentum: 0.9 | precision/_macro: 0.9997466527115902 | precision/_micro: 0.9996587729475193 | precision/_weighted: 0.9996596916304228 | recall/_macro: 0.9998384230876345 | recall/_micro: 0.9996587729475193 | recall/_weighted: 0.9996587729475193\n"
     ]
    },
    {
     "name": "stderr",
     "output_type": "stream",
     "text": [
      "27/35 * Epoch (valid): 100%|████████████████████████████████████████████████████████████████| 50/50 [00:24<00:00,  2.02it/s, accuracy01=0.875, loss=1.213, lr=3.125e-07, momentum=0.900]\n"
     ]
    },
    {
     "name": "stdout",
     "output_type": "stream",
     "text": [
      "valid (27/35) accuracy01: 0.9015923566878982 | accuracy01/std: 0.02429943380773501 | f1/_macro: 0.7379257569869478 | f1/_micro: 0.9015873567156266 | f1/_weighted: 0.9013461624859321 | loss: 0.7041894472328721 | loss/mean: 0.7041894472328721 | loss/std: 0.2812715053941927 | lr: 3.125e-07 | momentum: 0.9 | precision/_macro: 0.7594411222507301 | precision/_micro: 0.9015923566878981 | precision/_weighted: 0.9041276043628604 | recall/_macro: 0.7370306413231914 | recall/_micro: 0.9015923566878981 | recall/_weighted: 0.9015923566878981\n",
      "* Epoch (27/35) lr: 3.125e-07 | momentum: 0.9\n"
     ]
    },
    {
     "name": "stderr",
     "output_type": "stream",
     "text": [
      "28/35 * Epoch (train): 100%|██████████████████████████████████████████████████████████████| 115/115 [00:57<00:00,  2.00it/s, accuracy01=0.984, loss=0.020, lr=3.125e-07, momentum=0.900]\n"
     ]
    },
    {
     "name": "stdout",
     "output_type": "stream",
     "text": [
      "train (28/35) accuracy01: 0.9996587727807417 | accuracy01/std: 0.001770657989915032 | f1/_macro: 0.9993609858344747 | f1/_micro: 0.9996537729725277 | f1/_weighted: 0.9996531373188825 | loss: 0.0009389708853494663 | loss/mean: 0.0009389708853494663 | loss/std: 0.002604651435106153 | lr: 3.125e-07 | momentum: 0.9 | precision/_macro: 0.9997760773340552 | precision/_micro: 0.9996587729475193 | precision/_weighted: 0.9996591422778934 | recall/_macro: 0.9989741569948123 | recall/_micro: 0.9996587729475193 | recall/_weighted: 0.9996587729475193\n"
     ]
    },
    {
     "name": "stderr",
     "output_type": "stream",
     "text": [
      "28/35 * Epoch (valid): 100%|████████████████████████████████████████████████████████████████| 50/50 [00:25<00:00,  1.98it/s, accuracy01=0.875, loss=1.100, lr=3.125e-07, momentum=0.900]\n"
     ]
    },
    {
     "name": "stdout",
     "output_type": "stream",
     "text": [
      "valid (28/35) accuracy01: 0.9049363057324841 | accuracy01/std: 0.022073854672169765 | f1/_macro: 0.7429575966097429 | f1/_micro: 0.9049313057601102 | f1/_weighted: 0.9047269579090139 | loss: 0.7178882787182073 | loss/mean: 0.7178882787182073 | loss/std: 0.2879032457949572 | lr: 3.125e-07 | momentum: 0.9 | precision/_macro: 0.7621546795859376 | precision/_micro: 0.9049363057324841 | precision/_weighted: 0.906964122967399 | recall/_macro: 0.7402643836174547 | recall/_micro: 0.9049363057324841 | recall/_weighted: 0.9049363057324842\n",
      "* Epoch (28/35) lr: 3.125e-07 | momentum: 0.9\n"
     ]
    },
    {
     "name": "stderr",
     "output_type": "stream",
     "text": [
      "29/35 * Epoch (train): 100%|██████████████████████████████████████████████████████████| 115/115 [00:57<00:00,  1.98it/s, accuracy01=1.000, loss=7.326e-05, lr=3.125e-07, momentum=0.900]\n"
     ]
    },
    {
     "name": "stdout",
     "output_type": "stream",
     "text": [
      "train (29/35) accuracy01: 0.9995222818783945 | accuracy01/std: 0.0018719496328876712 | f1/_macro: 0.997715518728638 | f1/_micro: 0.9995172821515387 | f1/_weighted: 0.9995153337643151 | loss: 0.0013443289937038216 | loss/mean: 0.0013443289937038216 | loss/std: 0.003485143290641331 | lr: 3.125e-07 | momentum: 0.9 | precision/_macro: 0.9990829122225061 | precision/_micro: 0.9995222821265269 | precision/_weighted: 0.9995240733285153 | recall/_macro: 0.9964268704876824 | recall/_micro: 0.9995222821265269 | recall/_weighted: 0.9995222821265269\n"
     ]
    },
    {
     "name": "stderr",
     "output_type": "stream",
     "text": [
      "29/35 * Epoch (valid): 100%|████████████████████████████████████████████████████████████████| 50/50 [00:24<00:00,  2.01it/s, accuracy01=0.875, loss=1.114, lr=3.125e-07, momentum=0.900]\n"
     ]
    },
    {
     "name": "stdout",
     "output_type": "stream",
     "text": [
      "valid (29/35) accuracy01: 0.9044585987261149 | accuracy01/std: 0.02300694320256743 | f1/_macro: 0.742882478900666 | f1/_micro: 0.9044535987537553 | f1/_weighted: 0.9042156503116163 | loss: 0.7168100531693479 | loss/mean: 0.7168100531693479 | loss/std: 0.28916608337987404 | lr: 3.125e-07 | momentum: 0.9 | precision/_macro: 0.7571581334723025 | precision/_micro: 0.9044585987261147 | precision/_weighted: 0.9063577938155429 | recall/_macro: 0.7428273749751833 | recall/_micro: 0.9044585987261147 | recall/_weighted: 0.9044585987261148\n",
      "* Epoch (29/35) lr: 3.125e-07 | momentum: 0.9\n"
     ]
    },
    {
     "name": "stderr",
     "output_type": "stream",
     "text": [
      "30/35 * Epoch (train): 100%|██████████████████████████████████████████████████████████| 115/115 [00:57<00:00,  2.00it/s, accuracy01=1.000, loss=5.439e-05, lr=3.125e-07, momentum=0.900]\n"
     ]
    },
    {
     "name": "stdout",
     "output_type": "stream",
     "text": [
      "train (30/35) accuracy01: 0.9998635089308753 | accuracy01/std: 0.0010236094142715712 | f1/_macro: 0.9997379481884878 | f1/_micro: 0.9998585092040109 | f1/_weighted: 0.9998582253607261 | loss: 0.0008397546251445301 | loss/mean: 0.0008397546251445301 | loss/std: 0.0015737621279940234 | lr: 3.125e-07 | momentum: 0.9 | precision/_macro: 0.9999410411521853 | precision/_micro: 0.9998635091790077 | precision/_weighted: 0.9998636781731802 | recall/_macro: 0.9995486122189018 | recall/_micro: 0.9998635091790077 | recall/_weighted: 0.9998635091790078\n"
     ]
    },
    {
     "name": "stderr",
     "output_type": "stream",
     "text": [
      "30/35 * Epoch (valid): 100%|█| 50/50 [00:25<00:00,  1.96it/s, accuracy\n"
     ]
    },
    {
     "name": "stdout",
     "output_type": "stream",
     "text": [
      "valid (30/35) accuracy01: 0.905254777070064 | accuracy01/std: 0.02192088365961829 | f1/_macro: 0.7457169551454996 | f1/_micro: 0.90524977709768 | f1/_weighted: 0.9050047467280646 | loss: 0.7394996845038834 | loss/mean: 0.7394996845038834 | loss/std: 0.29580505229238074 | lr: 3.125e-07 | momentum: 0.9 | precision/_macro: 0.7598864428146415 | precision/_micro: 0.9052547770700636 | precision/_weighted: 0.9072740003124907 | recall/_macro: 0.7457895706135337 | recall/_micro: 0.9052547770700636 | recall/_weighted: 0.9052547770700636\n",
      "* Epoch (30/35) lr: 1.5625e-07 | momentum: 0.9\n"
     ]
    },
    {
     "name": "stderr",
     "output_type": "stream",
     "text": [
      "31/35 * Epoch (train): 100%|█| 115/115 [00:58<00:00,  1.98it/s, accura\n"
     ]
    },
    {
     "name": "stdout",
     "output_type": "stream",
     "text": [
      "train (31/35) accuracy01: 0.9996587726993869 | accuracy01/std: 0.0019015734511154134 | f1/_macro: 0.9988123295830088 | f1/_micro: 0.9996537729725277 | f1/_weighted: 0.9996541809188093 | loss: 0.0009234780253291456 | loss/mean: 0.0009234780253291456 | loss/std: 0.0038472392221010196 | lr: 1.5625e-07 | momentum: 0.9 | precision/_macro: 0.9985282705925351 | precision/_micro: 0.9996587729475193 | precision/_weighted: 0.9996629913761764 | recall/_macro: 0.9991322564685955 | recall/_micro: 0.9996587729475193 | recall/_weighted: 0.9996587729475193\n"
     ]
    },
    {
     "name": "stderr",
     "output_type": "stream",
     "text": [
      "31/35 * Epoch (valid): 100%|█| 50/50 [00:24<00:00,  2.02it/s, accuracy\n"
     ]
    },
    {
     "name": "stdout",
     "output_type": "stream",
     "text": [
      "valid (31/35) accuracy01: 0.905095541401274 | accuracy01/std: 0.022167111246528322 | f1/_macro: 0.7465116768339056 | f1/_micro: 0.9050905414288951 | f1/_weighted: 0.9050276113908008 | loss: 0.7258416731646108 | loss/mean: 0.7258416731646108 | loss/std: 0.28890949865965576 | lr: 1.5625e-07 | momentum: 0.9 | precision/_macro: 0.75940913769441 | precision/_micro: 0.9050955414012739 | precision/_weighted: 0.9072744168455855 | recall/_macro: 0.7454106578990023 | recall/_micro: 0.9050955414012739 | recall/_weighted: 0.9050955414012739\n",
      "* Epoch (31/35) lr: 1.5625e-07 | momentum: 0.9\n"
     ]
    },
    {
     "name": "stderr",
     "output_type": "stream",
     "text": [
      "32/35 * Epoch (train): 100%|█| 115/115 [00:58<00:00,  1.97it/s, accura\n"
     ]
    },
    {
     "name": "stdout",
     "output_type": "stream",
     "text": [
      "train (32/35) accuracy01: 0.9997952635203791 | accuracy01/std: 0.0012480749527565913 | f1/_macro: 0.9997419558003356 | f1/_micro: 0.9997902637935165 | f1/_weighted: 0.9997904670190388 | loss: 0.0009024647298867027 | loss/mean: 0.0009024647298867027 | loss/std: 0.0030956533078490434 | lr: 1.5625e-07 | momentum: 0.9 | precision/_macro: 0.999607567664389 | precision/_micro: 0.9997952637685116 | precision/_weighted: 0.9997963886001567 | recall/_macro: 0.9998888539708348 | recall/_micro: 0.9997952637685116 | recall/_weighted: 0.9997952637685116\n"
     ]
    },
    {
     "name": "stderr",
     "output_type": "stream",
     "text": [
      "32/35 * Epoch (valid): 100%|█| 50/50 [00:24<00:00,  2.02it/s, accuracy\n"
     ]
    },
    {
     "name": "stdout",
     "output_type": "stream",
     "text": [
      "valid (32/35) accuracy01: 0.9047770700636941 | accuracy01/std: 0.0210538196506178 | f1/_macro: 0.7467874887498436 | f1/_micro: 0.9047720700913252 | f1/_weighted: 0.904240261888862 | loss: 0.7311184570288202 | loss/mean: 0.7311184570288202 | loss/std: 0.2929568825731454 | lr: 1.5625e-07 | momentum: 0.9 | precision/_macro: 0.7673069174958956 | precision/_micro: 0.9047770700636942 | precision/_weighted: 0.9065314497992504 | recall/_macro: 0.7439776528632642 | recall/_micro: 0.9047770700636942 | recall/_weighted: 0.9047770700636943\n",
      "* Epoch (32/35) lr: 1.5625e-07 | momentum: 0.9\n"
     ]
    },
    {
     "name": "stderr",
     "output_type": "stream",
     "text": [
      "33/35 * Epoch (train): 100%|█| 115/115 [00:56<00:00,  2.04it/s, accura\n"
     ]
    },
    {
     "name": "stdout",
     "output_type": "stream",
     "text": [
      "train (33/35) accuracy01: 0.9996587726993867 | accuracy01/std: 0.0015967386365901275 | f1/_macro: 0.9994143643275396 | f1/_micro: 0.9996537729725277 | f1/_weighted: 0.9996532568269715 | loss: 0.0010805952340488356 | loss/mean: 0.0010805952340488356 | loss/std: 0.00331338287031832 | lr: 1.5625e-07 | momentum: 0.9 | precision/_macro: 0.999779787126509 | precision/_micro: 0.9996587729475193 | precision/_weighted: 0.9996592284461013 | recall/_macro: 0.9990675665184726 | recall/_micro: 0.9996587729475193 | recall/_weighted: 0.9996587729475193\n"
     ]
    },
    {
     "name": "stderr",
     "output_type": "stream",
     "text": [
      "33/35 * Epoch (valid): 100%|█| 50/50 [00:24<00:00,  2.02it/s, accuracy\n"
     ]
    },
    {
     "name": "stdout",
     "output_type": "stream",
     "text": [
      "valid (33/35) accuracy01: 0.9052547770700641 | accuracy01/std: 0.0214620015798909 | f1/_macro: 0.7421864532533602 | f1/_micro: 0.90524977709768 | f1/_weighted: 0.9054052045189792 | loss: 0.7233503441901723 | loss/mean: 0.7233503441901723 | loss/std: 0.28947348500984277 | lr: 1.5625e-07 | momentum: 0.9 | precision/_macro: 0.7514520340633959 | precision/_micro: 0.9052547770700636 | precision/_weighted: 0.9071275529782046 | recall/_macro: 0.7441122858766255 | recall/_micro: 0.9052547770700636 | recall/_weighted: 0.9052547770700637\n",
      "* Epoch (33/35) lr: 1.5625e-07 | momentum: 0.9\n"
     ]
    },
    {
     "name": "stderr",
     "output_type": "stream",
     "text": [
      "34/35 * Epoch (train): 100%|█| 115/115 [00:58<00:00,  1.98it/s, accura\n"
     ]
    },
    {
     "name": "stdout",
     "output_type": "stream",
     "text": [
      "train (34/35) accuracy01: 0.9997270181098831 | accuracy01/std: 0.00143467433048868 | f1/_macro: 0.9974584647743373 | f1/_micro: 0.9997220183830221 | f1/_weighted: 0.999724344381672 | loss: 0.0010131956686764126 | loss/mean: 0.0010131956686764126 | loss/std: 0.0025583996857994366 | lr: 1.5625e-07 | momentum: 0.9 | precision/_macro: 0.9960781885773538 | precision/_micro: 0.9997270183580155 | precision/_weighted: 0.9997382594744934 | recall/_macro: 0.9991276258989985 | recall/_micro: 0.9997270183580155 | recall/_weighted: 0.9997270183580154\n"
     ]
    },
    {
     "name": "stderr",
     "output_type": "stream",
     "text": [
      "34/35 * Epoch (valid): 100%|█| 50/50 [00:25<00:00,  1.94it/s, accuracy\n"
     ]
    },
    {
     "name": "stdout",
     "output_type": "stream",
     "text": [
      "valid (34/35) accuracy01: 0.9038216560509553 | accuracy01/std: 0.023164306291478965 | f1/_macro: 0.7496700291628823 | f1/_micro: 0.9038166560786156 | f1/_weighted: 0.9038991737549519 | loss: 0.7436358558144535 | loss/mean: 0.7436358558144535 | loss/std: 0.2996680849978462 | lr: 1.5625e-07 | momentum: 0.9 | precision/_macro: 0.7627585509078576 | precision/_micro: 0.9038216560509554 | precision/_weighted: 0.9064262664247958 | recall/_macro: 0.7498127624707749 | recall/_micro: 0.9038216560509554 | recall/_weighted: 0.9038216560509553\n",
      "* Epoch (34/35) lr: 1.5625e-07 | momentum: 0.9\n"
     ]
    },
    {
     "name": "stderr",
     "output_type": "stream",
     "text": [
      "35/35 * Epoch (train): 100%|█| 115/115 [00:58<00:00,  1.96it/s, accura\n"
     ]
    },
    {
     "name": "stdout",
     "output_type": "stream",
     "text": [
      "train (35/35) accuracy01: 0.9997952635203792 | accuracy01/std: 0.0012480749527565861 | f1/_macro: 0.9734785677105904 | f1/_micro: 0.9997902637935165 | f1/_weighted: 0.9997599325081261 | loss: 0.000700712610426021 | loss/mean: 0.000700712610426021 | loss/std: 0.0022319816978492437 | lr: 1.5625e-07 | momentum: 0.9 | precision/_macro: 0.9713673053402723 | precision/_micro: 0.9997952637685116 | precision/_weighted: 0.9997407465193853 | recall/_macro: 0.9761287220847614 | recall/_micro: 0.9997952637685116 | recall/_weighted: 0.9997952637685117\n"
     ]
    },
    {
     "name": "stderr",
     "output_type": "stream",
     "text": [
      "35/35 * Epoch (valid): 100%|█| 50/50 [00:25<00:00,  1.98it/s, accuracy\n"
     ]
    },
    {
     "name": "stdout",
     "output_type": "stream",
     "text": [
      "valid (35/35) accuracy01: 0.9042993630573246 | accuracy01/std: 0.022966916377306367 | f1/_macro: 0.7467385441067136 | f1/_micro: 0.9042943630849704 | f1/_weighted: 0.9041229689100717 | loss: 0.7173662266154198 | loss/mean: 0.7173662266154198 | loss/std: 0.28672848235775306 | lr: 1.5625e-07 | momentum: 0.9 | precision/_macro: 0.7556374400473329 | precision/_micro: 0.9042993630573248 | precision/_weighted: 0.9057980623660875 | recall/_macro: 0.7484023778448328 | recall/_micro: 0.9042993630573248 | recall/_weighted: 0.904299363057325\n",
      "* Epoch (35/35) lr: 7.8125e-08 | momentum: 0.9\n",
      "Top models:\n",
      "logs/resnet18/checkpoints/model.0035.pth\t35.0000\n",
      "CPU times: user 14min 27s, sys: 2min 42s, total: 17min 9s\n",
      "Wall time: 47min 45s\n"
     ]
    },
    {
     "name": "stderr",
     "output_type": "stream",
     "text": [
      "/home/dmitry/Documents/programming/study/ml/venv/lib/python3.12/site-packages/catalyst/utils/torch.py:369: FutureWarning: You are using `torch.load` with `weights_only=False` (the current default value), which uses the default pickle module implicitly. It is possible to construct malicious pickle data which will execute arbitrary code during unpickling (See https://github.com/pytorch/pytorch/blob/main/SECURITY.md#untrusted-models for more details). In a future release, the default value for `weights_only` will be flipped to `True`. This limits the functions that could be executed during unpickling. Arbitrary objects will no longer be allowed to be loaded via this mode unless they are explicitly allowlisted by the user via `torch.serialization.add_safe_globals`. We recommend you start setting `weights_only=True` for any use case where you don't have full control of the loaded file. Please open an issue on GitHub for any issues related to this experimental feature.\n",
      "  checkpoint = torch.load(path, map_location=lambda storage, loc: storage)\n"
     ]
    }
   ],
   "source": [
    "%%time\n",
    "\n",
    "runner.train(\n",
    "    model=model_resnet18,\n",
    "    engine=dl.GPUEngine(),\n",
    "    optimizer=optimizer,\n",
    "    criterion=nn.CrossEntropyLoss(),\n",
    "    scheduler=scheduler,\n",
    "    callbacks=[\n",
    "        dl.CriterionCallback(input_key=\"logits\", target_key=\"targets\", metric_key=\"loss\"),\n",
    "        dl.BackwardCallback(metric_key=\"loss\"),\n",
    "        dl.OptimizerCallback(metric_key=\"loss\"), \n",
    "        dl.AccuracyCallback(input_key=\"logits\", target_key=\"targets\"),\n",
    "        dl.SchedulerCallback(),\n",
    "        dl.PrecisionRecallF1SupportCallback(\n",
    "            input_key=\"logits\", target_key=\"targets\", num_classes=num_classes, log_on_batch=False\n",
    "        )\n",
    "    ],\n",
    "    loaders=loaders,\n",
    "    num_epochs=35,\n",
    "    verbose=True,\n",
    "    logdir=\"logs/resnet18\",\n",
    "    load_best_on_end=True\n",
    ")"
   ]
  },
  {
   "cell_type": "code",
   "execution_count": 20,
   "id": "5837be40-a746-4a58-b401-f87d85491d79",
   "metadata": {},
   "outputs": [
    {
     "data": {
      "text/html": [
       "\n",
       "      <iframe id=\"tensorboard-frame-40b2d002cc92d33d\" width=\"100%\" height=\"800\" frameborder=\"0\">\n",
       "      </iframe>\n",
       "      <script>\n",
       "        (function() {\n",
       "          const frame = document.getElementById(\"tensorboard-frame-40b2d002cc92d33d\");\n",
       "          const url = new URL(\"/\", window.location);\n",
       "          const port = 6006;\n",
       "          if (port) {\n",
       "            url.port = port;\n",
       "          }\n",
       "          frame.src = url;\n",
       "        })();\n",
       "      </script>\n",
       "    "
      ],
      "text/plain": [
       "<IPython.core.display.HTML object>"
      ]
     },
     "metadata": {},
     "output_type": "display_data"
    }
   ],
   "source": [
    "%load_ext tensorboard\n",
    "%tensorboard --logdir logs"
   ]
  },
  {
   "cell_type": "code",
   "execution_count": 21,
   "id": "3be3fc95-5df6-414c-aed2-ca3bcb800c33",
   "metadata": {},
   "outputs": [],
   "source": [
    "import os\n",
    "\n",
    "class TestDataset(Dataset):\n",
    "    def __init__(self, root, transforms):\n",
    "        super().__init__()\n",
    "        self.files = sorted(list(Path(root).rglob('*.jpg')), key=self.extract_image_number)\n",
    "        self.transforms = transforms\n",
    "\n",
    "    def __len__(self):\n",
    "        return len(self.files)\n",
    "\n",
    "    def __getitem__(self, index):\n",
    "        x = self.load_sample(self.files[index])\n",
    "        return self.transforms(x), 0\n",
    "\n",
    "    def load_sample(self, file):\n",
    "        image = Image.open(file)\n",
    "        image.load()\n",
    "        return image\n",
    "\n",
    "    def extract_image_number(self, path):\n",
    "        filename = os.path.basename(path)\n",
    "        return int(filename[3:-4])"
   ]
  },
  {
   "cell_type": "code",
   "execution_count": 22,
   "id": "6bae9151-f4e8-4290-a0c8-e3117f27286b",
   "metadata": {},
   "outputs": [],
   "source": [
    "test_transforms = transforms.Compose([\n",
    "    transforms.Resize((RESCALE_SIZE, RESCALE_SIZE)),\n",
    "    transforms.ToTensor(),\n",
    "    transforms.Lambda(lambda x: x / 255),\n",
    "    transforms.Normalize([0.485, 0.456, 0.406], [0.229, 0.224, 0.225]),\n",
    "])"
   ]
  },
  {
   "cell_type": "code",
   "execution_count": 23,
   "id": "f932a4e9-803d-4673-84ad-49f1ad5e3fed",
   "metadata": {},
   "outputs": [],
   "source": [
    "test_dir = \"./journey-springfield/testset/testset\"\n",
    "test_dataset = TestDataset(test_dir, test_transforms)"
   ]
  },
  {
   "cell_type": "code",
   "execution_count": 24,
   "id": "9ec944c4-b89f-43de-a737-3dfb78352e65",
   "metadata": {},
   "outputs": [],
   "source": [
    "test_dataloader = torch.utils.data.DataLoader(\n",
    "    test_dataset, batch_size=128\n",
    ")"
   ]
  },
  {
   "cell_type": "code",
   "execution_count": 29,
   "id": "46a9b226-4fdd-4fb9-9fa9-c40aaf5e1b23",
   "metadata": {
    "scrolled": true
   },
   "outputs": [
    {
     "ename": "TypeError",
     "evalue": "'NoneType' object is not subscriptable",
     "output_type": "error",
     "traceback": [
      "\u001b[0;31m---------------------------------------------------------------------------\u001b[0m",
      "\u001b[0;31mTypeError\u001b[0m                                 Traceback (most recent call last)",
      "Cell \u001b[0;32mIn[29], line 3\u001b[0m\n\u001b[1;32m      1\u001b[0m result \u001b[38;5;241m=\u001b[39m []\n\u001b[0;32m----> 3\u001b[0m \u001b[38;5;28;43;01mfor\u001b[39;49;00m\u001b[43m \u001b[49m\u001b[43mprediction\u001b[49m\u001b[43m \u001b[49m\u001b[38;5;129;43;01min\u001b[39;49;00m\u001b[43m \u001b[49m\u001b[43mrunner\u001b[49m\u001b[38;5;241;43m.\u001b[39;49m\u001b[43mpredict_loader\u001b[49m\u001b[43m(\u001b[49m\u001b[43mengine\u001b[49m\u001b[38;5;241;43m=\u001b[39;49m\u001b[43mdl\u001b[49m\u001b[38;5;241;43m.\u001b[39;49m\u001b[43mGPUEngine\u001b[49m\u001b[43m(\u001b[49m\u001b[38;5;124;43m\"\u001b[39;49m\u001b[38;5;124;43mcuda\u001b[39;49m\u001b[38;5;124;43m\"\u001b[39;49m\u001b[43m)\u001b[49m\u001b[43m,\u001b[49m\u001b[43m \u001b[49m\u001b[43mloader\u001b[49m\u001b[38;5;241;43m=\u001b[39;49m\u001b[43mtest_dataloader\u001b[49m\u001b[43m)\u001b[49m\u001b[43m:\u001b[49m\n\u001b[1;32m      4\u001b[0m \u001b[43m    \u001b[49m\u001b[43mresult\u001b[49m\u001b[43m \u001b[49m\u001b[38;5;241;43m+\u001b[39;49m\u001b[38;5;241;43m=\u001b[39;49m\u001b[43m \u001b[49m\u001b[43mprediction\u001b[49m\u001b[43m[\u001b[49m\u001b[38;5;124;43m'\u001b[39;49m\u001b[38;5;124;43mlogits\u001b[39;49m\u001b[38;5;124;43m'\u001b[39;49m\u001b[43m]\u001b[49m\u001b[38;5;241;43m.\u001b[39;49m\u001b[43mdetach\u001b[49m\u001b[43m(\u001b[49m\u001b[43m)\u001b[49m\u001b[38;5;241;43m.\u001b[39;49m\u001b[43mcpu\u001b[49m\u001b[43m(\u001b[49m\u001b[43m)\u001b[49m\u001b[38;5;241;43m.\u001b[39;49m\u001b[43mnumpy\u001b[49m\u001b[43m(\u001b[49m\u001b[43m)\u001b[49m\u001b[38;5;241;43m.\u001b[39;49m\u001b[43margmax\u001b[49m\u001b[43m(\u001b[49m\u001b[38;5;241;43m1\u001b[39;49m\u001b[43m)\u001b[49m\u001b[38;5;241;43m.\u001b[39;49m\u001b[43mtolist\u001b[49m\u001b[43m(\u001b[49m\u001b[43m)\u001b[49m\n",
      "File \u001b[0;32m~/Documents/programming/study/ml/venv/lib/python3.12/site-packages/torch/utils/_contextlib.py:36\u001b[0m, in \u001b[0;36m_wrap_generator.<locals>.generator_context\u001b[0;34m(*args, **kwargs)\u001b[0m\n\u001b[1;32m     33\u001b[0m \u001b[38;5;28;01mtry\u001b[39;00m:\n\u001b[1;32m     34\u001b[0m     \u001b[38;5;66;03m# Issuing `None` to a generator fires it up\u001b[39;00m\n\u001b[1;32m     35\u001b[0m     \u001b[38;5;28;01mwith\u001b[39;00m ctx_factory():\n\u001b[0;32m---> 36\u001b[0m         response \u001b[38;5;241m=\u001b[39m \u001b[43mgen\u001b[49m\u001b[38;5;241;43m.\u001b[39;49m\u001b[43msend\u001b[49m\u001b[43m(\u001b[49m\u001b[38;5;28;43;01mNone\u001b[39;49;00m\u001b[43m)\u001b[49m\n\u001b[1;32m     38\u001b[0m     \u001b[38;5;28;01mwhile\u001b[39;00m \u001b[38;5;28;01mTrue\u001b[39;00m:\n\u001b[1;32m     39\u001b[0m         \u001b[38;5;28;01mtry\u001b[39;00m:\n\u001b[1;32m     40\u001b[0m             \u001b[38;5;66;03m# Forward the response to our caller and get its next request\u001b[39;00m\n",
      "File \u001b[0;32m~/Documents/programming/study/ml/venv/lib/python3.12/site-packages/catalyst/runners/runner.py:448\u001b[0m, in \u001b[0;36mRunner.predict_loader\u001b[0;34m(self, loader, model, engine, seed, resume, cpu, fp16)\u001b[0m\n\u001b[1;32m    446\u001b[0m set_global_seed(seed)\n\u001b[1;32m    447\u001b[0m \u001b[38;5;28;01mfor\u001b[39;00m batch \u001b[38;5;129;01min\u001b[39;00m loader:\n\u001b[0;32m--> 448\u001b[0m     \u001b[38;5;28;01myield\u001b[39;00m \u001b[38;5;28;43mself\u001b[39;49m\u001b[38;5;241;43m.\u001b[39;49m\u001b[43mpredict_batch\u001b[49m\u001b[43m(\u001b[49m\u001b[43mbatch\u001b[49m\u001b[43m)\u001b[49m\n",
      "File \u001b[0;32m~/Documents/programming/study/ml/venv/lib/python3.12/site-packages/torch/utils/_contextlib.py:116\u001b[0m, in \u001b[0;36mcontext_decorator.<locals>.decorate_context\u001b[0;34m(*args, **kwargs)\u001b[0m\n\u001b[1;32m    113\u001b[0m \u001b[38;5;129m@functools\u001b[39m\u001b[38;5;241m.\u001b[39mwraps(func)\n\u001b[1;32m    114\u001b[0m \u001b[38;5;28;01mdef\u001b[39;00m \u001b[38;5;21mdecorate_context\u001b[39m(\u001b[38;5;241m*\u001b[39margs, \u001b[38;5;241m*\u001b[39m\u001b[38;5;241m*\u001b[39mkwargs):\n\u001b[1;32m    115\u001b[0m     \u001b[38;5;28;01mwith\u001b[39;00m ctx_factory():\n\u001b[0;32m--> 116\u001b[0m         \u001b[38;5;28;01mreturn\u001b[39;00m \u001b[43mfunc\u001b[49m\u001b[43m(\u001b[49m\u001b[38;5;241;43m*\u001b[39;49m\u001b[43margs\u001b[49m\u001b[43m,\u001b[49m\u001b[43m \u001b[49m\u001b[38;5;241;43m*\u001b[39;49m\u001b[38;5;241;43m*\u001b[39;49m\u001b[43mkwargs\u001b[49m\u001b[43m)\u001b[49m\n",
      "File \u001b[0;32m~/Documents/programming/study/ml/venv/lib/python3.12/site-packages/catalyst/runners/supervised.py:226\u001b[0m, in \u001b[0;36mSupervisedRunner.predict_batch\u001b[0;34m(self, batch, **kwargs)\u001b[0m\n\u001b[1;32m    211\u001b[0m \u001b[38;5;250m\u001b[39m\u001b[38;5;124;03m\"\"\"\u001b[39;00m\n\u001b[1;32m    212\u001b[0m \u001b[38;5;124;03mRun model inference on specified data batch.\u001b[39;00m\n\u001b[1;32m    213\u001b[0m \n\u001b[0;32m   (...)\u001b[0m\n\u001b[1;32m    223\u001b[0m \u001b[38;5;124;03m    Mapping[str, Any]: model output dictionary\u001b[39;00m\n\u001b[1;32m    224\u001b[0m \u001b[38;5;124;03m\"\"\"\u001b[39;00m\n\u001b[1;32m    225\u001b[0m batch \u001b[38;5;241m=\u001b[39m \u001b[38;5;28mself\u001b[39m\u001b[38;5;241m.\u001b[39m_process_batch(batch)\n\u001b[0;32m--> 226\u001b[0m output \u001b[38;5;241m=\u001b[39m \u001b[38;5;28;43mself\u001b[39;49m\u001b[38;5;241;43m.\u001b[39;49m\u001b[43mforward\u001b[49m\u001b[43m(\u001b[49m\u001b[43mbatch\u001b[49m\u001b[43m,\u001b[49m\u001b[43m \u001b[49m\u001b[38;5;241;43m*\u001b[39;49m\u001b[38;5;241;43m*\u001b[39;49m\u001b[43mkwargs\u001b[49m\u001b[43m)\u001b[49m\n\u001b[1;32m    227\u001b[0m \u001b[38;5;28;01mreturn\u001b[39;00m output\n",
      "File \u001b[0;32m~/Documents/programming/study/ml/venv/lib/python3.12/site-packages/catalyst/runners/supervised.py:143\u001b[0m, in \u001b[0;36mISupervisedRunner.forward\u001b[0;34m(self, batch, **kwargs)\u001b[0m\n\u001b[1;32m    129\u001b[0m \u001b[38;5;28;01mdef\u001b[39;00m \u001b[38;5;21mforward\u001b[39m(\u001b[38;5;28mself\u001b[39m, batch: Mapping[\u001b[38;5;28mstr\u001b[39m, Any], \u001b[38;5;241m*\u001b[39m\u001b[38;5;241m*\u001b[39mkwargs) \u001b[38;5;241m-\u001b[39m\u001b[38;5;241m>\u001b[39m Mapping[\u001b[38;5;28mstr\u001b[39m, Any]:\n\u001b[1;32m    130\u001b[0m \u001b[38;5;250m    \u001b[39m\u001b[38;5;124;03m\"\"\"\u001b[39;00m\n\u001b[1;32m    131\u001b[0m \u001b[38;5;124;03m    Forward method for your Runner.\u001b[39;00m\n\u001b[1;32m    132\u001b[0m \u001b[38;5;124;03m    Should not be called directly outside of runner.\u001b[39;00m\n\u001b[0;32m   (...)\u001b[0m\n\u001b[1;32m    141\u001b[0m \u001b[38;5;124;03m        dict with model output batch\u001b[39;00m\n\u001b[1;32m    142\u001b[0m \u001b[38;5;124;03m    \"\"\"\u001b[39;00m\n\u001b[0;32m--> 143\u001b[0m     output \u001b[38;5;241m=\u001b[39m \u001b[38;5;28;43mself\u001b[39;49m\u001b[38;5;241;43m.\u001b[39;49m\u001b[43m_process_input\u001b[49m\u001b[43m(\u001b[49m\u001b[43mbatch\u001b[49m\u001b[43m,\u001b[49m\u001b[43m \u001b[49m\u001b[38;5;241;43m*\u001b[39;49m\u001b[38;5;241;43m*\u001b[39;49m\u001b[43mkwargs\u001b[49m\u001b[43m)\u001b[49m\n\u001b[1;32m    144\u001b[0m     output \u001b[38;5;241m=\u001b[39m \u001b[38;5;28mself\u001b[39m\u001b[38;5;241m.\u001b[39m_process_output(output)\n\u001b[1;32m    145\u001b[0m     \u001b[38;5;28;01mreturn\u001b[39;00m output\n",
      "File \u001b[0;32m~/Documents/programming/study/ml/venv/lib/python3.12/site-packages/catalyst/runners/supervised.py:106\u001b[0m, in \u001b[0;36mISupervisedRunner._process_input_str\u001b[0;34m(self, batch, **kwargs)\u001b[0m\n\u001b[1;32m    105\u001b[0m \u001b[38;5;28;01mdef\u001b[39;00m \u001b[38;5;21m_process_input_str\u001b[39m(\u001b[38;5;28mself\u001b[39m, batch: Mapping[\u001b[38;5;28mstr\u001b[39m, Any], \u001b[38;5;241m*\u001b[39m\u001b[38;5;241m*\u001b[39mkwargs):\n\u001b[0;32m--> 106\u001b[0m     output \u001b[38;5;241m=\u001b[39m \u001b[38;5;28mself\u001b[39m\u001b[38;5;241m.\u001b[39mmodel(\u001b[43mbatch\u001b[49m\u001b[43m[\u001b[49m\u001b[38;5;28;43mself\u001b[39;49m\u001b[38;5;241;43m.\u001b[39;49m\u001b[43m_input_key\u001b[49m\u001b[43m]\u001b[49m, \u001b[38;5;241m*\u001b[39m\u001b[38;5;241m*\u001b[39mkwargs)\n\u001b[1;32m    107\u001b[0m     \u001b[38;5;28;01mreturn\u001b[39;00m output\n",
      "\u001b[0;31mTypeError\u001b[0m: 'NoneType' object is not subscriptable"
     ]
    }
   ],
   "source": [
    "result = []\n",
    "\n",
    "for prediction in runner.predict_loader(engine=dl.GPUEngine(\"cuda\"), loader=test_dataloader):\n",
    "    result += prediction['logits'].detach().cpu().numpy().argmax(1).tolist()"
   ]
  },
  {
   "cell_type": "code",
   "execution_count": null,
   "id": "fa566d97-06bf-46c0-b747-2d0b99985e96",
   "metadata": {},
   "outputs": [],
   "source": [
    "from sklearn.preprocessing import LabelEncoder\n",
    "\n",
    "label_encoder = LabelEncoder()\n",
    "label_encoder.fit(image_datasets.classes)"
   ]
  },
  {
   "cell_type": "code",
   "execution_count": null,
   "id": "877d9596-6055-4298-9146-02f5c59fba4c",
   "metadata": {},
   "outputs": [],
   "source": [
    "import pandas as pd\n",
    "\n",
    "sample_submission_path = 'sample_submission.csv'\n",
    "submission = pd.read_csv(sample_submission_path)\n",
    "submission.head()"
   ]
  },
  {
   "cell_type": "code",
   "execution_count": null,
   "id": "7694b976-7403-41a8-9d30-ff09f3067421",
   "metadata": {},
   "outputs": [],
   "source": [
    "submission['Expected'] = label_encoder.inverse_transform(result)\n",
    "submission"
   ]
  },
  {
   "cell_type": "code",
   "execution_count": null,
   "id": "ba918f3e-2b49-42b0-9cb2-e5ed710cadda",
   "metadata": {},
   "outputs": [],
   "source": [
    "submission_path = 'submission.csv'\n",
    "submission.to_csv(submission_path, index=None)"
   ]
  },
  {
   "cell_type": "code",
   "execution_count": null,
   "id": "b0f2cb13-0ef5-4fff-a91a-fcb45bc0733c",
   "metadata": {},
   "outputs": [],
   "source": []
  }
 ],
 "metadata": {
  "kernelspec": {
   "display_name": "Python 3 (ipykernel)",
   "language": "python",
   "name": "python3"
  },
  "language_info": {
   "codemirror_mode": {
    "name": "ipython",
    "version": 3
   },
   "file_extension": ".py",
   "mimetype": "text/x-python",
   "name": "python",
   "nbconvert_exporter": "python",
   "pygments_lexer": "ipython3",
   "version": "3.12.3"
  }
 },
 "nbformat": 4,
 "nbformat_minor": 5
}
