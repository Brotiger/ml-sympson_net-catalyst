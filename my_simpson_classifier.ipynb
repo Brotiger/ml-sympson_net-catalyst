{
 "cells": [
  {
   "cell_type": "code",
   "execution_count": 1,
   "id": "ff396579-9f30-4c71-bc58-80a728f780a5",
   "metadata": {},
   "outputs": [
    {
     "name": "stdout",
     "output_type": "stream",
     "text": [
      "True\n"
     ]
    }
   ],
   "source": [
    "import torch\n",
    "import numpy as np\n",
    "import PIL\n",
    "\n",
    "print(torch.cuda.is_available())"
   ]
  },
  {
   "cell_type": "code",
   "execution_count": 2,
   "id": "ecf37d47-da7f-44d7-a5b0-2e715a58de85",
   "metadata": {},
   "outputs": [
    {
     "name": "stdout",
     "output_type": "stream",
     "text": [
      "Fri Jul 26 19:11:41 2024       \n",
      "+---------------------------------------------------------------------------------------+\n",
      "| NVIDIA-SMI 545.29.06              Driver Version: 545.29.06    CUDA Version: 12.3     |\n",
      "|-----------------------------------------+----------------------+----------------------+\n",
      "| GPU  Name                 Persistence-M | Bus-Id        Disp.A | Volatile Uncorr. ECC |\n",
      "| Fan  Temp   Perf          Pwr:Usage/Cap |         Memory-Usage | GPU-Util  Compute M. |\n",
      "|                                         |                      |               MIG M. |\n",
      "|=========================================+======================+======================|\n",
      "|   0  NVIDIA GeForce RTX 3080 ...    Off | 00000000:01:00.0  On |                  N/A |\n",
      "| N/A   65C    P8              23W / 125W |    174MiB / 16384MiB |     11%      Default |\n",
      "|                                         |                      |                  N/A |\n",
      "+-----------------------------------------+----------------------+----------------------+\n",
      "                                                                                         \n",
      "+---------------------------------------------------------------------------------------+\n",
      "| Processes:                                                                            |\n",
      "|  GPU   GI   CI        PID   Type   Process name                            GPU Memory |\n",
      "|        ID   ID                                                             Usage      |\n",
      "|=======================================================================================|\n",
      "|    0   N/A  N/A      6603      G   /usr/lib/xorg/Xorg                          165MiB |\n",
      "+---------------------------------------------------------------------------------------+\n"
     ]
    }
   ],
   "source": [
    "!nvidia-smi"
   ]
  },
  {
   "cell_type": "code",
   "execution_count": 3,
   "id": "fe5791e8-62ef-4fc1-ba96-9419881abc6b",
   "metadata": {},
   "outputs": [],
   "source": [
    "import pickle\n",
    "import numpy as np\n",
    "from skimage import io\n",
    "\n",
    "from tqdm import tqdm, tqdm_notebook\n",
    "from PIL import Image\n",
    "from pathlib import Path\n",
    "\n",
    "from torchvision import transforms, models, datasets\n",
    "from multiprocessing.pool import ThreadPool\n",
    "from sklearn.preprocessing import LabelEncoder\n",
    "from torch.utils.data import Dataset, DataLoader\n",
    "import torch.nn as nn\n",
    "\n",
    "from matplotlib import colors, pyplot as plt\n",
    "%matplotlib inline"
   ]
  },
  {
   "cell_type": "code",
   "execution_count": 4,
   "id": "57023b1a-6af4-4762-8dcf-4dee9189ed72",
   "metadata": {},
   "outputs": [],
   "source": [
    "DATA_MODES = ['train', 'val', 'test']\n",
    "RESCALE_SIZE = 224\n",
    "DEVICE = torch.device(\"cuda\")"
   ]
  },
  {
   "cell_type": "code",
   "execution_count": 5,
   "id": "d038d212-7466-4f9b-90c3-6f105649121e",
   "metadata": {},
   "outputs": [],
   "source": [
    "data_transforms = transforms.Compose([\n",
    "    transforms.Resize((RESCALE_SIZE, RESCALE_SIZE)),\n",
    "    transforms.ToTensor(),\n",
    "    transforms.Normalize([0.485, 0.456, 0.406], [0.229, 0.224, 0.225]),\n",
    "])"
   ]
  },
  {
   "cell_type": "code",
   "execution_count": 6,
   "id": "14325089-6997-4ed2-9ce1-a7c127200e6c",
   "metadata": {},
   "outputs": [],
   "source": [
    "data_dir = \"./train/simpsons_dataset\""
   ]
  },
  {
   "cell_type": "code",
   "execution_count": 7,
   "id": "dbdc19f3-de9e-4022-aa4d-bd7f5023ef8d",
   "metadata": {},
   "outputs": [],
   "source": [
    "import math\n",
    "\n",
    "image_datasets = datasets.ImageFolder(data_dir, data_transforms)"
   ]
  },
  {
   "cell_type": "code",
   "execution_count": 8,
   "id": "3a5c683e-589c-4102-8cf7-4f919e202d8a",
   "metadata": {},
   "outputs": [],
   "source": [
    "dataset_len = len(image_datasets)\n",
    "p1 = (dataset_len / 100)\n",
    "train_size = math.floor(p1 * 70)\n",
    "test_size = dataset_len - train_size"
   ]
  },
  {
   "cell_type": "code",
   "execution_count": 9,
   "id": "95e1ee19-f526-43cc-91ed-8a44e8a81280",
   "metadata": {},
   "outputs": [],
   "source": [
    "train_dataset, val_dataset = torch.utils.data.random_split(image_datasets, [train_size, test_size])"
   ]
  },
  {
   "cell_type": "code",
   "execution_count": 10,
   "id": "6263b8aa-9058-4255-b21a-20fc994bea3e",
   "metadata": {},
   "outputs": [
    {
     "data": {
      "text/plain": [
       "(14653, 6280)"
      ]
     },
     "execution_count": 10,
     "metadata": {},
     "output_type": "execute_result"
    }
   ],
   "source": [
    "len(train_dataset), len(val_dataset)"
   ]
  },
  {
   "cell_type": "code",
   "execution_count": 11,
   "id": "a3c32887-f933-4411-88b9-dabaff295c03",
   "metadata": {},
   "outputs": [],
   "source": [
    "train_dataloader = torch.utils.data.DataLoader(\n",
    "    train_dataset, batch_size=32,\n",
    "    shuffle=True\n",
    ")\n",
    "val_dataloader = torch.utils.data.DataLoader(\n",
    "    val_dataset, batch_size=128\n",
    ")\n",
    "\n",
    "loaders = {\n",
    "    \"train\": train_dataloader,\n",
    "    \"valid\": val_dataloader\n",
    "}"
   ]
  },
  {
   "cell_type": "code",
   "execution_count": 12,
   "id": "bafe9fb0-60e2-4877-af54-63a3b7d8b67e",
   "metadata": {},
   "outputs": [
    {
     "name": "stderr",
     "output_type": "stream",
     "text": [
      "/home/brotiger/.local/lib/python3.10/site-packages/torchvision/models/_utils.py:208: UserWarning: The parameter 'pretrained' is deprecated since 0.13 and may be removed in the future, please use 'weights' instead.\n",
      "  warnings.warn(\n",
      "/home/brotiger/.local/lib/python3.10/site-packages/torchvision/models/_utils.py:223: UserWarning: Arguments other than a weight enum or `None` for 'weights' are deprecated since 0.13 and may be removed in the future. The current behavior is equivalent to passing `weights=ResNet18_Weights.IMAGENET1K_V1`. You can also use `weights=ResNet18_Weights.DEFAULT` to get the most up-to-date weights.\n",
      "  warnings.warn(msg)\n"
     ]
    },
    {
     "data": {
      "text/plain": [
       "ResNet(\n",
       "  (conv1): Conv2d(3, 64, kernel_size=(7, 7), stride=(2, 2), padding=(3, 3), bias=False)\n",
       "  (bn1): BatchNorm2d(64, eps=1e-05, momentum=0.1, affine=True, track_running_stats=True)\n",
       "  (relu): ReLU(inplace=True)\n",
       "  (maxpool): MaxPool2d(kernel_size=3, stride=2, padding=1, dilation=1, ceil_mode=False)\n",
       "  (layer1): Sequential(\n",
       "    (0): BasicBlock(\n",
       "      (conv1): Conv2d(64, 64, kernel_size=(3, 3), stride=(1, 1), padding=(1, 1), bias=False)\n",
       "      (bn1): BatchNorm2d(64, eps=1e-05, momentum=0.1, affine=True, track_running_stats=True)\n",
       "      (relu): ReLU(inplace=True)\n",
       "      (conv2): Conv2d(64, 64, kernel_size=(3, 3), stride=(1, 1), padding=(1, 1), bias=False)\n",
       "      (bn2): BatchNorm2d(64, eps=1e-05, momentum=0.1, affine=True, track_running_stats=True)\n",
       "    )\n",
       "    (1): BasicBlock(\n",
       "      (conv1): Conv2d(64, 64, kernel_size=(3, 3), stride=(1, 1), padding=(1, 1), bias=False)\n",
       "      (bn1): BatchNorm2d(64, eps=1e-05, momentum=0.1, affine=True, track_running_stats=True)\n",
       "      (relu): ReLU(inplace=True)\n",
       "      (conv2): Conv2d(64, 64, kernel_size=(3, 3), stride=(1, 1), padding=(1, 1), bias=False)\n",
       "      (bn2): BatchNorm2d(64, eps=1e-05, momentum=0.1, affine=True, track_running_stats=True)\n",
       "    )\n",
       "  )\n",
       "  (layer2): Sequential(\n",
       "    (0): BasicBlock(\n",
       "      (conv1): Conv2d(64, 128, kernel_size=(3, 3), stride=(2, 2), padding=(1, 1), bias=False)\n",
       "      (bn1): BatchNorm2d(128, eps=1e-05, momentum=0.1, affine=True, track_running_stats=True)\n",
       "      (relu): ReLU(inplace=True)\n",
       "      (conv2): Conv2d(128, 128, kernel_size=(3, 3), stride=(1, 1), padding=(1, 1), bias=False)\n",
       "      (bn2): BatchNorm2d(128, eps=1e-05, momentum=0.1, affine=True, track_running_stats=True)\n",
       "      (downsample): Sequential(\n",
       "        (0): Conv2d(64, 128, kernel_size=(1, 1), stride=(2, 2), bias=False)\n",
       "        (1): BatchNorm2d(128, eps=1e-05, momentum=0.1, affine=True, track_running_stats=True)\n",
       "      )\n",
       "    )\n",
       "    (1): BasicBlock(\n",
       "      (conv1): Conv2d(128, 128, kernel_size=(3, 3), stride=(1, 1), padding=(1, 1), bias=False)\n",
       "      (bn1): BatchNorm2d(128, eps=1e-05, momentum=0.1, affine=True, track_running_stats=True)\n",
       "      (relu): ReLU(inplace=True)\n",
       "      (conv2): Conv2d(128, 128, kernel_size=(3, 3), stride=(1, 1), padding=(1, 1), bias=False)\n",
       "      (bn2): BatchNorm2d(128, eps=1e-05, momentum=0.1, affine=True, track_running_stats=True)\n",
       "    )\n",
       "  )\n",
       "  (layer3): Sequential(\n",
       "    (0): BasicBlock(\n",
       "      (conv1): Conv2d(128, 256, kernel_size=(3, 3), stride=(2, 2), padding=(1, 1), bias=False)\n",
       "      (bn1): BatchNorm2d(256, eps=1e-05, momentum=0.1, affine=True, track_running_stats=True)\n",
       "      (relu): ReLU(inplace=True)\n",
       "      (conv2): Conv2d(256, 256, kernel_size=(3, 3), stride=(1, 1), padding=(1, 1), bias=False)\n",
       "      (bn2): BatchNorm2d(256, eps=1e-05, momentum=0.1, affine=True, track_running_stats=True)\n",
       "      (downsample): Sequential(\n",
       "        (0): Conv2d(128, 256, kernel_size=(1, 1), stride=(2, 2), bias=False)\n",
       "        (1): BatchNorm2d(256, eps=1e-05, momentum=0.1, affine=True, track_running_stats=True)\n",
       "      )\n",
       "    )\n",
       "    (1): BasicBlock(\n",
       "      (conv1): Conv2d(256, 256, kernel_size=(3, 3), stride=(1, 1), padding=(1, 1), bias=False)\n",
       "      (bn1): BatchNorm2d(256, eps=1e-05, momentum=0.1, affine=True, track_running_stats=True)\n",
       "      (relu): ReLU(inplace=True)\n",
       "      (conv2): Conv2d(256, 256, kernel_size=(3, 3), stride=(1, 1), padding=(1, 1), bias=False)\n",
       "      (bn2): BatchNorm2d(256, eps=1e-05, momentum=0.1, affine=True, track_running_stats=True)\n",
       "    )\n",
       "  )\n",
       "  (layer4): Sequential(\n",
       "    (0): BasicBlock(\n",
       "      (conv1): Conv2d(256, 512, kernel_size=(3, 3), stride=(2, 2), padding=(1, 1), bias=False)\n",
       "      (bn1): BatchNorm2d(512, eps=1e-05, momentum=0.1, affine=True, track_running_stats=True)\n",
       "      (relu): ReLU(inplace=True)\n",
       "      (conv2): Conv2d(512, 512, kernel_size=(3, 3), stride=(1, 1), padding=(1, 1), bias=False)\n",
       "      (bn2): BatchNorm2d(512, eps=1e-05, momentum=0.1, affine=True, track_running_stats=True)\n",
       "      (downsample): Sequential(\n",
       "        (0): Conv2d(256, 512, kernel_size=(1, 1), stride=(2, 2), bias=False)\n",
       "        (1): BatchNorm2d(512, eps=1e-05, momentum=0.1, affine=True, track_running_stats=True)\n",
       "      )\n",
       "    )\n",
       "    (1): BasicBlock(\n",
       "      (conv1): Conv2d(512, 512, kernel_size=(3, 3), stride=(1, 1), padding=(1, 1), bias=False)\n",
       "      (bn1): BatchNorm2d(512, eps=1e-05, momentum=0.1, affine=True, track_running_stats=True)\n",
       "      (relu): ReLU(inplace=True)\n",
       "      (conv2): Conv2d(512, 512, kernel_size=(3, 3), stride=(1, 1), padding=(1, 1), bias=False)\n",
       "      (bn2): BatchNorm2d(512, eps=1e-05, momentum=0.1, affine=True, track_running_stats=True)\n",
       "    )\n",
       "  )\n",
       "  (avgpool): AdaptiveAvgPool2d(output_size=(1, 1))\n",
       "  (fc): Linear(in_features=512, out_features=1000, bias=True)\n",
       ")"
      ]
     },
     "execution_count": 12,
     "metadata": {},
     "output_type": "execute_result"
    }
   ],
   "source": [
    "model_resnet18 = models.resnet18(pretrained=True)\n",
    "model_resnet18"
   ]
  },
  {
   "cell_type": "code",
   "execution_count": 13,
   "id": "b6aea76a-637b-4881-b73d-513c04e3fdc6",
   "metadata": {},
   "outputs": [],
   "source": [
    "for param in model_resnet18.parameters():\n",
    "    param.requires_grad = False"
   ]
  },
  {
   "cell_type": "code",
   "execution_count": 14,
   "id": "d4b42076-38fe-453e-9c01-f92f9ded107f",
   "metadata": {},
   "outputs": [],
   "source": [
    "num_classes = 42\n",
    "model_resnet18.fc = nn.Linear(512, num_classes)"
   ]
  },
  {
   "cell_type": "code",
   "execution_count": 15,
   "id": "d3b602f1-e72d-484a-82d3-905e12789f13",
   "metadata": {},
   "outputs": [],
   "source": [
    "import torch.optim as optim\n",
    "\n",
    "optimizer = optim.Adam(model_resnet18.fc.parameters(), lr=1e-4)\n",
    "scheduler = optim.lr_scheduler.StepLR(optimizer, 10, gamma=0.5)"
   ]
  },
  {
   "cell_type": "code",
   "execution_count": 16,
   "id": "79a13a41-64a1-4b5b-a3b9-1579a54706f6",
   "metadata": {},
   "outputs": [],
   "source": [
    "!rm -rf logs"
   ]
  },
  {
   "cell_type": "code",
   "execution_count": 17,
   "id": "4b54d929-4898-437f-86b5-0ec5a9c76e9e",
   "metadata": {},
   "outputs": [
    {
     "data": {
      "application/vnd.jupyter.widget-view+json": {
       "model_id": "3021d2b6e0ca438fa9cb48a11df10d38",
       "version_major": 2,
       "version_minor": 0
      },
      "text/plain": [
       "1/30 * Epoch (train):   0%|          | 0/458 [00:00<?, ?it/s]"
      ]
     },
     "metadata": {},
     "output_type": "display_data"
    },
    {
     "name": "stdout",
     "output_type": "stream",
     "text": [
      "train (1/30) accuracy: 0.7991358976083304 | accuracy/std: 0.020360888661742266 | accuracy01: 0.18139630109061586 | accuracy01/std: 0.09364998588199676 | f1/_macro: 0.058930786718675465 | f1/_micro: 0.18139130123656716 | f1/_weighted: 0.15217847325048173 | loss: 2.953725912607887 | loss/mean: 2.953725912607887 | loss/std: 0.2665735935952653 | lr: 0.0001 | momentum: 0.9 | precision/_macro: 0.08816007275263302 | precision/_micro: 0.18139630109875116 | precision/_weighted: 0.18720963525547593 | recall/_macro: 0.06192763475162297 | recall/_micro: 0.18139630109875116 | recall/_weighted: 0.1813963010987511\n"
     ]
    },
    {
     "name": "stderr",
     "output_type": "stream",
     "text": [
      "/home/brotiger/.local/lib/python3.10/site-packages/accelerate/utils/dataclasses.py:480: FutureWarning: The `TPU` of `<enum 'DistributedType'>` is deprecated and will be removed in v1.0.0. Please use the `XLA` instead.\n",
      "  warnings.warn(\n"
     ]
    },
    {
     "data": {
      "application/vnd.jupyter.widget-view+json": {
       "model_id": "a9972db9fd824a2ebee97c35ae64302c",
       "version_major": 2,
       "version_minor": 0
      },
      "text/plain": [
       "1/30 * Epoch (valid):   0%|          | 0/50 [00:00<?, ?it/s]"
      ]
     },
     "metadata": {},
     "output_type": "display_data"
    },
    {
     "name": "stdout",
     "output_type": "stream",
     "text": [
      "valid (1/30) accuracy: 0.831248117404379 | accuracy/std: 0.003964969292878992 | accuracy01: 0.30907643312101923 | accuracy01/std: 0.041505776287375895 | f1/_macro: 0.11204347110001404 | f1/_micro: 0.3090714332019039 | f1/_weighted: 0.27175528329094323 | loss: 2.6657717103411436 | loss/mean: 2.6657717103411436 | loss/std: 0.09970883651796326 | lr: 0.0001 | momentum: 0.9 | precision/_macro: 0.17247337470495808 | precision/_micro: 0.30907643312101907 | precision/_weighted: 0.36115306379038503 | recall/_macro: 0.11603839395954878 | recall/_micro: 0.30907643312101907 | recall/_weighted: 0.3090764331210191\n",
      "* Epoch (1/30) lr: 0.0001 | momentum: 0.9\n"
     ]
    },
    {
     "data": {
      "application/vnd.jupyter.widget-view+json": {
       "model_id": "8539ea38aec84de0aedf90c5501ca1c3",
       "version_major": 2,
       "version_minor": 0
      },
      "text/plain": [
       "2/30 * Epoch (train):   0%|          | 0/458 [00:00<?, ?it/s]"
      ]
     },
     "metadata": {},
     "output_type": "display_data"
    },
    {
     "name": "stdout",
     "output_type": "stream",
     "text": [
      "train (2/30) accuracy: 0.8761410950833373 | accuracy/std: 0.021545605486082087 | accuracy01: 0.41192929773642123 | accuracy01/std: 0.10157303572510615 | f1/_macro: 0.1631904893294211 | f1/_micro: 0.41192429781541534 | f1/_weighted: 0.3814819579783274 | loss: 2.4745792625853946 | loss/mean: 2.4745792625853946 | loss/std: 0.20927426502338273 | lr: 0.0001 | momentum: 0.9 | precision/_macro: 0.22879378503543193 | precision/_micro: 0.411929297754726 | precision/_weighted: 0.44219771011928566 | recall/_macro: 0.162429796681501 | recall/_micro: 0.411929297754726 | recall/_weighted: 0.411929297754726\n"
     ]
    },
    {
     "data": {
      "application/vnd.jupyter.widget-view+json": {
       "model_id": "a16615e6b45a4ee6b7008c19216275c3",
       "version_major": 2,
       "version_minor": 0
      },
      "text/plain": [
       "2/30 * Epoch (valid):   0%|          | 0/50 [00:00<?, ?it/s]"
      ]
     },
     "metadata": {},
     "output_type": "display_data"
    },
    {
     "name": "stdout",
     "output_type": "stream",
     "text": [
      "valid (2/30) accuracy: 0.9087693513578667 | accuracy/std: 0.0034361026344111095 | accuracy01: 0.5071656050955414 | accuracy01/std: 0.048193678394118235 | f1/_macro: 0.20842385443499284 | f1/_micro: 0.5071606051448344 | f1/_weighted: 0.4741862953585765 | loss: 2.276305762977357 | loss/mean: 2.276305762977357 | loss/std: 0.10217421609046756 | lr: 0.0001 | momentum: 0.9 | precision/_macro: 0.2461502292066436 | precision/_micro: 0.5071656050955414 | precision/_weighted: 0.5033460579913157 | recall/_macro: 0.2111518554200788 | recall/_micro: 0.5071656050955414 | recall/_weighted: 0.5071656050955413\n",
      "* Epoch (2/30) lr: 0.0001 | momentum: 0.9\n"
     ]
    },
    {
     "data": {
      "application/vnd.jupyter.widget-view+json": {
       "model_id": "ea66ccce72ac4713aa5b4ae09e5407e9",
       "version_major": 2,
       "version_minor": 0
      },
      "text/plain": [
       "3/30 * Epoch (train):   0%|          | 0/458 [00:00<?, ?it/s]"
      ]
     },
     "metadata": {},
     "output_type": "display_data"
    },
    {
     "name": "stdout",
     "output_type": "stream",
     "text": [
      "train (3/30) accuracy: 0.9257262632202999 | accuracy/std: 0.012253811699413981 | accuracy01: 0.5305398211929563 | accuracy01/std: 0.09121641945045668 | f1/_macro: 0.21976901933491597 | f1/_micro: 0.5305348212441459 | f1/_weighted: 0.49582989032526853 | loss: 2.153198012115927 | loss/mean: 2.153198012115927 | loss/std: 0.19591606153924435 | lr: 0.0001 | momentum: 0.9 | precision/_macro: 0.28153569507403586 | precision/_micro: 0.5305398211970245 | precision/_weighted: 0.5311573661322762 | recall/_macro: 0.22206084905871823 | recall/_micro: 0.5305398211970245 | recall/_weighted: 0.5305398211970245\n"
     ]
    },
    {
     "data": {
      "application/vnd.jupyter.widget-view+json": {
       "model_id": "f38cadb0a22d42e1b00dadbc12264d23",
       "version_major": 2,
       "version_minor": 0
      },
      "text/plain": [
       "3/30 * Epoch (valid):   0%|          | 0/50 [00:00<?, ?it/s]"
      ]
     },
     "metadata": {},
     "output_type": "display_data"
    },
    {
     "name": "stdout",
     "output_type": "stream",
     "text": [
      "valid (3/30) accuracy: 0.9409539152862161 | accuracy/std: 0.00295936587999327 | accuracy01: 0.5714968152866241 | accuracy01/std: 0.04676825694495499 | f1/_macro: 0.24086172171623305 | f1/_micro: 0.5714918153303685 | f1/_weighted: 0.5353381548057405 | loss: 2.002677631378174 | loss/mean: 2.002677631378174 | loss/std: 0.1060121070443941 | lr: 0.0001 | momentum: 0.9 | precision/_macro: 0.30927811140284184 | precision/_micro: 0.5714968152866242 | precision/_weighted: 0.5703406707533463 | recall/_macro: 0.24381332414839932 | recall/_micro: 0.5714968152866242 | recall/_weighted: 0.5714968152866242\n",
      "* Epoch (3/30) lr: 0.0001 | momentum: 0.9\n"
     ]
    },
    {
     "data": {
      "application/vnd.jupyter.widget-view+json": {
       "model_id": "8593745aa144491ca3c9e7f2d7f9c3e6",
       "version_major": 2,
       "version_minor": 0
      },
      "text/plain": [
       "4/30 * Epoch (train):   0%|          | 0/458 [00:00<?, ?it/s]"
      ]
     },
     "metadata": {},
     "output_type": "display_data"
    },
    {
     "name": "stdout",
     "output_type": "stream",
     "text": [
      "train (4/30) accuracy: 0.9502393625534772 | accuracy/std: 0.007259627706685045 | accuracy01: 0.585272640410864 | accuracy01/std: 0.08566732394115802 | f1/_macro: 0.2516919885299041 | f1/_micro: 0.5852676404576468 | f1/_weighted: 0.551383665894321 | loss: 1.9254139061471367 | loss/mean: 1.9254139061471367 | loss/std: 0.19665108974047305 | lr: 0.0001 | momentum: 0.9 | precision/_macro: 0.30702829937565923 | precision/_micro: 0.5852726404149321 | precision/_weighted: 0.56913275385016 | recall/_macro: 0.2534814494829539 | recall/_micro: 0.5852726404149321 | recall/_weighted: 0.5852726404149321\n"
     ]
    },
    {
     "data": {
      "application/vnd.jupyter.widget-view+json": {
       "model_id": "7a5a619339fc47d880d7b339d597c2c5",
       "version_major": 2,
       "version_minor": 0
      },
      "text/plain": [
       "4/30 * Epoch (valid):   0%|          | 0/50 [00:00<?, ?it/s]"
      ]
     },
     "metadata": {},
     "output_type": "display_data"
    },
    {
     "name": "stdout",
     "output_type": "stream",
     "text": [
      "valid (4/30) accuracy: 0.9558007420248288 | accuracy/std: 0.0026279334004627357 | accuracy01: 0.6170382165605094 | accuracy01/std: 0.044813363078836814 | f1/_macro: 0.26822651907224315 | f1/_micro: 0.6170332166010253 | f1/_weighted: 0.5844351720482821 | loss: 1.8158708668058845 | loss/mean: 1.8158708668058845 | loss/std: 0.10769749010828412 | lr: 0.0001 | momentum: 0.9 | precision/_macro: 0.3213078799933383 | precision/_micro: 0.6170382165605095 | precision/_weighted: 0.6006672036410088 | recall/_macro: 0.2705403154613537 | recall/_micro: 0.6170382165605095 | recall/_weighted: 0.6170382165605095\n",
      "* Epoch (4/30) lr: 0.0001 | momentum: 0.9\n"
     ]
    },
    {
     "data": {
      "application/vnd.jupyter.widget-view+json": {
       "model_id": "c5501c8acc5c4ca5b3b688b44d5bf758",
       "version_major": 2,
       "version_minor": 0
      },
      "text/plain": [
       "5/30 * Epoch (train):   0%|          | 0/458 [00:00<?, ?it/s]"
      ]
     },
     "metadata": {},
     "output_type": "display_data"
    },
    {
     "name": "stdout",
     "output_type": "stream",
     "text": [
      "train (5/30) accuracy: 0.9614836087586782 | accuracy/std: 0.00529249049646495 | accuracy01: 0.6176209650145105 | accuracy01/std: 0.08470850208917181 | f1/_macro: 0.2725329660341033 | f1/_micro: 0.617615965030582 | f1/_weighted: 0.5844566775007196 | loss: 1.7561104913250232 | loss/mean: 1.7561104913250232 | loss/std: 0.2041045388436395 | lr: 0.0001 | momentum: 0.9 | precision/_macro: 0.34227372849724336 | precision/_micro: 0.6176209649901044 | precision/_weighted: 0.5964676956848596 | recall/_macro: 0.2735565346395588 | recall/_micro: 0.6176209649901044 | recall/_weighted: 0.6176209649901043\n"
     ]
    },
    {
     "data": {
      "application/vnd.jupyter.widget-view+json": {
       "model_id": "cd47444ac2264794aca2447b162244e7",
       "version_major": 2,
       "version_minor": 0
      },
      "text/plain": [
       "5/30 * Epoch (valid):   0%|          | 0/50 [00:00<?, ?it/s]"
      ]
     },
     "metadata": {},
     "output_type": "display_data"
    },
    {
     "name": "stdout",
     "output_type": "stream",
     "text": [
      "valid (5/30) accuracy: 0.9649719646022576 | accuracy/std: 0.0022660777454975144 | accuracy01: 0.6450636942675159 | accuracy01/std: 0.04307732212204099 | f1/_macro: 0.28682513965332007 | f1/_micro: 0.6450586943062714 | f1/_weighted: 0.6132246731487379 | loss: 1.654096794432136 | loss/mean: 1.654096794432136 | loss/std: 0.10926959417654664 | lr: 0.0001 | momentum: 0.9 | precision/_macro: 0.3228528227852634 | precision/_micro: 0.6450636942675159 | precision/_weighted: 0.6166002554648035 | recall/_macro: 0.2884870746691521 | recall/_micro: 0.6450636942675159 | recall/_weighted: 0.6450636942675159\n",
      "* Epoch (5/30) lr: 0.0001 | momentum: 0.9\n"
     ]
    },
    {
     "data": {
      "application/vnd.jupyter.widget-view+json": {
       "model_id": "32cc77c96cbc488b8186f50183f1c305",
       "version_major": 2,
       "version_minor": 0
      },
      "text/plain": [
       "6/30 * Epoch (train):   0%|          | 0/458 [00:00<?, ?it/s]"
      ]
     },
     "metadata": {},
     "output_type": "display_data"
    },
    {
     "name": "stdout",
     "output_type": "stream",
     "text": [
      "train (6/30) accuracy: 0.9681749043875992 | accuracy/std: 0.004923413421337738 | accuracy01: 0.6378898519033919 | accuracy01/std: 0.08412396863703958 | f1/_macro: 0.2885419366205588 | f1/_micro: 0.6378848519466506 | f1/_weighted: 0.6057637154974465 | loss: 1.6253940962869742 | loss/mean: 1.6253940962869742 | loss/std: 0.20929752729139559 | lr: 0.0001 | momentum: 0.9 | precision/_macro: 0.39665720940258875 | precision/_micro: 0.6378898519074592 | precision/_weighted: 0.6207724501379301 | recall/_macro: 0.28789695466026766 | recall/_micro: 0.6378898519074592 | recall/_weighted: 0.6378898519074592\n"
     ]
    },
    {
     "data": {
      "application/vnd.jupyter.widget-view+json": {
       "model_id": "574789b7e54844e19f6b351370ecb304",
       "version_major": 2,
       "version_minor": 0
      },
      "text/plain": [
       "6/30 * Epoch (valid):   0%|          | 0/50 [00:00<?, ?it/s]"
      ]
     },
     "metadata": {},
     "output_type": "display_data"
    },
    {
     "name": "stdout",
     "output_type": "stream",
     "text": [
      "valid (6/30) accuracy: 0.9704959186778708 | accuracy/std: 0.0021748242129968807 | accuracy01: 0.6601910828025477 | accuracy01/std: 0.04730496913870381 | f1/_macro: 0.2978461491934451 | f1/_micro: 0.6601860828404154 | f1/_weighted: 0.6290789616187822 | loss: 1.553070657724028 | loss/mean: 1.553070657724028 | loss/std: 0.1090136464794824 | lr: 0.0001 | momentum: 0.9 | precision/_macro: 0.35701403931358167 | precision/_micro: 0.6601910828025478 | precision/_weighted: 0.6415076370576709 | recall/_macro: 0.2980809598301234 | recall/_micro: 0.6601910828025478 | recall/_weighted: 0.6601910828025478\n",
      "* Epoch (6/30) lr: 0.0001 | momentum: 0.9\n"
     ]
    },
    {
     "data": {
      "application/vnd.jupyter.widget-view+json": {
       "model_id": "157d18810f8c41e2803fba79ff8ebe41",
       "version_major": 2,
       "version_minor": 0
      },
      "text/plain": [
       "7/30 * Epoch (train):   0%|          | 0/458 [00:00<?, ?it/s]"
      ]
     },
     "metadata": {},
     "output_type": "display_data"
    },
    {
     "name": "stdout",
     "output_type": "stream",
     "text": [
      "train (7/30) accuracy: 0.9724418728341673 | accuracy/std: 0.004430522011414065 | accuracy01: 0.6524943697780403 | accuracy01/std: 0.08513638440157956 | f1/_macro: 0.30768590262938383 | f1/_micro: 0.6524893697919482 | f1/_weighted: 0.6232932746595216 | loss: 1.5250652206966702 | loss/mean: 1.5250652206966702 | loss/std: 0.20829629533951996 | lr: 0.0001 | momentum: 0.9 | precision/_macro: 0.47646964074103776 | precision/_micro: 0.6524943697536341 | precision/_weighted: 0.6531244376310583 | recall/_macro: 0.3028003353972829 | recall/_micro: 0.6524943697536341 | recall/_weighted: 0.6524943697536341\n"
     ]
    },
    {
     "data": {
      "application/vnd.jupyter.widget-view+json": {
       "model_id": "93b80ccc76fd4140bbc35a5335211c3a",
       "version_major": 2,
       "version_minor": 0
      },
      "text/plain": [
       "7/30 * Epoch (valid):   0%|          | 0/50 [00:00<?, ?it/s]"
      ]
     },
     "metadata": {},
     "output_type": "display_data"
    },
    {
     "name": "stdout",
     "output_type": "stream",
     "text": [
      "valid (7/30) accuracy: 0.973805748732986 | accuracy/std: 0.001952171798392139 | accuracy01: 0.6703821656050954 | accuracy01/std: 0.047093340681143396 | f1/_macro: 0.30613072145718256 | f1/_micro: 0.6703771656423874 | f1/_weighted: 0.639184201214201 | loss: 1.4653469647571535 | loss/mean: 1.4653469647571535 | loss/std: 0.10583421263404516 | lr: 0.0001 | momentum: 0.9 | precision/_macro: 0.38773339700111414 | precision/_micro: 0.6703821656050956 | precision/_weighted: 0.6572223401097776 | recall/_macro: 0.30672770369397895 | recall/_micro: 0.6703821656050956 | recall/_weighted: 0.6703821656050957\n",
      "* Epoch (7/30) lr: 0.0001 | momentum: 0.9\n"
     ]
    },
    {
     "data": {
      "application/vnd.jupyter.widget-view+json": {
       "model_id": "0b94cd5a1e554ecbb1e2450b93203edf",
       "version_major": 2,
       "version_minor": 0
      },
      "text/plain": [
       "8/30 * Epoch (train):   0%|          | 0/458 [00:00<?, ?it/s]"
      ]
     },
     "metadata": {},
     "output_type": "display_data"
    },
    {
     "name": "stdout",
     "output_type": "stream",
     "text": [
      "train (8/30) accuracy: 0.9755096693401134 | accuracy/std: 0.004180665120028738 | accuracy01: 0.6667576604985151 | accuracy01/std: 0.08261879174638166 | f1/_macro: 0.3242578270167811 | f1/_micro: 0.6667526605848229 | f1/_weighted: 0.6391333480818931 | loss: 1.439653079021442 | loss/mean: 1.439653079021442 | loss/std: 0.19566329192649748 | lr: 0.0001 | momentum: 0.9 | precision/_macro: 0.48080862036603667 | precision/_micro: 0.6667576605473282 | precision/_weighted: 0.6640105719142718 | recall/_macro: 0.31640210805205476 | recall/_micro: 0.6667576605473282 | recall/_weighted: 0.6667576605473281\n"
     ]
    },
    {
     "data": {
      "application/vnd.jupyter.widget-view+json": {
       "model_id": "e47987ae3fbe49b187cac9815068678f",
       "version_major": 2,
       "version_minor": 0
      },
      "text/plain": [
       "8/30 * Epoch (valid):   0%|          | 0/50 [00:00<?, ?it/s]"
      ]
     },
     "metadata": {},
     "output_type": "display_data"
    },
    {
     "name": "stdout",
     "output_type": "stream",
     "text": [
      "valid (8/30) accuracy: 0.9760009262212523 | accuracy/std: 0.0019638895301935825 | accuracy01: 0.6867834394904457 | accuracy01/std: 0.043410713454575846 | f1/_macro: 0.31918775327711996 | f1/_micro: 0.6867784395268471 | f1/_weighted: 0.6583000021759697 | loss: 1.3872956464245065 | loss/mean: 1.3872956464245065 | loss/std: 0.10525425772697092 | lr: 0.0001 | momentum: 0.9 | precision/_macro: 0.36211296571591334 | precision/_micro: 0.6867834394904458 | precision/_weighted: 0.6574041345318933 | recall/_macro: 0.31827390483922524 | recall/_micro: 0.6867834394904458 | recall/_weighted: 0.6867834394904458\n",
      "* Epoch (8/30) lr: 0.0001 | momentum: 0.9\n"
     ]
    },
    {
     "data": {
      "application/vnd.jupyter.widget-view+json": {
       "model_id": "e5bf1fadfbe74aa3841e9090ec18bb4e",
       "version_major": 2,
       "version_minor": 0
      },
      "text/plain": [
       "9/30 * Epoch (train):   0%|          | 0/458 [00:00<?, ?it/s]"
      ]
     },
     "metadata": {},
     "output_type": "display_data"
    },
    {
     "name": "stdout",
     "output_type": "stream",
     "text": [
      "train (9/30) accuracy: 0.9774026662784495 | accuracy/std: 0.0038648797872299894 | accuracy01: 0.679314816066416 | accuracy01/std: 0.08207686957182002 | f1/_macro: 0.3445541121964724 | f1/_micro: 0.6793098161154201 | f1/_weighted: 0.65394313406056 | loss: 1.3642847662874107 | loss/mean: 1.3642847662874107 | loss/std: 0.20341710093855603 | lr: 0.0001 | momentum: 0.9 | precision/_macro: 0.5277116446903053 | precision/_micro: 0.6793148160786187 | precision/_weighted: 0.6804118779262754 | recall/_macro: 0.3314384031820741 | recall/_micro: 0.6793148160786187 | recall/_weighted: 0.6793148160786187\n"
     ]
    },
    {
     "data": {
      "application/vnd.jupyter.widget-view+json": {
       "model_id": "a97e84296624442ba91214a521f8e306",
       "version_major": 2,
       "version_minor": 0
      },
      "text/plain": [
       "9/30 * Epoch (valid):   0%|          | 0/50 [00:00<?, ?it/s]"
      ]
     },
     "metadata": {},
     "output_type": "display_data"
    },
    {
     "name": "stdout",
     "output_type": "stream",
     "text": [
      "valid (9/30) accuracy: 0.9784046268766852 | accuracy/std: 0.0018088056606657982 | accuracy01: 0.6955414012738854 | accuracy01/std: 0.04077146487937835 | f1/_macro: 0.3370896054996475 | f1/_micro: 0.6955364013098283 | f1/_weighted: 0.6677982544654388 | loss: 1.3269360566594792 | loss/mean: 1.3269360566594792 | loss/std: 0.10584308897843994 | lr: 0.0001 | momentum: 0.9 | precision/_macro: 0.4627296471146688 | precision/_micro: 0.6955414012738854 | precision/_weighted: 0.688443645417417 | recall/_macro: 0.33102465541385595 | recall/_micro: 0.6955414012738854 | recall/_weighted: 0.6955414012738854\n",
      "* Epoch (9/30) lr: 0.0001 | momentum: 0.9\n"
     ]
    },
    {
     "data": {
      "application/vnd.jupyter.widget-view+json": {
       "model_id": "cf89b8b6a0494de399db9f08a6cb3600",
       "version_major": 2,
       "version_minor": 0
      },
      "text/plain": [
       "10/30 * Epoch (train):   0%|          | 0/458 [00:00<?, ?it/s]"
      ]
     },
     "metadata": {},
     "output_type": "display_data"
    },
    {
     "name": "stdout",
     "output_type": "stream",
     "text": [
      "train (10/30) accuracy: 0.9792436637065195 | accuracy/std: 0.0037474025141266062 | accuracy01: 0.6912577629032406 | accuracy01/std: 0.08323536227261659 | f1/_macro: 0.35860467541623564 | f1/_micro: 0.6912527629516096 | f1/_weighted: 0.667549661052777 | loss: 1.3096746974761664 | loss/mean: 1.3096746974761664 | loss/std: 0.1977099574845248 | lr: 0.0001 | momentum: 0.9 | precision/_macro: 0.5312296263249339 | precision/_micro: 0.6912577629154439 | precision/_weighted: 0.6896165932071141 | recall/_macro: 0.3436750078551499 | recall/_micro: 0.6912577629154439 | recall/_weighted: 0.6912577629154439\n"
     ]
    },
    {
     "data": {
      "application/vnd.jupyter.widget-view+json": {
       "model_id": "1c523ff84cdc4cb2b778ee11c5c89684",
       "version_major": 2,
       "version_minor": 0
      },
      "text/plain": [
       "10/30 * Epoch (valid):   0%|          | 0/50 [00:00<?, ?it/s]"
      ]
     },
     "metadata": {},
     "output_type": "display_data"
    },
    {
     "name": "stdout",
     "output_type": "stream",
     "text": [
      "valid (10/30) accuracy: 0.9783477581230697 | accuracy/std: 0.001946573351206513 | accuracy01: 0.6996815286624204 | accuracy01/std: 0.04451632270651803 | f1/_macro: 0.34625630325056234 | f1/_micro: 0.6996765286981506 | f1/_weighted: 0.6751154767911662 | loss: 1.2792324360768506 | loss/mean: 1.2792324360768506 | loss/std: 0.10529418408093393 | lr: 0.0001 | momentum: 0.9 | precision/_macro: 0.4637276811374151 | precision/_micro: 0.6996815286624204 | precision/_weighted: 0.6916281213801782 | recall/_macro: 0.3358986525258506 | recall/_micro: 0.6996815286624204 | recall/_weighted: 0.6996815286624205\n",
      "* Epoch (10/30) lr: 5e-05 | momentum: 0.9\n"
     ]
    },
    {
     "data": {
      "application/vnd.jupyter.widget-view+json": {
       "model_id": "08b5260271424f7b84252d67dcd929d6",
       "version_major": 2,
       "version_minor": 0
      },
      "text/plain": [
       "11/30 * Epoch (train):   0%|          | 0/458 [00:00<?, ?it/s]"
      ]
     },
     "metadata": {},
     "output_type": "display_data"
    },
    {
     "name": "stdout",
     "output_type": "stream",
     "text": [
      "train (11/30) accuracy: 0.9804070827530272 | accuracy/std: 0.0036842603733639218 | accuracy01: 0.701085102014685 | accuracy01/std: 0.07996937662765674 | f1/_macro: 0.3818951014457356 | f1/_micro: 0.7010801020625475 | f1/_weighted: 0.6799771920480656 | loss: 1.260881297492187 | loss/mean: 1.260881297492187 | loss/std: 0.20396189569673503 | lr: 5e-05 | momentum: 0.9 | precision/_macro: 0.5590225532015082 | precision/_micro: 0.7010851020268887 | precision/_weighted: 0.7039981163312065 | recall/_macro: 0.36080730197774014 | recall/_micro: 0.7010851020268887 | recall/_weighted: 0.7010851020268887\n"
     ]
    },
    {
     "data": {
      "application/vnd.jupyter.widget-view+json": {
       "model_id": "c2cf151f0cbe4f38b6401ce53a39adab",
       "version_major": 2,
       "version_minor": 0
      },
      "text/plain": [
       "11/30 * Epoch (valid):   0%|          | 0/50 [00:00<?, ?it/s]"
      ]
     },
     "metadata": {},
     "output_type": "display_data"
    },
    {
     "name": "stdout",
     "output_type": "stream",
     "text": [
      "valid (11/30) accuracy: 0.9796405985097215 | accuracy/std: 0.0016140689648679045 | accuracy01: 0.7052547770700637 | accuracy01/std: 0.041220393694103 | f1/_macro: 0.36301074265300687 | f1/_micro: 0.7052497771055116 | f1/_weighted: 0.6818585939521316 | loss: 1.2522532262619899 | loss/mean: 1.2522532262619899 | loss/std: 0.10684551928894126 | lr: 5e-05 | momentum: 0.9 | precision/_macro: 0.4879781158926071 | precision/_micro: 0.7052547770700637 | precision/_weighted: 0.6986181125933476 | recall/_macro: 0.34910852998138275 | recall/_micro: 0.7052547770700637 | recall/_weighted: 0.7052547770700638\n",
      "* Epoch (11/30) lr: 5e-05 | momentum: 0.9\n"
     ]
    },
    {
     "data": {
      "application/vnd.jupyter.widget-view+json": {
       "model_id": "a07c12fe4a1846d5ac99ca9227a866d4",
       "version_major": 2,
       "version_minor": 0
      },
      "text/plain": [
       "12/30 * Epoch (train):   0%|          | 0/458 [00:00<?, ?it/s]"
      ]
     },
     "metadata": {},
     "output_type": "display_data"
    },
    {
     "name": "stdout",
     "output_type": "stream",
     "text": [
      "train (12/30) accuracy: 0.980948170411224 | accuracy/std: 0.003781734276525803 | accuracy01: 0.7053845628393325 | accuracy01/std: 0.08099928375128879 | f1/_macro: 0.39131317837081303 | f1/_micro: 0.7053795629235872 | f1/_weighted: 0.685284821686017 | loss: 1.2394120282364716 | loss/mean: 1.2394120282364716 | loss/std: 0.19992136142614686 | lr: 5e-05 | momentum: 0.9 | precision/_macro: 0.5870264171624624 | precision/_micro: 0.7053845628881458 | precision/_weighted: 0.7109528029039475 | recall/_macro: 0.36780840786320373 | recall/_micro: 0.7053845628881458 | recall/_weighted: 0.7053845628881457\n"
     ]
    },
    {
     "data": {
      "application/vnd.jupyter.widget-view+json": {
       "model_id": "1291b891bcc14c94b1673a4bf295ab47",
       "version_major": 2,
       "version_minor": 0
      },
      "text/plain": [
       "12/30 * Epoch (valid):   0%|          | 0/50 [00:00<?, ?it/s]"
      ]
     },
     "metadata": {},
     "output_type": "display_data"
    },
    {
     "name": "stdout",
     "output_type": "stream",
     "text": [
      "valid (12/30) accuracy: 0.979826371836814 | accuracy/std: 0.0016644873665125743 | accuracy01: 0.7089171974522291 | accuracy01/std: 0.04036140669760159 | f1/_macro: 0.365439526647775 | f1/_micro: 0.7089121974874941 | f1/_weighted: 0.6854563000989579 | loss: 1.2313879526344833 | loss/mean: 1.2313879526344833 | loss/std: 0.10579938760010903 | lr: 5e-05 | momentum: 0.9 | precision/_macro: 0.49514040027671136 | precision/_micro: 0.7089171974522293 | precision/_weighted: 0.7043976898030895 | recall/_macro: 0.3494564246993129 | recall/_micro: 0.7089171974522293 | recall/_weighted: 0.7089171974522294\n",
      "* Epoch (12/30) lr: 5e-05 | momentum: 0.9\n"
     ]
    },
    {
     "data": {
      "application/vnd.jupyter.widget-view+json": {
       "model_id": "d84cac59cb68449cba4526ac843b1385",
       "version_major": 2,
       "version_minor": 0
      },
      "text/plain": [
       "13/30 * Epoch (train):   0%|          | 0/458 [00:00<?, ?it/s]"
      ]
     },
     "metadata": {},
     "output_type": "display_data"
    },
    {
     "name": "stdout",
     "output_type": "stream",
     "text": [
      "train (13/30) accuracy: 0.9816679949118698 | accuracy/std: 0.0033512487894681313 | accuracy01: 0.7065447348909858 | accuracy01/std: 0.07778596346800683 | f1/_macro: 0.3874007777644775 | f1/_micro: 0.7065397349019633 | f1/_weighted: 0.6860987156407913 | loss: 1.2130673643282186 | loss/mean: 1.2130673643282186 | loss/std: 0.19645798857271168 | lr: 5e-05 | momentum: 0.9 | precision/_macro: 0.5120133677741384 | precision/_micro: 0.7065447348665802 | precision/_weighted: 0.7000709873995142 | recall/_macro: 0.36623157023012 | recall/_micro: 0.7065447348665802 | recall/_weighted: 0.7065447348665803\n"
     ]
    },
    {
     "data": {
      "application/vnd.jupyter.widget-view+json": {
       "model_id": "78d05c01edf74fe1bd87f1cecc2ddc0a",
       "version_major": 2,
       "version_minor": 0
      },
      "text/plain": [
       "13/30 * Epoch (valid):   0%|          | 0/50 [00:00<?, ?it/s]"
      ]
     },
     "metadata": {},
     "output_type": "display_data"
    },
    {
     "name": "stdout",
     "output_type": "stream",
     "text": [
      "valid (13/30) accuracy: 0.9809751436209224 | accuracy/std: 0.0015577945059979034 | accuracy01: 0.715127388535032 | accuracy01/std: 0.04267159337567161 | f1/_macro: 0.37832280262333623 | f1/_micro: 0.7151223885699903 | f1/_weighted: 0.6921887254581561 | loss: 1.2109533798922398 | loss/mean: 1.2109533798922398 | loss/std: 0.10348022301491723 | lr: 5e-05 | momentum: 0.9 | precision/_macro: 0.523048562751431 | precision/_micro: 0.7151273885350318 | precision/_weighted: 0.7072412846031859 | recall/_macro: 0.36169181604140477 | recall/_micro: 0.7151273885350318 | recall/_weighted: 0.7151273885350319\n",
      "* Epoch (13/30) lr: 5e-05 | momentum: 0.9\n"
     ]
    },
    {
     "data": {
      "application/vnd.jupyter.widget-view+json": {
       "model_id": "42c16ad35361401d9d7ef4e93eed385c",
       "version_major": 2,
       "version_minor": 0
      },
      "text/plain": [
       "14/30 * Epoch (train):   0%|          | 0/458 [00:00<?, ?it/s]"
      ]
     },
     "metadata": {},
     "output_type": "display_data"
    },
    {
     "name": "stdout",
     "output_type": "stream",
     "text": [
      "train (14/30) accuracy: 0.982048217260837 | accuracy/std: 0.0033650041108124035 | accuracy01: 0.7103664778787702 | accuracy01/std: 0.07574238340382884 | f1/_macro: 0.39746159738054326 | f1/_micro: 0.7103614778895572 | f1/_weighted: 0.6906588355477656 | loss: 1.194979000716358 | loss/mean: 1.194979000716358 | loss/std: 0.19077489072106685 | lr: 5e-05 | momentum: 0.9 | precision/_macro: 0.6275519505815232 | precision/_micro: 0.7103664778543644 | precision/_weighted: 0.7157515043055869 | recall/_macro: 0.3724399172579078 | recall/_micro: 0.7103664778543644 | recall/_weighted: 0.7103664778543642\n"
     ]
    },
    {
     "data": {
      "application/vnd.jupyter.widget-view+json": {
       "model_id": "434b3254b87e4af0a8d1dfec9533cf59",
       "version_major": 2,
       "version_minor": 0
      },
      "text/plain": [
       "14/30 * Epoch (valid):   0%|          | 0/50 [00:00<?, ?it/s]"
      ]
     },
     "metadata": {},
     "output_type": "display_data"
    },
    {
     "name": "stdout",
     "output_type": "stream",
     "text": [
      "valid (14/30) accuracy: 0.9817826980238507 | accuracy/std: 0.0014789528266380412 | accuracy01: 0.7194267515923566 | accuracy01/std: 0.04087222174325407 | f1/_macro: 0.38752717632717915 | f1/_micro: 0.7194217516271063 | f1/_weighted: 0.6979928180193601 | loss: 1.1988833100932417 | loss/mean: 1.1988833100932417 | loss/std: 0.10388207572956493 | lr: 5e-05 | momentum: 0.9 | precision/_macro: 0.5137499116856509 | precision/_micro: 0.7194267515923567 | precision/_weighted: 0.7095510356156107 | recall/_macro: 0.3717665963988896 | recall/_micro: 0.7194267515923567 | recall/_weighted: 0.7194267515923567\n",
      "* Epoch (14/30) lr: 5e-05 | momentum: 0.9\n"
     ]
    },
    {
     "data": {
      "application/vnd.jupyter.widget-view+json": {
       "model_id": "7df2ed6c4331478baca42421cd47f378",
       "version_major": 2,
       "version_minor": 0
      },
      "text/plain": [
       "15/30 * Epoch (train):   0%|          | 0/458 [00:00<?, ?it/s]"
      ]
     },
     "metadata": {},
     "output_type": "display_data"
    },
    {
     "name": "stdout",
     "output_type": "stream",
     "text": [
      "train (15/30) accuracy: 0.9823374483419882 | accuracy/std: 0.003393462941382613 | accuracy01: 0.7144612024190488 | accuracy01/std: 0.07711725737930358 | f1/_macro: 0.40815732272242256 | f1/_micro: 0.714456202519124 | f1/_weighted: 0.6958204534753036 | loss: 1.1752319278419612 | loss/mean: 1.1752319278419612 | loss/std: 0.19113841964001063 | lr: 5e-05 | momentum: 0.9 | precision/_macro: 0.5824071592360875 | precision/_micro: 0.7144612024841329 | precision/_weighted: 0.7163414928388356 | recall/_macro: 0.3825601130214696 | recall/_micro: 0.7144612024841329 | recall/_weighted: 0.714461202484133\n"
     ]
    },
    {
     "data": {
      "application/vnd.jupyter.widget-view+json": {
       "model_id": "b19297f1c0374ba8a53a8067987d6759",
       "version_major": 2,
       "version_minor": 0
      },
      "text/plain": [
       "15/30 * Epoch (valid):   0%|          | 0/50 [00:00<?, ?it/s]"
      ]
     },
     "metadata": {},
     "output_type": "display_data"
    },
    {
     "name": "stdout",
     "output_type": "stream",
     "text": [
      "valid (15/30) accuracy: 0.9821694169074866 | accuracy/std: 0.0014717692071865801 | accuracy01: 0.7181528662420382 | accuracy01/std: 0.039574295953412206 | f1/_macro: 0.390747595663953 | f1/_micro: 0.7181478662768495 | f1/_weighted: 0.698014668641967 | loss: 1.181022740321554 | loss/mean: 1.181022740321554 | loss/std: 0.10367384810892424 | lr: 5e-05 | momentum: 0.9 | precision/_macro: 0.5119194026367053 | precision/_micro: 0.7181528662420382 | precision/_weighted: 0.7082474283669484 | recall/_macro: 0.37213969921169604 | recall/_micro: 0.7181528662420382 | recall/_weighted: 0.7181528662420382\n",
      "* Epoch (15/30) lr: 5e-05 | momentum: 0.9\n"
     ]
    },
    {
     "data": {
      "application/vnd.jupyter.widget-view+json": {
       "model_id": "7432c71079674a16aacbe08aa056bad6",
       "version_major": 2,
       "version_minor": 0
      },
      "text/plain": [
       "16/30 * Epoch (train):   0%|          | 0/458 [00:00<?, ?it/s]"
      ]
     },
     "metadata": {},
     "output_type": "display_data"
    },
    {
     "name": "stdout",
     "output_type": "stream",
     "text": [
      "train (16/30) accuracy: 0.9826023050610021 | accuracy/std: 0.003476795333704191 | accuracy01: 0.7185559270569533 | accuracy01/std: 0.07640375278618768 | f1/_macro: 0.4147821107353732 | f1/_micro: 0.7185509271486934 | f1/_weighted: 0.7004866732515298 | loss: 1.1551249692084191 | loss/mean: 1.1551249692084191 | loss/std: 0.18781189029372963 | lr: 5e-05 | momentum: 0.9 | precision/_macro: 0.614408098813036 | precision/_micro: 0.7185559271139016 | precision/_weighted: 0.724458371947429 | recall/_macro: 0.3872787447226398 | recall/_micro: 0.7185559271139016 | recall/_weighted: 0.7185559271139016\n"
     ]
    },
    {
     "data": {
      "application/vnd.jupyter.widget-view+json": {
       "model_id": "73ff771a290840438a856ebc198e0961",
       "version_major": 2,
       "version_minor": 0
      },
      "text/plain": [
       "16/30 * Epoch (valid):   0%|          | 0/50 [00:00<?, ?it/s]"
      ]
     },
     "metadata": {},
     "output_type": "display_data"
    },
    {
     "name": "stdout",
     "output_type": "stream",
     "text": [
      "valid (16/30) accuracy: 0.9825712949607025 | accuracy/std: 0.0014284142243701206 | accuracy01: 0.7256369426751593 | accuracy01/std: 0.041103565082338055 | f1/_macro: 0.4111864607012537 | f1/_micro: 0.7256319427096114 | f1/_weighted: 0.7068950088652217 | loss: 1.1540506745599635 | loss/mean: 1.1540506745599635 | loss/std: 0.10104382603645592 | lr: 5e-05 | momentum: 0.9 | precision/_macro: 0.536721063854835 | precision/_micro: 0.7256369426751592 | precision/_weighted: 0.7143052331354368 | recall/_macro: 0.3886646888163714 | recall/_micro: 0.7256369426751592 | recall/_weighted: 0.7256369426751592\n",
      "* Epoch (16/30) lr: 5e-05 | momentum: 0.9\n"
     ]
    },
    {
     "data": {
      "application/vnd.jupyter.widget-view+json": {
       "model_id": "2535383117354028a16265f63fb340b1",
       "version_major": 2,
       "version_minor": 0
      },
      "text/plain": [
       "17/30 * Epoch (train):   0%|          | 0/458 [00:00<?, ?it/s]"
      ]
     },
     "metadata": {},
     "output_type": "display_data"
    },
    {
     "name": "stdout",
     "output_type": "stream",
     "text": [
      "train (17/30) accuracy: 0.9832880073119895 | accuracy/std: 0.0033826531342286774 | accuracy01: 0.7202620624007114 | accuracy01/std: 0.0825969913181231 | f1/_macro: 0.41961720985622136 | f1/_micro: 0.7202570624110144 | f1/_weighted: 0.7029360437861398 | loss: 1.1405447405743085 | loss/mean: 1.1405447405743085 | loss/std: 0.20263434625521004 | lr: 5e-05 | momentum: 0.9 | precision/_macro: 0.6053199715039796 | precision/_micro: 0.7202620623763052 | precision/_weighted: 0.7218227373433829 | recall/_macro: 0.3922902346211848 | recall/_micro: 0.7202620623763052 | recall/_weighted: 0.7202620623763052\n"
     ]
    },
    {
     "data": {
      "application/vnd.jupyter.widget-view+json": {
       "model_id": "52423d7272854b79b9d6cf4c48a1b0cc",
       "version_major": 2,
       "version_minor": 0
      },
      "text/plain": [
       "17/30 * Epoch (valid):   0%|          | 0/50 [00:00<?, ?it/s]"
      ]
     },
     "metadata": {},
     "output_type": "display_data"
    },
    {
     "name": "stdout",
     "output_type": "stream",
     "text": [
      "valid (17/30) accuracy: 0.9825561309316355 | accuracy/std: 0.0014115503067073042 | accuracy01: 0.7226114649681525 | accuracy01/std: 0.043302046188333394 | f1/_macro: 0.4057980369700956 | f1/_micro: 0.7226064650027494 | f1/_weighted: 0.7047196566724303 | loss: 1.1578033357668833 | loss/mean: 1.1578033357668833 | loss/std: 0.1039770893116896 | lr: 5e-05 | momentum: 0.9 | precision/_macro: 0.5157064034967364 | precision/_micro: 0.7226114649681529 | precision/_weighted: 0.7143785560303081 | recall/_macro: 0.3830697409998387 | recall/_micro: 0.7226114649681529 | recall/_weighted: 0.722611464968153\n",
      "* Epoch (17/30) lr: 5e-05 | momentum: 0.9\n"
     ]
    },
    {
     "data": {
      "application/vnd.jupyter.widget-view+json": {
       "model_id": "df77fd3bca694494b01b24a1f05d48a4",
       "version_major": 2,
       "version_minor": 0
      },
      "text/plain": [
       "18/30 * Epoch (train):   0%|          | 0/458 [00:00<?, ?it/s]"
      ]
     },
     "metadata": {},
     "output_type": "display_data"
    },
    {
     "name": "stdout",
     "output_type": "stream",
     "text": [
      "train (18/30) accuracy: 0.9832603847631487 | accuracy/std: 0.003130559786572682 | accuracy01: 0.7231283695601947 | accuracy01/std: 0.07920031057459674 | f1/_macro: 0.4309713860967693 | f1/_micro: 0.7231233696517151 | f1/_weighted: 0.7070991293935807 | loss: 1.1222433815521158 | loss/mean: 1.1222433815521158 | loss/std: 0.1951468101053851 | lr: 5e-05 | momentum: 0.9 | precision/_macro: 0.6045057199387033 | precision/_micro: 0.7231283696171433 | precision/_weighted: 0.7249636342377096 | recall/_macro: 0.40131904676604435 | recall/_micro: 0.7231283696171433 | recall/_weighted: 0.7231283696171432\n"
     ]
    },
    {
     "data": {
      "application/vnd.jupyter.widget-view+json": {
       "model_id": "e2ee63a0fd744f62acc7f537396d79db",
       "version_major": 2,
       "version_minor": 0
      },
      "text/plain": [
       "18/30 * Epoch (valid):   0%|          | 0/50 [00:00<?, ?it/s]"
      ]
     },
     "metadata": {},
     "output_type": "display_data"
    },
    {
     "name": "stdout",
     "output_type": "stream",
     "text": [
      "valid (18/30) accuracy: 0.9827532757619384 | accuracy/std: 0.0014584565233914644 | accuracy01: 0.7272292993630574 | accuracy01/std: 0.04141014004835298 | f1/_macro: 0.41898788925316904 | f1/_micro: 0.7272242993974342 | f1/_weighted: 0.7107779485347966 | loss: 1.1313124911800312 | loss/mean: 1.1313124911800312 | loss/std: 0.10379534428000384 | lr: 5e-05 | momentum: 0.9 | precision/_macro: 0.5386220011430038 | precision/_micro: 0.7272292993630574 | precision/_weighted: 0.7223777562662459 | recall/_macro: 0.39509938072607786 | recall/_micro: 0.7272292993630574 | recall/_weighted: 0.7272292993630574\n",
      "* Epoch (18/30) lr: 5e-05 | momentum: 0.9\n"
     ]
    },
    {
     "data": {
      "application/vnd.jupyter.widget-view+json": {
       "model_id": "8512f6382ffa44ffa48bc28371c7af8f",
       "version_major": 2,
       "version_minor": 0
      },
      "text/plain": [
       "19/30 * Epoch (train):   0%|          | 0/458 [00:00<?, ?it/s]"
      ]
     },
     "metadata": {},
     "output_type": "display_data"
    },
    {
     "name": "stdout",
     "output_type": "stream",
     "text": [
      "train (19/30) accuracy: 0.983557738668315 | accuracy/std: 0.0032533280997942018 | accuracy01: 0.7279737937054215 | accuracy01/std: 0.07604174073905301 | f1/_macro: 0.43825883073743055 | f1/_micro: 0.7279687937967111 | f1/_weighted: 0.7121283679918322 | loss: 1.107219956925579 | loss/mean: 1.107219956925579 | loss/std: 0.18837053380600502 | lr: 5e-05 | momentum: 0.9 | precision/_macro: 0.6763472376510109 | precision/_micro: 0.7279737937623695 | precision/_weighted: 0.7358605773581864 | recall/_macro: 0.4052957081371802 | recall/_micro: 0.7279737937623695 | recall/_weighted: 0.7279737937623695\n"
     ]
    },
    {
     "data": {
      "application/vnd.jupyter.widget-view+json": {
       "model_id": "19321cf714084b5ab47de866c2469f44",
       "version_major": 2,
       "version_minor": 0
      },
      "text/plain": [
       "19/30 * Epoch (valid):   0%|          | 0/50 [00:00<?, ?it/s]"
      ]
     },
     "metadata": {},
     "output_type": "display_data"
    },
    {
     "name": "stdout",
     "output_type": "stream",
     "text": [
      "valid (19/30) accuracy: 0.9833712610469503 | accuracy/std: 0.0014305465636530736 | accuracy01: 0.7312101910828024 | accuracy01/std: 0.03953474555012091 | f1/_macro: 0.4202260667313521 | f1/_micro: 0.7312051911169922 | f1/_weighted: 0.7133489365097033 | loss: 1.1253606319427487 | loss/mean: 1.1253606319427487 | loss/std: 0.10159474489003982 | lr: 5e-05 | momentum: 0.9 | precision/_macro: 0.5553005104530803 | precision/_micro: 0.7312101910828026 | precision/_weighted: 0.7235951534608328 | recall/_macro: 0.3978205344008586 | recall/_micro: 0.7312101910828026 | recall/_weighted: 0.7312101910828026\n",
      "* Epoch (19/30) lr: 5e-05 | momentum: 0.9\n"
     ]
    },
    {
     "data": {
      "application/vnd.jupyter.widget-view+json": {
       "model_id": "e79dc2ae97b44a048854d8f449608221",
       "version_major": 2,
       "version_minor": 0
      },
      "text/plain": [
       "20/30 * Epoch (train):   0%|          | 0/458 [00:00<?, ?it/s]"
      ]
     },
     "metadata": {},
     "output_type": "display_data"
    },
    {
     "name": "stdout",
     "output_type": "stream",
     "text": [
      "train (20/30) accuracy: 0.9839542127954003 | accuracy/std: 0.0031631380159798605 | accuracy01: 0.7320002730141838 | accuracy01/std: 0.07796458553174496 | f1/_macro: 0.4454209392018362 | f1/_micro: 0.7319952730157947 | f1/_weighted: 0.7162906446129262 | loss: 1.0895358339345613 | loss/mean: 1.0895358339345613 | loss/std: 0.19762227542788977 | lr: 5e-05 | momentum: 0.9 | precision/_macro: 0.7022128232362213 | precision/_micro: 0.7320002729816419 | precision/_weighted: 0.7392430413538524 | recall/_macro: 0.41191519491729406 | recall/_micro: 0.7320002729816419 | recall/_weighted: 0.732000272981642\n"
     ]
    },
    {
     "data": {
      "application/vnd.jupyter.widget-view+json": {
       "model_id": "e06e878056714aceaac6144d41d1884b",
       "version_major": 2,
       "version_minor": 0
      },
      "text/plain": [
       "20/30 * Epoch (valid):   0%|          | 0/50 [00:00<?, ?it/s]"
      ]
     },
     "metadata": {},
     "output_type": "display_data"
    },
    {
     "name": "stdout",
     "output_type": "stream",
     "text": [
      "valid (20/30) accuracy: 0.9834508827537488 | accuracy/std: 0.0015086952357079122 | accuracy01: 0.7310509554140127 | accuracy01/std: 0.0396003007332837 | f1/_macro: 0.43079155502434635 | f1/_micro: 0.7310459554482098 | f1/_weighted: 0.7144546038381312 | loss: 1.1084381294857926 | loss/mean: 1.1084381294857926 | loss/std: 0.10304167061202239 | lr: 5e-05 | momentum: 0.9 | precision/_macro: 0.6062006354825458 | precision/_micro: 0.7310509554140128 | precision/_weighted: 0.7297143535778815 | recall/_macro: 0.4044856030951677 | recall/_micro: 0.7310509554140128 | recall/_weighted: 0.7310509554140128\n",
      "* Epoch (20/30) lr: 2.5e-05 | momentum: 0.9\n"
     ]
    },
    {
     "data": {
      "application/vnd.jupyter.widget-view+json": {
       "model_id": "08418006af1b4b778d87990071180d2b",
       "version_major": 2,
       "version_minor": 0
      },
      "text/plain": [
       "21/30 * Epoch (train):   0%|          | 0/458 [00:00<?, ?it/s]"
      ]
     },
     "metadata": {},
     "output_type": "display_data"
    },
    {
     "name": "stdout",
     "output_type": "stream",
     "text": [
      "train (21/30) accuracy: 0.9842580674549329 | accuracy/std: 0.003158485308406303 | accuracy01: 0.7359585067700788 | accuracy01/std: 0.07907339344807873 | f1/_macro: 0.47032613972525406 | f1/_micro: 0.7359535068243874 | f1/_weighted: 0.7212005804420915 | loss: 1.0764026929191077 | loss/mean: 1.0764026929191077 | loss/std: 0.20098351448786392 | lr: 2.5e-05 | momentum: 0.9 | precision/_macro: 0.7237477383972875 | precision/_micro: 0.7359585067904184 | precision/_weighted: 0.7410359844222626 | recall/_macro: 0.4313640236674923 | recall/_micro: 0.7359585067904184 | recall/_weighted: 0.7359585067904183\n"
     ]
    },
    {
     "data": {
      "application/vnd.jupyter.widget-view+json": {
       "model_id": "bec64a86489a4748853b24d7b2803693",
       "version_major": 2,
       "version_minor": 0
      },
      "text/plain": [
       "21/30 * Epoch (valid):   0%|          | 0/50 [00:00<?, ?it/s]"
      ]
     },
     "metadata": {},
     "output_type": "display_data"
    },
    {
     "name": "stdout",
     "output_type": "stream",
     "text": [
      "valid (21/30) accuracy: 0.983666979279488 | accuracy/std: 0.0014730088503013845 | accuracy01: 0.7342356687898091 | accuracy01/std: 0.039425003465600794 | f1/_macro: 0.4295427306157559 | f1/_micro: 0.7342306688238576 | f1/_weighted: 0.7171615751368101 | loss: 1.0968247161549367 | loss/mean: 1.0968247161549367 | loss/std: 0.1036830361948451 | lr: 2.5e-05 | momentum: 0.9 | precision/_macro: 0.5889851129787403 | precision/_micro: 0.7342356687898088 | precision/_weighted: 0.7303464908463301 | recall/_macro: 0.40407827767460963 | recall/_micro: 0.7342356687898088 | recall/_weighted: 0.734235668789809\n",
      "* Epoch (21/30) lr: 2.5e-05 | momentum: 0.9\n"
     ]
    },
    {
     "data": {
      "application/vnd.jupyter.widget-view+json": {
       "model_id": "8541a2f4f96c42feb549cfb993dc607a",
       "version_major": 2,
       "version_minor": 0
      },
      "text/plain": [
       "22/30 * Epoch (train):   0%|          | 0/458 [00:00<?, ?it/s]"
      ]
     },
     "metadata": {},
     "output_type": "display_data"
    },
    {
     "name": "stdout",
     "output_type": "stream",
     "text": [
      "train (22/30) accuracy: 0.9842353166471709 | accuracy/std: 0.0030556841815427855 | accuracy01: 0.7341158807314284 | accuracy01/std: 0.08012447005980018 | f1/_macro: 0.46854026764014267 | f1/_micro: 0.7341108807410768 | f1/_weighted: 0.7192276072128295 | loss: 1.074072569712414 | loss/mean: 1.074072569712414 | loss/std: 0.20117293963376787 | lr: 2.5e-05 | momentum: 0.9 | precision/_macro: 0.7253116808638927 | precision/_micro: 0.7341158807070225 | precision/_weighted: 0.7408359831347906 | recall/_macro: 0.42848629306211533 | recall/_micro: 0.7341158807070225 | recall/_weighted: 0.7341158807070225\n"
     ]
    },
    {
     "data": {
      "application/vnd.jupyter.widget-view+json": {
       "model_id": "fe2d3a55902848fcb8a8a5552a1d8f3d",
       "version_major": 2,
       "version_minor": 0
      },
      "text/plain": [
       "22/30 * Epoch (valid):   0%|          | 0/50 [00:00<?, ?it/s]"
      ]
     },
     "metadata": {},
     "output_type": "display_data"
    },
    {
     "name": "stdout",
     "output_type": "stream",
     "text": [
      "valid (22/30) accuracy: 0.9838262210226362 | accuracy/std: 0.0013661259051192733 | accuracy01: 0.7364649681528663 | accuracy01/std: 0.038280206771250526 | f1/_macro: 0.4385954818069157 | f1/_micro: 0.7364599681868119 | f1/_weighted: 0.7199431871068517 | loss: 1.087260230483523 | loss/mean: 1.087260230483523 | loss/std: 0.10216203966931893 | lr: 2.5e-05 | momentum: 0.9 | precision/_macro: 0.6164858139115439 | precision/_micro: 0.7364649681528662 | precision/_weighted: 0.7354066757990283 | recall/_macro: 0.40906064365585865 | recall/_micro: 0.7364649681528662 | recall/_weighted: 0.7364649681528662\n",
      "* Epoch (22/30) lr: 2.5e-05 | momentum: 0.9\n"
     ]
    },
    {
     "data": {
      "application/vnd.jupyter.widget-view+json": {
       "model_id": "03021b7b87574bd5bae233159a547265",
       "version_major": 2,
       "version_minor": 0
      },
      "text/plain": [
       "23/30 * Epoch (train):   0%|          | 0/458 [00:00<?, ?it/s]"
      ]
     },
     "metadata": {},
     "output_type": "display_data"
    },
    {
     "name": "stdout",
     "output_type": "stream",
     "text": [
      "train (23/30) accuracy: 0.984427055270893 | accuracy/std: 0.003086239940605609 | accuracy01: 0.7361632430015684 | accuracy01/std: 0.07682531864663468 | f1/_macro: 0.4746048366364666 | f1/_micro: 0.7361582430558664 | f1/_weighted: 0.7224453351222274 | loss: 1.0616246907611617 | loss/mean: 1.0616246907611617 | loss/std: 0.1980408776315056 | lr: 2.5e-05 | momentum: 0.9 | precision/_macro: 0.7246298471377541 | precision/_micro: 0.7361632430219067 | precision/_weighted: 0.7443989728888073 | recall/_macro: 0.4343617998102929 | recall/_micro: 0.7361632430219067 | recall/_weighted: 0.7361632430219067\n"
     ]
    },
    {
     "data": {
      "application/vnd.jupyter.widget-view+json": {
       "model_id": "68d79eb9db1249e68312f6ebf422c3a2",
       "version_major": 2,
       "version_minor": 0
      },
      "text/plain": [
       "23/30 * Epoch (valid):   0%|          | 0/50 [00:00<?, ?it/s]"
      ]
     },
     "metadata": {},
     "output_type": "display_data"
    },
    {
     "name": "stdout",
     "output_type": "stream",
     "text": [
      "valid (23/30) accuracy: 0.9837769395226885 | accuracy/std: 0.0014182730309844252 | accuracy01: 0.7329617834394905 | accuracy01/std: 0.0405208235865868 | f1/_macro: 0.4305531230735314 | f1/_micro: 0.7329567834735983 | f1/_weighted: 0.7165825976798982 | loss: 1.0928168931584452 | loss/mean: 1.0928168931584452 | loss/std: 0.10320937858671743 | lr: 2.5e-05 | momentum: 0.9 | precision/_macro: 0.568576300933802 | precision/_micro: 0.7329617834394904 | precision/_weighted: 0.7294792157260573 | recall/_macro: 0.4028234505597639 | recall/_micro: 0.7329617834394904 | recall/_weighted: 0.7329617834394905\n",
      "* Epoch (23/30) lr: 2.5e-05 | momentum: 0.9\n"
     ]
    },
    {
     "data": {
      "application/vnd.jupyter.widget-view+json": {
       "model_id": "512564b49fc94feaa1aeb30a2f581d27",
       "version_major": 2,
       "version_minor": 0
      },
      "text/plain": [
       "24/30 * Epoch (train):   0%|          | 0/458 [00:00<?, ?it/s]"
      ]
     },
     "metadata": {},
     "output_type": "display_data"
    },
    {
     "name": "stdout",
     "output_type": "stream",
     "text": [
      "train (24/30) accuracy: 0.9845976690900115 | accuracy/std: 0.0031174498336490786 | accuracy01: 0.7366409608750409 | accuracy01/std: 0.07603127690549723 | f1/_macro: 0.47156088348232666 | f1/_micro: 0.7366359609293173 | f1/_weighted: 0.7225209423103083 | loss: 1.0556956443625216 | loss/mean: 1.0556956443625216 | loss/std: 0.1923429893544507 | lr: 2.5e-05 | momentum: 0.9 | precision/_macro: 0.7018549601193836 | precision/_micro: 0.7366409608953798 | precision/_weighted: 0.741171591973866 | recall/_macro: 0.43246913339181636 | recall/_micro: 0.7366409608953798 | recall/_weighted: 0.7366409608953798\n"
     ]
    },
    {
     "data": {
      "application/vnd.jupyter.widget-view+json": {
       "model_id": "9098dff1827b42088ed381084f9266d5",
       "version_major": 2,
       "version_minor": 0
      },
      "text/plain": [
       "24/30 * Epoch (valid):   0%|          | 0/50 [00:00<?, ?it/s]"
      ]
     },
     "metadata": {},
     "output_type": "display_data"
    },
    {
     "name": "stdout",
     "output_type": "stream",
     "text": [
      "valid (24/30) accuracy: 0.9840650769555643 | accuracy/std: 0.0013997459218643526 | accuracy01: 0.7355095541401275 | accuracy01/std: 0.041229621116255305 | f1/_macro: 0.4411004244882655 | f1/_micro: 0.7355045541741172 | f1/_weighted: 0.7198091876231761 | loss: 1.0799925014471554 | loss/mean: 1.0799925014471554 | loss/std: 0.10161040359036178 | lr: 2.5e-05 | momentum: 0.9 | precision/_macro: 0.6049919295528087 | precision/_micro: 0.7355095541401273 | precision/_weighted: 0.7312425605390858 | recall/_macro: 0.4129318370281265 | recall/_micro: 0.7355095541401273 | recall/_weighted: 0.7355095541401274\n",
      "* Epoch (24/30) lr: 2.5e-05 | momentum: 0.9\n"
     ]
    },
    {
     "data": {
      "application/vnd.jupyter.widget-view+json": {
       "model_id": "41ce21ebb07e4f659a3f4d356a892a58",
       "version_major": 2,
       "version_minor": 0
      },
      "text/plain": [
       "25/30 * Epoch (train):   0%|          | 0/458 [00:00<?, ?it/s]"
      ]
     },
     "metadata": {},
     "output_type": "display_data"
    },
    {
     "name": "stdout",
     "output_type": "stream",
     "text": [
      "train (25/30) accuracy: 0.9845846714903805 | accuracy/std: 0.003081312304207598 | accuracy01: 0.7381423598693465 | accuracy01/std: 0.07888533858034366 | f1/_macro: 0.48844577852179183 | f1/_micro: 0.7381373599601635 | f1/_weighted: 0.7243531001522489 | loss: 1.0473111221214817 | loss/mean: 1.0473111221214817 | loss/std: 0.19372448631710515 | lr: 2.5e-05 | momentum: 0.9 | precision/_macro: 0.7434940273951389 | precision/_micro: 0.738142359926295 | precision/_weighted: 0.7447122666074572 | recall/_macro: 0.44807202149253184 | recall/_micro: 0.738142359926295 | recall/_weighted: 0.7381423599262948\n"
     ]
    },
    {
     "data": {
      "application/vnd.jupyter.widget-view+json": {
       "model_id": "5ed2372150a0463885083388bdbdf302",
       "version_major": 2,
       "version_minor": 0
      },
      "text/plain": [
       "25/30 * Epoch (valid):   0%|          | 0/50 [00:00<?, ?it/s]"
      ]
     },
     "metadata": {},
     "output_type": "display_data"
    },
    {
     "name": "stdout",
     "output_type": "stream",
     "text": [
      "valid (25/30) accuracy: 0.9842243150540977 | accuracy/std: 0.0014805622981085773 | accuracy01: 0.7366242038216562 | accuracy01/std: 0.04049838449275712 | f1/_macro: 0.4432784485756803 | f1/_micro: 0.7366192038555944 | f1/_weighted: 0.7213285907177781 | loss: 1.0824525412480548 | loss/mean: 1.0824525412480548 | loss/std: 0.10297093754692958 | lr: 2.5e-05 | momentum: 0.9 | precision/_macro: 0.6074456531274629 | precision/_micro: 0.736624203821656 | precision/_weighted: 0.7343151874339383 | recall/_macro: 0.4131984903729098 | recall/_micro: 0.736624203821656 | recall/_weighted: 0.736624203821656\n",
      "* Epoch (25/30) lr: 2.5e-05 | momentum: 0.9\n"
     ]
    },
    {
     "data": {
      "application/vnd.jupyter.widget-view+json": {
       "model_id": "e9d99fb1428440149883e28a45769660",
       "version_major": 2,
       "version_minor": 0
      },
      "text/plain": [
       "26/30 * Epoch (train):   0%|          | 0/458 [00:00<?, ?it/s]"
      ]
     },
     "metadata": {},
     "output_type": "display_data"
    },
    {
     "name": "stdout",
     "output_type": "stream",
     "text": [
      "train (26/30) accuracy: 0.9848592769348735 | accuracy/std: 0.0029952672801296996 | accuracy01: 0.7408721763705467 | accuracy01/std: 0.07999443614539169 | f1/_macro: 0.48224404477097976 | f1/_micro: 0.7408671763798845 | f1/_weighted: 0.727579855537697 | loss: 1.0416659584454147 | loss/mean: 1.0416659584454147 | loss/std: 0.19803536781783007 | lr: 2.5e-05 | momentum: 0.9 | precision/_macro: 0.6982725116477305 | precision/_micro: 0.7408721763461408 | precision/_weighted: 0.7446483090087506 | recall/_macro: 0.4416613373738436 | recall/_micro: 0.7408721763461408 | recall/_weighted: 0.7408721763461407\n"
     ]
    },
    {
     "data": {
      "application/vnd.jupyter.widget-view+json": {
       "model_id": "cb669d71803c44bb8b71f7b64df32921",
       "version_major": 2,
       "version_minor": 0
      },
      "text/plain": [
       "26/30 * Epoch (valid):   0%|          | 0/50 [00:00<?, ?it/s]"
      ]
     },
     "metadata": {},
     "output_type": "display_data"
    },
    {
     "name": "stdout",
     "output_type": "stream",
     "text": [
      "valid (26/30) accuracy: 0.9838603455549593 | accuracy/std: 0.001556870700830644 | accuracy01: 0.7353503184713374 | accuracy01/std: 0.04061039743189978 | f1/_macro: 0.4407747768918945 | f1/_micro: 0.7353453185053347 | f1/_weighted: 0.7202481122867321 | loss: 1.0726463503139037 | loss/mean: 1.0726463503139037 | loss/std: 0.10225982006944616 | lr: 2.5e-05 | momentum: 0.9 | precision/_macro: 0.614145939670849 | precision/_micro: 0.7353503184713376 | precision/_weighted: 0.7372072450681854 | recall/_macro: 0.4100340823494243 | recall/_micro: 0.7353503184713376 | recall/_weighted: 0.7353503184713377\n",
      "* Epoch (26/30) lr: 2.5e-05 | momentum: 0.9\n"
     ]
    },
    {
     "data": {
      "application/vnd.jupyter.widget-view+json": {
       "model_id": "7781aa728f6f4c02ac2b0e0e703b8b8a",
       "version_major": 2,
       "version_minor": 0
      },
      "text/plain": [
       "27/30 * Epoch (train):   0%|          | 0/458 [00:00<?, ?it/s]"
      ]
     },
     "metadata": {},
     "output_type": "display_data"
    },
    {
     "name": "stdout",
     "output_type": "stream",
     "text": [
      "train (27/30) accuracy: 0.9847845313354273 | accuracy/std: 0.003163559273164958 | accuracy01: 0.7400532314364583 | accuracy01/std: 0.08010128204091513 | f1/_macro: 0.4971396220044652 | f1/_micro: 0.740048231453968 | f1/_weighted: 0.7270385582670439 | loss: 1.0357969753255556 | loss/mean: 1.0357969753255556 | loss/std: 0.196928252673927 | lr: 2.5e-05 | momentum: 0.9 | precision/_macro: 0.7466397203737287 | precision/_micro: 0.740053231420187 | precision/_weighted: 0.7480905574243294 | recall/_macro: 0.45313599886595857 | recall/_micro: 0.740053231420187 | recall/_weighted: 0.740053231420187\n"
     ]
    },
    {
     "data": {
      "application/vnd.jupyter.widget-view+json": {
       "model_id": "0dbceedfb0124a3d9c9b36a262d78ebb",
       "version_major": 2,
       "version_minor": 0
      },
      "text/plain": [
       "27/30 * Epoch (valid):   0%|          | 0/50 [00:00<?, ?it/s]"
      ]
     },
     "metadata": {},
     "output_type": "display_data"
    },
    {
     "name": "stdout",
     "output_type": "stream",
     "text": [
      "valid (27/30) accuracy: 0.9840385378546016 | accuracy/std: 0.0014006740542511348 | accuracy01: 0.7359872611464968 | accuracy01/std: 0.04003453275424914 | f1/_macro: 0.4399324285966631 | f1/_micro: 0.7359822611804645 | f1/_weighted: 0.7203597546650066 | loss: 1.0680502366108493 | loss/mean: 1.0680502366108493 | loss/std: 0.10308741586877236 | lr: 2.5e-05 | momentum: 0.9 | precision/_macro: 0.6139602653941604 | precision/_micro: 0.7359872611464968 | precision/_weighted: 0.7365184365565024 | recall/_macro: 0.40967008753276585 | recall/_micro: 0.7359872611464968 | recall/_weighted: 0.7359872611464967\n",
      "* Epoch (27/30) lr: 2.5e-05 | momentum: 0.9\n"
     ]
    },
    {
     "data": {
      "application/vnd.jupyter.widget-view+json": {
       "model_id": "2cadd78578dd4a0fb44de5fe0f95afb2",
       "version_major": 2,
       "version_minor": 0
      },
      "text/plain": [
       "28/30 * Epoch (train):   0%|          | 0/458 [00:00<?, ?it/s]"
      ]
     },
     "metadata": {},
     "output_type": "display_data"
    },
    {
     "name": "stdout",
     "output_type": "stream",
     "text": [
      "train (28/30) accuracy: 0.9848430267838516 | accuracy/std: 0.0028293159428801366 | accuracy01: 0.7430560294169333 | accuracy01/std: 0.07598341513190962 | f1/_macro: 0.5009905666765512 | f1/_micro: 0.7430510295156619 | f1/_weighted: 0.7305595629368966 | loss: 1.0346086676361723 | loss/mean: 1.0346086676361723 | loss/std: 0.19078142326755543 | lr: 2.5e-05 | momentum: 0.9 | precision/_macro: 0.7510157354655869 | precision/_micro: 0.7430560294820173 | precision/_weighted: 0.7522904457750097 | recall/_macro: 0.45794744065121534 | recall/_micro: 0.7430560294820173 | recall/_weighted: 0.7430560294820174\n"
     ]
    },
    {
     "data": {
      "application/vnd.jupyter.widget-view+json": {
       "model_id": "3fd5fd1f6b974feb82e50cc486fc037b",
       "version_major": 2,
       "version_minor": 0
      },
      "text/plain": [
       "28/30 * Epoch (valid):   0%|          | 0/50 [00:00<?, ?it/s]"
      ]
     },
     "metadata": {},
     "output_type": "display_data"
    },
    {
     "name": "stdout",
     "output_type": "stream",
     "text": [
      "valid (28/30) accuracy: 0.9843835507228876 | accuracy/std: 0.0014801135591081954 | accuracy01: 0.7393312101910828 | accuracy01/std: 0.0412490688342734 | f1/_macro: 0.4532477455538649 | f1/_micro: 0.7393262102248968 | f1/_weighted: 0.7246047969575682 | loss: 1.062896142947446 | loss/mean: 1.062896142947446 | loss/std: 0.1038632659965587 | lr: 2.5e-05 | momentum: 0.9 | precision/_macro: 0.6067145923948966 | precision/_micro: 0.7393312101910827 | precision/_weighted: 0.7370637480884565 | recall/_macro: 0.42193808139339034 | recall/_micro: 0.7393312101910827 | recall/_weighted: 0.7393312101910827\n",
      "* Epoch (28/30) lr: 2.5e-05 | momentum: 0.9\n"
     ]
    },
    {
     "data": {
      "application/vnd.jupyter.widget-view+json": {
       "model_id": "ab33ead5cd8643658f12e27517429449",
       "version_major": 2,
       "version_minor": 0
      },
      "text/plain": [
       "29/30 * Epoch (train):   0%|          | 0/458 [00:00<?, ?it/s]"
      ]
     },
     "metadata": {},
     "output_type": "display_data"
    },
    {
     "name": "stdout",
     "output_type": "stream",
     "text": [
      "train (29/30) accuracy: 0.984914523659652 | accuracy/std: 0.0030180318648212697 | accuracy01: 0.7410769125206808 | accuracy01/std: 0.0766306056360114 | f1/_macro: 0.4942828741970824 | f1/_micro: 0.7410719126113635 | f1/_weighted: 0.7283719192147549 | loss: 1.0282858689230137 | loss/mean: 1.0282858689230137 | loss/std: 0.19748389074978945 | lr: 2.5e-05 | momentum: 0.9 | precision/_macro: 0.7194499491627931 | precision/_micro: 0.7410769125776291 | precision/_weighted: 0.7475766726416269 | recall/_macro: 0.4498269848952924 | recall/_micro: 0.7410769125776291 | recall/_weighted: 0.7410769125776291\n"
     ]
    },
    {
     "data": {
      "application/vnd.jupyter.widget-view+json": {
       "model_id": "73633fb4414c4dbbae6705a9f26723a1",
       "version_major": 2,
       "version_minor": 0
      },
      "text/plain": [
       "29/30 * Epoch (valid):   0%|          | 0/50 [00:00<?, ?it/s]"
      ]
     },
     "metadata": {},
     "output_type": "display_data"
    },
    {
     "name": "stdout",
     "output_type": "stream",
     "text": [
      "valid (29/30) accuracy: 0.9843456307034585 | accuracy/std: 0.0014276826545724169 | accuracy01: 0.7406050955414013 | accuracy01/std: 0.03729755171245238 | f1/_macro: 0.45812057770930553 | f1/_micro: 0.7406000955751572 | f1/_weighted: 0.7259783619691564 | loss: 1.0508175966845956 | loss/mean: 1.0508175966845956 | loss/std: 0.09931092501801708 | lr: 2.5e-05 | momentum: 0.9 | precision/_macro: 0.6109764025718439 | precision/_micro: 0.7406050955414012 | precision/_weighted: 0.7374004275076405 | recall/_macro: 0.4257814398324252 | recall/_micro: 0.7406050955414012 | recall/_weighted: 0.7406050955414013\n",
      "* Epoch (29/30) lr: 2.5e-05 | momentum: 0.9\n"
     ]
    },
    {
     "data": {
      "application/vnd.jupyter.widget-view+json": {
       "model_id": "6567d8d74e594e2f8f074b5e801fed20",
       "version_major": 2,
       "version_minor": 0
      },
      "text/plain": [
       "30/30 * Epoch (train):   0%|          | 0/458 [00:00<?, ?it/s]"
      ]
     },
     "metadata": {},
     "output_type": "display_data"
    },
    {
     "name": "stdout",
     "output_type": "stream",
     "text": [
      "train (30/30) accuracy: 0.985130634082834 | accuracy/std: 0.003207108028168378 | accuracy01: 0.7441479560743626 | accuracy01/std: 0.0770751193758001 | f1/_macro: 0.5019319574638453 | f1/_micro: 0.7441429560835509 | f1/_weighted: 0.7315506352378041 | loss: 1.023387267013089 | loss/mean: 1.023387267013089 | loss/std: 0.1916608901988916 | lr: 2.5e-05 | momentum: 0.9 | precision/_macro: 0.735580640321125 | precision/_micro: 0.7441479560499557 | precision/_weighted: 0.7486636800174528 | recall/_macro: 0.45869012834720513 | recall/_micro: 0.7441479560499557 | recall/_weighted: 0.7441479560499557\n"
     ]
    },
    {
     "data": {
      "application/vnd.jupyter.widget-view+json": {
       "model_id": "9a44aeb699da4eb4848f2949b5919b92",
       "version_major": 2,
       "version_minor": 0
      },
      "text/plain": [
       "30/30 * Epoch (valid):   0%|          | 0/50 [00:00<?, ?it/s]"
      ]
     },
     "metadata": {},
     "output_type": "display_data"
    },
    {
     "name": "stdout",
     "output_type": "stream",
     "text": [
      "valid (30/30) accuracy: 0.9847247642316634 | accuracy/std: 0.0014221868543398018 | accuracy01: 0.7420382165605093 | accuracy01/std: 0.038366336350175244 | f1/_macro: 0.4516234506766945 | f1/_micro: 0.7420332165942002 | f1/_weighted: 0.7268045860114004 | loss: 1.0476271024934802 | loss/mean: 1.0476271024934802 | loss/std: 0.10264077682426327 | lr: 2.5e-05 | momentum: 0.9 | precision/_macro: 0.6049070151903648 | precision/_micro: 0.7420382165605095 | precision/_weighted: 0.7373464132455082 | recall/_macro: 0.4218579394833971 | recall/_micro: 0.7420382165605095 | recall/_weighted: 0.7420382165605095\n",
      "* Epoch (30/30) lr: 1.25e-05 | momentum: 0.9\n",
      "Top models:\n",
      "logs/resnet18/checkpoints/model.0030.pth\t30.0000\n"
     ]
    }
   ],
   "source": [
    "from catalyst import dl\n",
    "\n",
    "runner = dl.SupervisedRunner()\n",
    "\n",
    "runner.train(\n",
    "    model=model_resnet18,\n",
    "    engine=dl.GPUEngine(\"cuda\"),\n",
    "    optimizer=optimizer,\n",
    "    criterion=nn.CrossEntropyLoss(),\n",
    "    scheduler=scheduler,\n",
    "    callbacks=[\n",
    "        dl.CriterionCallback(input_key=\"logits\", target_key=\"targets\", metric_key=\"loss\"),\n",
    "        dl.BackwardCallback(metric_key=\"loss\"),\n",
    "        dl.OptimizerCallback(metric_key=\"loss\"), \n",
    "        dl.AccuracyCallback(input_key=\"logits\", target_key=\"targets\"),\n",
    "        dl.SchedulerCallback(),\n",
    "        dl.PrecisionRecallF1SupportCallback(\n",
    "            input_key=\"logits\", target_key=\"targets\", num_classes=num_classes, log_on_batch=False\n",
    "        ),\n",
    "        dl.MultilabelAccuracyCallback(\n",
    "            input_key=\"logits\", target_key=\"targets\", threshold=0.5\n",
    "        )\n",
    "    ],\n",
    "    loaders=loaders,\n",
    "    num_epochs=30,\n",
    "    verbose=True,\n",
    "    logdir=\"logs/resnet18\"\n",
    ")"
   ]
  },
  {
   "cell_type": "code",
   "execution_count": 18,
   "id": "5837be40-a746-4a58-b401-f87d85491d79",
   "metadata": {},
   "outputs": [
    {
     "data": {
      "text/html": [
       "\n",
       "      <iframe id=\"tensorboard-frame-c83edd4112cc16df\" width=\"100%\" height=\"800\" frameborder=\"0\">\n",
       "      </iframe>\n",
       "      <script>\n",
       "        (function() {\n",
       "          const frame = document.getElementById(\"tensorboard-frame-c83edd4112cc16df\");\n",
       "          const url = new URL(\"/\", window.location);\n",
       "          const port = 6006;\n",
       "          if (port) {\n",
       "            url.port = port;\n",
       "          }\n",
       "          frame.src = url;\n",
       "        })();\n",
       "      </script>\n",
       "    "
      ],
      "text/plain": [
       "<IPython.core.display.HTML object>"
      ]
     },
     "metadata": {},
     "output_type": "display_data"
    }
   ],
   "source": [
    "%load_ext tensorboard\n",
    "%tensorboard --logdir logs"
   ]
  },
  {
   "cell_type": "code",
   "execution_count": null,
   "id": "f932a4e9-803d-4673-84ad-49f1ad5e3fed",
   "metadata": {},
   "outputs": [],
   "source": []
  }
 ],
 "metadata": {
  "kernelspec": {
   "display_name": "Python 3 (ipykernel)",
   "language": "python",
   "name": "python3"
  },
  "language_info": {
   "codemirror_mode": {
    "name": "ipython",
    "version": 3
   },
   "file_extension": ".py",
   "mimetype": "text/x-python",
   "name": "python",
   "nbconvert_exporter": "python",
   "pygments_lexer": "ipython3",
   "version": "3.10.12"
  }
 },
 "nbformat": 4,
 "nbformat_minor": 5
}
